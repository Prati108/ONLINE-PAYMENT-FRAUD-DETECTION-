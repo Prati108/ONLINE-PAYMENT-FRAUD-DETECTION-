{
 "cells": [
  {
   "cell_type": "code",
   "execution_count": 1,
   "id": "b6fe0fae",
   "metadata": {},
   "outputs": [
    {
     "name": "stdout",
     "output_type": "stream",
     "text": [
      "********************************************ANALYSIS*****************************************************************\n",
      "\n",
      "\t\t\t\tProject topic:-ONLINE PAYMENT FRAUD DETECTION \n",
      "\n",
      "To identify online payment fraud with machine learning, we need to train a machine learning model for classifying fraudulent and non-fraudulent payments. For this, we need a dataset containing information about online payment fraud, so that we can understand what type of transactions lead to fraud. For this task, I collected a dataset from Kaggle, which contains historical information about fraudulent transactions which can be used to detect fraud in online payments.\n",
      "\n",
      "\t(1)Took Data set from kaggle \n",
      "\n",
      "\t(2) I will understand the data and look for useful insights \n",
      "\n",
      "\t(3)I will be doing Exeploratary Data Analysis if needed using Numpy,pandas,matplotlib and seaborn.\n",
      "\n",
      "\t(4)Will be making prediction models using number of machine learning regression algorithms.\n"
     ]
    }
   ],
   "source": [
    "print(\"********************************************ANALYSIS*****************************************************************\\n\\n\\t\\t\\t\\tProject topic:-ONLINE PAYMENT FRAUD DETECTION \\n\\nTo identify online payment fraud with machine learning, we need to train a machine learning model for classifying fraudulent and non-fraudulent payments. For this, we need a dataset containing information about online payment fraud, so that we can understand what type of transactions lead to fraud. For this task, I collected a dataset from Kaggle, which contains historical information about fraudulent transactions which can be used to detect fraud in online payments.\\n\\n\\t(1)Took Data set from kaggle \\n\\n\\t(2) I will understand the data and look for useful insights \\n\\n\\t(3)I will be doing Exeploratary Data Analysis if needed using Numpy,pandas,matplotlib and seaborn.\\n\\n\\t(4)Will be making prediction models using number of machine learning regression algorithms.\")\n"
   ]
  },
  {
   "cell_type": "code",
   "execution_count": 2,
   "id": "50196418",
   "metadata": {},
   "outputs": [],
   "source": [
    "import numpy as np\n",
    "import pandas as pd\n",
    "import matplotlib.pyplot as plt\n",
    "import warnings\n",
    "warnings.filterwarnings(\"ignore\")\n",
    "import seaborn as sns\n",
    "import plotly.express as px"
   ]
  },
  {
   "cell_type": "code",
   "execution_count": 3,
   "id": "07ad0e46",
   "metadata": {},
   "outputs": [],
   "source": [
    "df=pd.read_csv(\"onlinefraud.csv\")"
   ]
  },
  {
   "cell_type": "code",
   "execution_count": 4,
   "id": "cde95e00",
   "metadata": {},
   "outputs": [
    {
     "name": "stdout",
     "output_type": "stream",
     "text": [
      "<class 'pandas.core.frame.DataFrame'>\n",
      "RangeIndex: 6362620 entries, 0 to 6362619\n",
      "Data columns (total 11 columns):\n",
      " #   Column          Dtype  \n",
      "---  ------          -----  \n",
      " 0   step            int64  \n",
      " 1   type            object \n",
      " 2   amount          float64\n",
      " 3   nameOrig        object \n",
      " 4   oldbalanceOrg   float64\n",
      " 5   newbalanceOrig  float64\n",
      " 6   nameDest        object \n",
      " 7   oldbalanceDest  float64\n",
      " 8   newbalanceDest  float64\n",
      " 9   isFraud         int64  \n",
      " 10  isFlaggedFraud  int64  \n",
      "dtypes: float64(5), int64(3), object(3)\n",
      "memory usage: 534.0+ MB\n"
     ]
    }
   ],
   "source": [
    "df.info()"
   ]
  },
  {
   "cell_type": "code",
   "execution_count": 5,
   "id": "204b7b8a",
   "metadata": {},
   "outputs": [
    {
     "name": "stdout",
     "output_type": "stream",
     "text": [
      "*******************************************Data set description****************************************************\n",
      "\n",
      " The onlinefraud csv file contain toal 6362620 rows and 11 columns.The data contain people online transaction information right from the person who started the transaction till the person with whom tha transaction ends.\n",
      "\n",
      " The columns that specifies this information are ( step,type ,amount,nameOrig,oldbalanceOrg,newbalanceOrig,nameDest,oldbalanceDest,newbalanceDest, isFraud ,isFlaggedFraud.)\n",
      "\n",
      " Here data type of all the columns present here are in int or float. The column nameoring,ani namedest has object data type.\n"
     ]
    }
   ],
   "source": [
    "print(\"*******************************************Data set description****************************************************\\n\\n The onlinefraud csv file contain toal 6362620 rows and 11 columns.The data contain people online transaction information right from the person who started the transaction till the person with whom tha transaction ends.\\n\\n The columns that specifies this information are ( step,type ,amount,nameOrig,oldbalanceOrg,newbalanceOrig,nameDest,oldbalanceDest,newbalanceDest, isFraud ,isFlaggedFraud.)\\n\\n Here data type of all the columns present here are in int or float. The column nameoring,ani namedest has object data type.\")\n"
   ]
  },
  {
   "cell_type": "code",
   "execution_count": 6,
   "id": "ab692d61",
   "metadata": {},
   "outputs": [
    {
     "name": "stdout",
     "output_type": "stream",
     "text": [
      "*****************************************************OBJECTIVE*****************************************************************\n",
      "\n",
      "\n",
      "  THE CLASSIFICATION GOAL IS TO FIND OUT WHETHER THE TRANSACTION IS FRAUD OR NOT\n"
     ]
    }
   ],
   "source": [
    "print(\"*****************************************************OBJECTIVE*****************************************************************\\n\\n\\n  THE CLASSIFICATION GOAL IS TO FIND OUT WHETHER THE TRANSACTION IS FRAUD OR NOT\")"
   ]
  },
  {
   "cell_type": "markdown",
   "id": "81ceee59",
   "metadata": {},
   "source": [
    "## what's the features means "
   ]
  },
  {
   "cell_type": "markdown",
   "id": "ac4da445",
   "metadata": {},
   "source": [
    "#step: represents a unit of time where 1 step equals 1 hour\n",
    "\n",
    "#type: type of online transaction\n",
    "\n",
    "#amount: the amount of the transaction\n",
    "\n",
    "#nameOrig: customer starting the transaction\n",
    "\n",
    "#oldbalanceOrg: balance before the transaction\n",
    "\n",
    "#newbalanceOrig: balance after the transaction\n",
    "\n",
    "#nameDest: recipient of the transaction\n",
    "\n",
    "#oldbalanceDest: initial balance of recipient before the transaction\n",
    "\n",
    "#newbalanceDest: the new balance of recipient after the transaction\n",
    "\n",
    "#isFraud: fraud transaction\n",
    "\n"
   ]
  },
  {
   "cell_type": "markdown",
   "id": "83fde736",
   "metadata": {},
   "source": [
    "### Shape of the Data"
   ]
  },
  {
   "cell_type": "code",
   "execution_count": 7,
   "id": "6f338284",
   "metadata": {},
   "outputs": [
    {
     "name": "stdout",
     "output_type": "stream",
     "text": [
      "Total Number of rows : 6362620\n",
      "Total Number of columns : 11\n"
     ]
    }
   ],
   "source": [
    "rows_count, columns_count = df.shape\n",
    "print('Total Number of rows :', rows_count)\n",
    "print('Total Number of columns :', columns_count)"
   ]
  },
  {
   "cell_type": "code",
   "execution_count": 8,
   "id": "c47388b2",
   "metadata": {},
   "outputs": [
    {
     "data": {
      "text/plain": [
       "'Shape of the dataframe is (6362620, 11). There are 6362620 rows and 11 columns in the dataset.'"
      ]
     },
     "execution_count": 8,
     "metadata": {},
     "output_type": "execute_result"
    }
   ],
   "source": [
    "'''Shape of the dataframe is (6362620, 11). There are 6362620 rows and 11 columns in the dataset.'''"
   ]
  },
  {
   "cell_type": "code",
   "execution_count": 9,
   "id": "948f91b4",
   "metadata": {},
   "outputs": [
    {
     "data": {
      "text/html": [
       "<div>\n",
       "<style scoped>\n",
       "    .dataframe tbody tr th:only-of-type {\n",
       "        vertical-align: middle;\n",
       "    }\n",
       "\n",
       "    .dataframe tbody tr th {\n",
       "        vertical-align: top;\n",
       "    }\n",
       "\n",
       "    .dataframe thead th {\n",
       "        text-align: right;\n",
       "    }\n",
       "</style>\n",
       "<table border=\"1\" class=\"dataframe\">\n",
       "  <thead>\n",
       "    <tr style=\"text-align: right;\">\n",
       "      <th></th>\n",
       "      <th>step</th>\n",
       "      <th>type</th>\n",
       "      <th>amount</th>\n",
       "      <th>nameOrig</th>\n",
       "      <th>oldbalanceOrg</th>\n",
       "      <th>newbalanceOrig</th>\n",
       "      <th>nameDest</th>\n",
       "      <th>oldbalanceDest</th>\n",
       "      <th>newbalanceDest</th>\n",
       "      <th>isFraud</th>\n",
       "      <th>isFlaggedFraud</th>\n",
       "    </tr>\n",
       "  </thead>\n",
       "  <tbody>\n",
       "    <tr>\n",
       "      <th>0</th>\n",
       "      <td>1</td>\n",
       "      <td>PAYMENT</td>\n",
       "      <td>9839.64</td>\n",
       "      <td>C1231006815</td>\n",
       "      <td>170136.0</td>\n",
       "      <td>160296.36</td>\n",
       "      <td>M1979787155</td>\n",
       "      <td>0.0</td>\n",
       "      <td>0.0</td>\n",
       "      <td>0</td>\n",
       "      <td>0</td>\n",
       "    </tr>\n",
       "    <tr>\n",
       "      <th>1</th>\n",
       "      <td>1</td>\n",
       "      <td>PAYMENT</td>\n",
       "      <td>1864.28</td>\n",
       "      <td>C1666544295</td>\n",
       "      <td>21249.0</td>\n",
       "      <td>19384.72</td>\n",
       "      <td>M2044282225</td>\n",
       "      <td>0.0</td>\n",
       "      <td>0.0</td>\n",
       "      <td>0</td>\n",
       "      <td>0</td>\n",
       "    </tr>\n",
       "    <tr>\n",
       "      <th>2</th>\n",
       "      <td>1</td>\n",
       "      <td>TRANSFER</td>\n",
       "      <td>181.00</td>\n",
       "      <td>C1305486145</td>\n",
       "      <td>181.0</td>\n",
       "      <td>0.00</td>\n",
       "      <td>C553264065</td>\n",
       "      <td>0.0</td>\n",
       "      <td>0.0</td>\n",
       "      <td>1</td>\n",
       "      <td>0</td>\n",
       "    </tr>\n",
       "    <tr>\n",
       "      <th>3</th>\n",
       "      <td>1</td>\n",
       "      <td>CASH_OUT</td>\n",
       "      <td>181.00</td>\n",
       "      <td>C840083671</td>\n",
       "      <td>181.0</td>\n",
       "      <td>0.00</td>\n",
       "      <td>C38997010</td>\n",
       "      <td>21182.0</td>\n",
       "      <td>0.0</td>\n",
       "      <td>1</td>\n",
       "      <td>0</td>\n",
       "    </tr>\n",
       "    <tr>\n",
       "      <th>4</th>\n",
       "      <td>1</td>\n",
       "      <td>PAYMENT</td>\n",
       "      <td>11668.14</td>\n",
       "      <td>C2048537720</td>\n",
       "      <td>41554.0</td>\n",
       "      <td>29885.86</td>\n",
       "      <td>M1230701703</td>\n",
       "      <td>0.0</td>\n",
       "      <td>0.0</td>\n",
       "      <td>0</td>\n",
       "      <td>0</td>\n",
       "    </tr>\n",
       "  </tbody>\n",
       "</table>\n",
       "</div>"
      ],
      "text/plain": [
       "   step      type    amount     nameOrig  oldbalanceOrg  newbalanceOrig  \\\n",
       "0     1   PAYMENT   9839.64  C1231006815       170136.0       160296.36   \n",
       "1     1   PAYMENT   1864.28  C1666544295        21249.0        19384.72   \n",
       "2     1  TRANSFER    181.00  C1305486145          181.0            0.00   \n",
       "3     1  CASH_OUT    181.00   C840083671          181.0            0.00   \n",
       "4     1   PAYMENT  11668.14  C2048537720        41554.0        29885.86   \n",
       "\n",
       "      nameDest  oldbalanceDest  newbalanceDest  isFraud  isFlaggedFraud  \n",
       "0  M1979787155             0.0             0.0        0               0  \n",
       "1  M2044282225             0.0             0.0        0               0  \n",
       "2   C553264065             0.0             0.0        1               0  \n",
       "3    C38997010         21182.0             0.0        1               0  \n",
       "4  M1230701703             0.0             0.0        0               0  "
      ]
     },
     "execution_count": 9,
     "metadata": {},
     "output_type": "execute_result"
    }
   ],
   "source": [
    "df.head()"
   ]
  },
  {
   "cell_type": "markdown",
   "id": "cc96c877",
   "metadata": {},
   "source": [
    "###  Checking if there is any null values present in dataset"
   ]
  },
  {
   "cell_type": "code",
   "execution_count": 10,
   "id": "bc887828",
   "metadata": {},
   "outputs": [
    {
     "data": {
      "text/plain": [
       "step              0\n",
       "type              0\n",
       "amount            0\n",
       "nameOrig          0\n",
       "oldbalanceOrg     0\n",
       "newbalanceOrig    0\n",
       "nameDest          0\n",
       "oldbalanceDest    0\n",
       "newbalanceDest    0\n",
       "isFraud           0\n",
       "isFlaggedFraud    0\n",
       "dtype: int64"
      ]
     },
     "execution_count": 10,
     "metadata": {},
     "output_type": "execute_result"
    }
   ],
   "source": [
    "df.isnull().sum()"
   ]
  },
  {
   "cell_type": "markdown",
   "id": "0cfebd29",
   "metadata": {},
   "source": [
    "Here total missing values count from each column is 0 and we can see there is no missing value in the dataframe\n"
   ]
  },
  {
   "cell_type": "markdown",
   "id": "12ff2a11",
   "metadata": {},
   "source": [
    "### Missing value Visualization"
   ]
  },
  {
   "cell_type": "code",
   "execution_count": 11,
   "id": "0fd151fb",
   "metadata": {},
   "outputs": [
    {
     "data": {
      "text/plain": [
       "<AxesSubplot:>"
      ]
     },
     "execution_count": 11,
     "metadata": {},
     "output_type": "execute_result"
    },
    {
     "data": {
      "image/png": "[encoded data removed]",
      "text/plain": [
       "<Figure size 640x480 with 1 Axes>"
      ]
     },
     "metadata": {},
     "output_type": "display_data"
    }
   ],
   "source": [
    "sns.heatmap(df.isna(), yticklabels=False, cbar=False, cmap='viridis')"
   ]
  },
  {
   "cell_type": "markdown",
   "id": "c1f61762",
   "metadata": {},
   "source": [
    "From the above heatmap graph we can see that there is no missing value in dataset."
   ]
  },
  {
   "cell_type": "markdown",
   "id": "d2c25332",
   "metadata": {},
   "source": [
    "### Understanding the data"
   ]
  },
  {
   "cell_type": "code",
   "execution_count": 12,
   "id": "0a143936",
   "metadata": {},
   "outputs": [
    {
     "data": {
      "text/plain": [
       "CASH_OUT    2237500\n",
       "PAYMENT     2151495\n",
       "CASH_IN     1399284\n",
       "TRANSFER     532909\n",
       "DEBIT         41432\n",
       "Name: type, dtype: int64"
      ]
     },
     "execution_count": 12,
     "metadata": {},
     "output_type": "execute_result"
    }
   ],
   "source": [
    "df[\"type\"].value_counts()"
   ]
  },
  {
   "cell_type": "markdown",
   "id": "64b69a86",
   "metadata": {},
   "source": [
    "Here i'm checking all the classes present in column type which represents the type of transaction"
   ]
  },
  {
   "cell_type": "markdown",
   "id": "542c3030",
   "metadata": {},
   "source": [
    "Let's see the distribution of the transaction type by using grpah"
   ]
  },
  {
   "cell_type": "code",
   "execution_count": 13,
   "id": "8ca15933",
   "metadata": {},
   "outputs": [
    {
     "data": {
      "image/png": "[encoded data removed]",
      "text/plain": [
       "<Figure size 700x700 with 1 Axes>"
      ]
     },
     "metadata": {},
     "output_type": "display_data"
    }
   ],
   "source": [
    "plt.figure(figsize=(7,7))\n",
    "df['type'].value_counts().plot.pie(autopct='%1.2f%%')\n",
    "plt.title(\"Distribution of Transaction Type\")\n",
    "plt.show()"
   ]
  },
  {
   "cell_type": "code",
   "execution_count": 14,
   "id": "ad93c08b",
   "metadata": {},
   "outputs": [
    {
     "name": "stdout",
     "output_type": "stream",
     "text": [
      "Here we could see the the distribution of Type of transactions are:-\n",
      "\n",
      "\t1) Payment  = 33.81%\n",
      "\n",
      "\t2) Cash Out = 35.17 %\n",
      "\n",
      "\t3) Debit    = 0.65\n",
      "\n",
      "\t4) Transfer = 8.38% \n",
      "\n",
      "\t5) Cash IN  = 21.99%\n",
      "\n",
      "\tThe highest transaction type here is Payment type and the lowest transaction type here is Debit\n"
     ]
    }
   ],
   "source": [
    "print(\"Here we could see the the distribution of Type of transactions are:-\\n\\n\\t1) Payment  = 33.81%\\n\\n\\t2) Cash Out = 35.17 %\\n\\n\\t3) Debit    = 0.65\\n\\n\\t4) Transfer = 8.38% \\n\\n\\t5) Cash IN  = 21.99%\\n\\n\\tThe highest transaction type here is Payment type and the lowest transaction type here is Debit\")"
   ]
  },
  {
   "cell_type": "markdown",
   "id": "e2f2d90b",
   "metadata": {},
   "source": [
    "## checking the target columns value counts to know the classes present in target column."
   ]
  },
  {
   "cell_type": "code",
   "execution_count": 15,
   "id": "13872d44",
   "metadata": {},
   "outputs": [
    {
     "data": {
      "text/plain": [
       "0    6354407\n",
       "1       8213\n",
       "Name: isFraud, dtype: int64"
      ]
     },
     "execution_count": 15,
     "metadata": {},
     "output_type": "execute_result"
    }
   ],
   "source": [
    "df[\"isFraud\"].value_counts()"
   ]
  },
  {
   "cell_type": "markdown",
   "id": "9f06aea5",
   "metadata": {},
   "source": [
    " Here we have 6354407 transaction values which are not a fraud and 8213 transaction values which are fraud"
   ]
  },
  {
   "cell_type": "markdown",
   "id": "68071e1e",
   "metadata": {},
   "source": [
    "## Renaming nameOring to client_id for better understanding"
   ]
  },
  {
   "cell_type": "code",
   "execution_count": 16,
   "id": "4fb06176",
   "metadata": {},
   "outputs": [],
   "source": [
    "df.nameOrig = df.nameOrig.str.replace('C','').astype('int')\n",
    "df.rename(columns = {'nameOrig': 'client_id'}, inplace = True)"
   ]
  },
  {
   "cell_type": "markdown",
   "id": "c8a36571",
   "metadata": {},
   "source": [
    "## checking the 10 largest amount transaction"
   ]
  },
  {
   "cell_type": "code",
   "execution_count": 17,
   "id": "33fbe7e4",
   "metadata": {},
   "outputs": [
    {
     "data": {
      "text/html": [
       "<div>\n",
       "<style scoped>\n",
       "    .dataframe tbody tr th:only-of-type {\n",
       "        vertical-align: middle;\n",
       "    }\n",
       "\n",
       "    .dataframe tbody tr th {\n",
       "        vertical-align: top;\n",
       "    }\n",
       "\n",
       "    .dataframe thead th {\n",
       "        text-align: right;\n",
       "    }\n",
       "</style>\n",
       "<table border=\"1\" class=\"dataframe\">\n",
       "  <thead>\n",
       "    <tr style=\"text-align: right;\">\n",
       "      <th></th>\n",
       "      <th>step</th>\n",
       "      <th>type</th>\n",
       "      <th>amount</th>\n",
       "      <th>client_id</th>\n",
       "      <th>oldbalanceOrg</th>\n",
       "      <th>newbalanceOrig</th>\n",
       "      <th>nameDest</th>\n",
       "      <th>oldbalanceDest</th>\n",
       "      <th>newbalanceDest</th>\n",
       "      <th>isFraud</th>\n",
       "      <th>isFlaggedFraud</th>\n",
       "    </tr>\n",
       "  </thead>\n",
       "  <tbody>\n",
       "    <tr>\n",
       "      <th>3686583</th>\n",
       "      <td>276</td>\n",
       "      <td>TRANSFER</td>\n",
       "      <td>92445516.64</td>\n",
       "      <td>1715283297</td>\n",
       "      <td>0.0</td>\n",
       "      <td>0.0</td>\n",
       "      <td>C439737079</td>\n",
       "      <td>9.595980e+03</td>\n",
       "      <td>9.245511e+07</td>\n",
       "      <td>0</td>\n",
       "      <td>0</td>\n",
       "    </tr>\n",
       "    <tr>\n",
       "      <th>4060598</th>\n",
       "      <td>300</td>\n",
       "      <td>TRANSFER</td>\n",
       "      <td>73823490.36</td>\n",
       "      <td>2127282686</td>\n",
       "      <td>0.0</td>\n",
       "      <td>0.0</td>\n",
       "      <td>C753026640</td>\n",
       "      <td>9.362401e+07</td>\n",
       "      <td>1.674475e+08</td>\n",
       "      <td>0</td>\n",
       "      <td>0</td>\n",
       "    </tr>\n",
       "    <tr>\n",
       "      <th>4146397</th>\n",
       "      <td>303</td>\n",
       "      <td>TRANSFER</td>\n",
       "      <td>71172480.42</td>\n",
       "      <td>2044643633</td>\n",
       "      <td>0.0</td>\n",
       "      <td>0.0</td>\n",
       "      <td>C84111522</td>\n",
       "      <td>1.134615e+08</td>\n",
       "      <td>1.846340e+08</td>\n",
       "      <td>0</td>\n",
       "      <td>0</td>\n",
       "    </tr>\n",
       "    <tr>\n",
       "      <th>3946920</th>\n",
       "      <td>286</td>\n",
       "      <td>TRANSFER</td>\n",
       "      <td>69886731.30</td>\n",
       "      <td>1425667947</td>\n",
       "      <td>0.0</td>\n",
       "      <td>0.0</td>\n",
       "      <td>C167875008</td>\n",
       "      <td>1.515387e+08</td>\n",
       "      <td>2.214254e+08</td>\n",
       "      <td>0</td>\n",
       "      <td>0</td>\n",
       "    </tr>\n",
       "    <tr>\n",
       "      <th>3911956</th>\n",
       "      <td>284</td>\n",
       "      <td>TRANSFER</td>\n",
       "      <td>69337316.27</td>\n",
       "      <td>1584456031</td>\n",
       "      <td>0.0</td>\n",
       "      <td>0.0</td>\n",
       "      <td>C1472140329</td>\n",
       "      <td>1.130072e+08</td>\n",
       "      <td>1.823446e+08</td>\n",
       "      <td>0</td>\n",
       "      <td>0</td>\n",
       "    </tr>\n",
       "    <tr>\n",
       "      <th>3937152</th>\n",
       "      <td>286</td>\n",
       "      <td>TRANSFER</td>\n",
       "      <td>67500761.29</td>\n",
       "      <td>811810230</td>\n",
       "      <td>0.0</td>\n",
       "      <td>0.0</td>\n",
       "      <td>C1757599079</td>\n",
       "      <td>8.635615e+07</td>\n",
       "      <td>1.538569e+08</td>\n",
       "      <td>0</td>\n",
       "      <td>0</td>\n",
       "    </tr>\n",
       "    <tr>\n",
       "      <th>4105338</th>\n",
       "      <td>302</td>\n",
       "      <td>TRANSFER</td>\n",
       "      <td>66761272.21</td>\n",
       "      <td>420748282</td>\n",
       "      <td>0.0</td>\n",
       "      <td>0.0</td>\n",
       "      <td>C1073241084</td>\n",
       "      <td>6.874206e+07</td>\n",
       "      <td>1.355033e+08</td>\n",
       "      <td>0</td>\n",
       "      <td>0</td>\n",
       "    </tr>\n",
       "    <tr>\n",
       "      <th>3892529</th>\n",
       "      <td>284</td>\n",
       "      <td>TRANSFER</td>\n",
       "      <td>64234448.19</td>\n",
       "      <td>1139847449</td>\n",
       "      <td>0.0</td>\n",
       "      <td>0.0</td>\n",
       "      <td>C65111466</td>\n",
       "      <td>6.597691e+07</td>\n",
       "      <td>1.663021e+08</td>\n",
       "      <td>0</td>\n",
       "      <td>0</td>\n",
       "    </tr>\n",
       "    <tr>\n",
       "      <th>3991638</th>\n",
       "      <td>298</td>\n",
       "      <td>TRANSFER</td>\n",
       "      <td>63847992.58</td>\n",
       "      <td>300140823</td>\n",
       "      <td>0.0</td>\n",
       "      <td>0.0</td>\n",
       "      <td>C514940761</td>\n",
       "      <td>7.217149e+07</td>\n",
       "      <td>1.360195e+08</td>\n",
       "      <td>0</td>\n",
       "      <td>0</td>\n",
       "    </tr>\n",
       "    <tr>\n",
       "      <th>4143801</th>\n",
       "      <td>303</td>\n",
       "      <td>TRANSFER</td>\n",
       "      <td>63294839.63</td>\n",
       "      <td>372535854</td>\n",
       "      <td>0.0</td>\n",
       "      <td>0.0</td>\n",
       "      <td>C1871605747</td>\n",
       "      <td>7.512528e+07</td>\n",
       "      <td>1.384201e+08</td>\n",
       "      <td>0</td>\n",
       "      <td>0</td>\n",
       "    </tr>\n",
       "  </tbody>\n",
       "</table>\n",
       "</div>"
      ],
      "text/plain": [
       "         step      type       amount   client_id  oldbalanceOrg  \\\n",
       "3686583   276  TRANSFER  92445516.64  1715283297            0.0   \n",
       "4060598   300  TRANSFER  73823490.36  2127282686            0.0   \n",
       "4146397   303  TRANSFER  71172480.42  2044643633            0.0   \n",
       "3946920   286  TRANSFER  69886731.30  1425667947            0.0   \n",
       "3911956   284  TRANSFER  69337316.27  1584456031            0.0   \n",
       "3937152   286  TRANSFER  67500761.29   811810230            0.0   \n",
       "4105338   302  TRANSFER  66761272.21   420748282            0.0   \n",
       "3892529   284  TRANSFER  64234448.19  1139847449            0.0   \n",
       "3991638   298  TRANSFER  63847992.58   300140823            0.0   \n",
       "4143801   303  TRANSFER  63294839.63   372535854            0.0   \n",
       "\n",
       "         newbalanceOrig     nameDest  oldbalanceDest  newbalanceDest  isFraud  \\\n",
       "3686583             0.0   C439737079    9.595980e+03    9.245511e+07        0   \n",
       "4060598             0.0   C753026640    9.362401e+07    1.674475e+08        0   \n",
       "4146397             0.0    C84111522    1.134615e+08    1.846340e+08        0   \n",
       "3946920             0.0   C167875008    1.515387e+08    2.214254e+08        0   \n",
       "3911956             0.0  C1472140329    1.130072e+08    1.823446e+08        0   \n",
       "3937152             0.0  C1757599079    8.635615e+07    1.538569e+08        0   \n",
       "4105338             0.0  C1073241084    6.874206e+07    1.355033e+08        0   \n",
       "3892529             0.0    C65111466    6.597691e+07    1.663021e+08        0   \n",
       "3991638             0.0   C514940761    7.217149e+07    1.360195e+08        0   \n",
       "4143801             0.0  C1871605747    7.512528e+07    1.384201e+08        0   \n",
       "\n",
       "         isFlaggedFraud  \n",
       "3686583               0  \n",
       "4060598               0  \n",
       "4146397               0  \n",
       "3946920               0  \n",
       "3911956               0  \n",
       "3937152               0  \n",
       "4105338               0  \n",
       "3892529               0  \n",
       "3991638               0  \n",
       "4143801               0  "
      ]
     },
     "execution_count": 17,
     "metadata": {},
     "output_type": "execute_result"
    }
   ],
   "source": [
    "df.nlargest(10, 'amount')"
   ]
  },
  {
   "cell_type": "code",
   "execution_count": 18,
   "id": "f1c9b594",
   "metadata": {},
   "outputs": [
    {
     "name": "stdout",
     "output_type": "stream",
     "text": [
      "Here we could see the 10 largest amount of transfer \n",
      "\n",
      "\t1) The amount transfer by the client_id- 1715283297 is 63294839.63\n",
      "\n",
      "\t2) The amount transfer by the client_id- 2127282686 is 73823490.36\n",
      "\n",
      "\t3) The amount transfer by the client_id-2044643633  is 71172480.42 \n",
      "\n",
      "\t4) The amount transfer by the client_id- 1425667947 is 69886731.30 \n",
      "\n",
      "\t5) The amount transfer by the client_id- 1584456031 is  69337316.27\n",
      "\n",
      "\t6) The amount transfer by the client_id- 811810230 is 67500761.29\n",
      "\n",
      "\t7) The amount transfer by the client_id-420748282  is 66761272.21\n",
      "\n",
      "\t8) The amount transfer by the client_id- 1139847449 is 64234448.19 \n",
      "\n",
      "\t9) The amount transfer by the client_id-300140823  is 63847992.58 \n",
      "\n",
      "\t10) The amount transfer by the client_id- 372535854  is 92445516   \n"
     ]
    }
   ],
   "source": [
    "print(\"Here we could see the 10 largest amount of transfer \\n\\n\\t1) The amount transfer by the client_id- 1715283297 is 63294839.63\\n\\n\\t2) The amount transfer by the client_id- 2127282686 is 73823490.36\\n\\n\\t3) The amount transfer by the client_id-2044643633  is 71172480.42 \\n\\n\\t4) The amount transfer by the client_id- 1425667947 is 69886731.30 \\n\\n\\t5) The amount transfer by the client_id- 1584456031 is  69337316.27\\n\\n\\t6) The amount transfer by the client_id- 811810230 is 67500761.29\\n\\n\\t7) The amount transfer by the client_id-420748282  is 66761272.21\\n\\n\\t8) The amount transfer by the client_id- 1139847449 is 64234448.19 \\n\\n\\t9) The amount transfer by the client_id-300140823  is 63847992.58 \\n\\n\\t10) The amount transfer by the client_id- 372535854  is 92445516   \")"
   ]
  },
  {
   "cell_type": "markdown",
   "id": "27cbf702",
   "metadata": {},
   "source": [
    "## checking the type of transaction done for the largest amount transfer"
   ]
  },
  {
   "cell_type": "code",
   "execution_count": 19,
   "id": "7869c12f",
   "metadata": {},
   "outputs": [
    {
     "data": {
      "text/plain": [
       "3686583    TRANSFER\n",
       "4060598    TRANSFER\n",
       "4146397    TRANSFER\n",
       "3946920    TRANSFER\n",
       "3911956    TRANSFER\n",
       "3937152    TRANSFER\n",
       "4105338    TRANSFER\n",
       "3892529    TRANSFER\n",
       "3991638    TRANSFER\n",
       "4143801    TRANSFER\n",
       "Name: type, dtype: object"
      ]
     },
     "execution_count": 19,
     "metadata": {},
     "output_type": "execute_result"
    }
   ],
   "source": [
    "d = df.nlargest(10, 'amount').type\n",
    "d"
   ]
  },
  {
   "cell_type": "markdown",
   "id": "56dcf33b",
   "metadata": {},
   "source": [
    "\n",
    "As we have seem earlier there are 5 types of transactions are there Payment,Cash_out, Cash_In,Debit,Transfer.Out of all of them here we could see all the transaction done by transfer transaction type"
   ]
  },
  {
   "cell_type": "markdown",
   "id": "75e92733",
   "metadata": {},
   "source": [
    "## lets check if there is any fraudulant activity happened"
   ]
  },
  {
   "cell_type": "code",
   "execution_count": 20,
   "id": "aa7e5153",
   "metadata": {},
   "outputs": [
    {
     "data": {
      "text/plain": [
       "3686583    0\n",
       "4060598    0\n",
       "4146397    0\n",
       "3946920    0\n",
       "3911956    0\n",
       "3937152    0\n",
       "4105338    0\n",
       "3892529    0\n",
       "3991638    0\n",
       "4143801    0\n",
       "Name: isFraud, dtype: int64"
      ]
     },
     "execution_count": 20,
     "metadata": {},
     "output_type": "execute_result"
    }
   ],
   "source": [
    "df.nlargest(10, 'amount').isFraud"
   ]
  },
  {
   "cell_type": "markdown",
   "id": "1d2fca1c",
   "metadata": {},
   "source": [
    "As we can see here there is no fraudulant activity happens in largest amount transfer"
   ]
  },
  {
   "cell_type": "markdown",
   "id": "f4e92b4d",
   "metadata": {},
   "source": [
    "The largest 10 amount of money in transfer transactions are safed. There is no fraudulant activity detected"
   ]
  },
  {
   "cell_type": "markdown",
   "id": "eeabef4e",
   "metadata": {},
   "source": [
    "##  Checking the transaction type of first 100 largest amount"
   ]
  },
  {
   "cell_type": "code",
   "execution_count": 21,
   "id": "b2283ed6",
   "metadata": {},
   "outputs": [
    {
     "data": {
      "text/plain": [
       "Counter({'TRANSFER': 100})"
      ]
     },
     "execution_count": 21,
     "metadata": {},
     "output_type": "execute_result"
    }
   ],
   "source": [
    "from collections import Counter\n",
    "\n",
    "Counter(df.nlargest(100, 'amount').type)"
   ]
  },
  {
   "cell_type": "markdown",
   "id": "bc7032b6",
   "metadata": {},
   "source": [
    " In the largest 100 amount the most used transaction type is Transfer type than any other transaction type"
   ]
  },
  {
   "cell_type": "markdown",
   "id": "f60c3596",
   "metadata": {},
   "source": [
    "## Checking if there is any fraudulant activity is there"
   ]
  },
  {
   "cell_type": "code",
   "execution_count": 22,
   "id": "83b4b633",
   "metadata": {},
   "outputs": [
    {
     "data": {
      "text/plain": [
       "0"
      ]
     },
     "execution_count": 22,
     "metadata": {},
     "output_type": "execute_result"
    }
   ],
   "source": [
    "F = df.nlargest(100, 'amount').isFraud\n",
    "counter = 0\n",
    "if 1 in F.values:\n",
    "    counter +=1\n",
    "counter"
   ]
  },
  {
   "cell_type": "markdown",
   "id": "26f7884e",
   "metadata": {},
   "source": [
    "There is no fraudulant activity is detected.\n",
    "In the largets 100 amount of money it is safe and from that we can conclude that the largest amount of money the transaction nearly has more security than small amounts of money"
   ]
  },
  {
   "cell_type": "markdown",
   "id": "c0310546",
   "metadata": {},
   "source": [
    "## plotting the graph to see the where the largest amount lies"
   ]
  },
  {
   "cell_type": "code",
   "execution_count": 23,
   "id": "1658c21b",
   "metadata": {},
   "outputs": [
    {
     "data": {
      "image/png": "[encoded data removed]",
      "text/plain": [
       "<Figure size 640x480 with 2 Axes>"
      ]
     },
     "metadata": {},
     "output_type": "display_data"
    }
   ],
   "source": [
    "plt.hist2d(data= df, x = 'step', y = 'amount',cmap = 'viridis_r' )\n",
    "plt.colorbar()\n",
    "plt.xlabel('step')\n",
    "plt.ylabel('the amount')\n",
    "plt.show()"
   ]
  },
  {
   "cell_type": "markdown",
   "id": "4a7854aa",
   "metadata": {},
   "source": [
    " Observatiob:--The largest amount between 200 aqnd 300 steps.\n"
   ]
  },
  {
   "cell_type": "markdown",
   "id": "c0526d3a",
   "metadata": {},
   "source": [
    "## Checking the nameDest which is the id of the recipient  client who has got most frequent transaction\n"
   ]
  },
  {
   "cell_type": "code",
   "execution_count": 24,
   "id": "3d29ef67",
   "metadata": {},
   "outputs": [
    {
     "data": {
      "text/plain": [
       "C1286084959    113\n",
       "C985934102     109\n",
       "C665576141     105\n",
       "C2083562754    102\n",
       "C248609774     101\n",
       "C1590550415    101\n",
       "C451111351      99\n",
       "C1789550256     99\n",
       "C1360767589     98\n",
       "C1023714065     97\n",
       "Name: nameDest, dtype: int64"
      ]
     },
     "execution_count": 24,
     "metadata": {},
     "output_type": "execute_result"
    }
   ],
   "source": [
    "n = 10\n",
    "g=df['nameDest'].value_counts()[:n]\n",
    "g"
   ]
  },
  {
   "cell_type": "markdown",
   "id": "c3b0262d",
   "metadata": {},
   "source": [
    " Out of all here we got the top 10 most frequent client recipient id"
   ]
  },
  {
   "cell_type": "markdown",
   "id": "2a0b8dbf",
   "metadata": {},
   "source": [
    "## plotting the graph of the ids of the clients whos transactions are most frequent"
   ]
  },
  {
   "cell_type": "code",
   "execution_count": 25,
   "id": "ddbfa956",
   "metadata": {},
   "outputs": [
    {
     "data": {
      "image/png": "[encoded data removed]",
      "text/plain": [
       "<Figure size 1000x700 with 1 Axes>"
      ]
     },
     "metadata": {},
     "output_type": "display_data"
    }
   ],
   "source": [
    "plt.figure(figsize = [10, 7])\n",
    "sns.barplot(x = df['nameDest'].value_counts()[:n].index, y =df['nameDest'].value_counts()[:n].values)\n",
    "plt.xticks(rotation = 20)\n",
    "plt.title('the most 10 frequent distination clients')\n",
    "plt.show()"
   ]
  },
  {
   "cell_type": "markdown",
   "id": "b49a7587",
   "metadata": {},
   "source": [
    "And as we can  see here the number of times the respective client did the transaction. so now we can check if there is any fraudulent activity done by them  "
   ]
  },
  {
   "cell_type": "markdown",
   "id": "5c4848cc",
   "metadata": {},
   "source": [
    "## Checking all the recipients client ids of the largest amount of money transaction happend frequently are fraud or not\n"
   ]
  },
  {
   "cell_type": "code",
   "execution_count": 26,
   "id": "a61fd8fd",
   "metadata": {},
   "outputs": [
    {
     "data": {
      "text/html": [
       "<div>\n",
       "<style scoped>\n",
       "    .dataframe tbody tr th:only-of-type {\n",
       "        vertical-align: middle;\n",
       "    }\n",
       "\n",
       "    .dataframe tbody tr th {\n",
       "        vertical-align: top;\n",
       "    }\n",
       "\n",
       "    .dataframe thead th {\n",
       "        text-align: right;\n",
       "    }\n",
       "</style>\n",
       "<table border=\"1\" class=\"dataframe\">\n",
       "  <thead>\n",
       "    <tr style=\"text-align: right;\">\n",
       "      <th></th>\n",
       "      <th>step</th>\n",
       "      <th>type</th>\n",
       "      <th>amount</th>\n",
       "      <th>client_id</th>\n",
       "      <th>oldbalanceOrg</th>\n",
       "      <th>newbalanceOrig</th>\n",
       "      <th>nameDest</th>\n",
       "      <th>oldbalanceDest</th>\n",
       "      <th>newbalanceDest</th>\n",
       "      <th>isFraud</th>\n",
       "      <th>isFlaggedFraud</th>\n",
       "    </tr>\n",
       "  </thead>\n",
       "  <tbody>\n",
       "    <tr>\n",
       "      <th>93</th>\n",
       "      <td>1</td>\n",
       "      <td>TRANSFER</td>\n",
       "      <td>583848.46</td>\n",
       "      <td>1839168128</td>\n",
       "      <td>0.00</td>\n",
       "      <td>0.00</td>\n",
       "      <td>C1286084959</td>\n",
       "      <td>667778.00</td>\n",
       "      <td>2107778.11</td>\n",
       "      <td>0</td>\n",
       "      <td>0</td>\n",
       "    </tr>\n",
       "    <tr>\n",
       "      <th>367</th>\n",
       "      <td>1</td>\n",
       "      <td>TRANSFER</td>\n",
       "      <td>176334.26</td>\n",
       "      <td>169880779</td>\n",
       "      <td>45136.00</td>\n",
       "      <td>0.00</td>\n",
       "      <td>C1286084959</td>\n",
       "      <td>1251626.46</td>\n",
       "      <td>2107778.11</td>\n",
       "      <td>0</td>\n",
       "      <td>0</td>\n",
       "    </tr>\n",
       "    <tr>\n",
       "      <th>388</th>\n",
       "      <td>1</td>\n",
       "      <td>CASH_OUT</td>\n",
       "      <td>373068.26</td>\n",
       "      <td>1047934137</td>\n",
       "      <td>20034.00</td>\n",
       "      <td>0.00</td>\n",
       "      <td>C1286084959</td>\n",
       "      <td>1427960.73</td>\n",
       "      <td>2107778.11</td>\n",
       "      <td>0</td>\n",
       "      <td>0</td>\n",
       "    </tr>\n",
       "    <tr>\n",
       "      <th>471</th>\n",
       "      <td>1</td>\n",
       "      <td>CASH_IN</td>\n",
       "      <td>403418.39</td>\n",
       "      <td>848097505</td>\n",
       "      <td>3834666.95</td>\n",
       "      <td>4238085.34</td>\n",
       "      <td>C1286084959</td>\n",
       "      <td>1801028.99</td>\n",
       "      <td>2107778.11</td>\n",
       "      <td>0</td>\n",
       "      <td>0</td>\n",
       "    </tr>\n",
       "    <tr>\n",
       "      <th>642</th>\n",
       "      <td>1</td>\n",
       "      <td>CASH_IN</td>\n",
       "      <td>222126.95</td>\n",
       "      <td>870322840</td>\n",
       "      <td>6688712.64</td>\n",
       "      <td>6910839.59</td>\n",
       "      <td>C1286084959</td>\n",
       "      <td>1397610.60</td>\n",
       "      <td>2107778.11</td>\n",
       "      <td>0</td>\n",
       "      <td>0</td>\n",
       "    </tr>\n",
       "    <tr>\n",
       "      <th>...</th>\n",
       "      <td>...</td>\n",
       "      <td>...</td>\n",
       "      <td>...</td>\n",
       "      <td>...</td>\n",
       "      <td>...</td>\n",
       "      <td>...</td>\n",
       "      <td>...</td>\n",
       "      <td>...</td>\n",
       "      <td>...</td>\n",
       "      <td>...</td>\n",
       "      <td>...</td>\n",
       "    </tr>\n",
       "    <tr>\n",
       "      <th>4810092</th>\n",
       "      <td>346</td>\n",
       "      <td>CASH_OUT</td>\n",
       "      <td>84205.39</td>\n",
       "      <td>86576996</td>\n",
       "      <td>0.00</td>\n",
       "      <td>0.00</td>\n",
       "      <td>C1286084959</td>\n",
       "      <td>61680519.75</td>\n",
       "      <td>61764725.14</td>\n",
       "      <td>0</td>\n",
       "      <td>0</td>\n",
       "    </tr>\n",
       "    <tr>\n",
       "      <th>4832993</th>\n",
       "      <td>347</td>\n",
       "      <td>CASH_OUT</td>\n",
       "      <td>235564.75</td>\n",
       "      <td>1068656420</td>\n",
       "      <td>0.00</td>\n",
       "      <td>0.00</td>\n",
       "      <td>C1286084959</td>\n",
       "      <td>61764725.14</td>\n",
       "      <td>62000289.89</td>\n",
       "      <td>0</td>\n",
       "      <td>0</td>\n",
       "    </tr>\n",
       "    <tr>\n",
       "      <th>5566959</th>\n",
       "      <td>393</td>\n",
       "      <td>CASH_IN</td>\n",
       "      <td>119568.31</td>\n",
       "      <td>1878371174</td>\n",
       "      <td>8348248.96</td>\n",
       "      <td>8467817.28</td>\n",
       "      <td>C1286084959</td>\n",
       "      <td>62000289.89</td>\n",
       "      <td>61880721.58</td>\n",
       "      <td>0</td>\n",
       "      <td>0</td>\n",
       "    </tr>\n",
       "    <tr>\n",
       "      <th>5596560</th>\n",
       "      <td>394</td>\n",
       "      <td>CASH_OUT</td>\n",
       "      <td>381887.53</td>\n",
       "      <td>1789981744</td>\n",
       "      <td>50447.00</td>\n",
       "      <td>0.00</td>\n",
       "      <td>C1286084959</td>\n",
       "      <td>61880721.58</td>\n",
       "      <td>62262609.11</td>\n",
       "      <td>0</td>\n",
       "      <td>0</td>\n",
       "    </tr>\n",
       "    <tr>\n",
       "      <th>5792331</th>\n",
       "      <td>401</td>\n",
       "      <td>CASH_OUT</td>\n",
       "      <td>189251.84</td>\n",
       "      <td>1256632176</td>\n",
       "      <td>22224.00</td>\n",
       "      <td>0.00</td>\n",
       "      <td>C1286084959</td>\n",
       "      <td>62262609.11</td>\n",
       "      <td>62451860.94</td>\n",
       "      <td>0</td>\n",
       "      <td>0</td>\n",
       "    </tr>\n",
       "  </tbody>\n",
       "</table>\n",
       "<p>113 rows × 11 columns</p>\n",
       "</div>"
      ],
      "text/plain": [
       "         step      type     amount   client_id  oldbalanceOrg  newbalanceOrig  \\\n",
       "93          1  TRANSFER  583848.46  1839168128           0.00            0.00   \n",
       "367         1  TRANSFER  176334.26   169880779       45136.00            0.00   \n",
       "388         1  CASH_OUT  373068.26  1047934137       20034.00            0.00   \n",
       "471         1   CASH_IN  403418.39   848097505     3834666.95      4238085.34   \n",
       "642         1   CASH_IN  222126.95   870322840     6688712.64      6910839.59   \n",
       "...       ...       ...        ...         ...            ...             ...   \n",
       "4810092   346  CASH_OUT   84205.39    86576996           0.00            0.00   \n",
       "4832993   347  CASH_OUT  235564.75  1068656420           0.00            0.00   \n",
       "5566959   393   CASH_IN  119568.31  1878371174     8348248.96      8467817.28   \n",
       "5596560   394  CASH_OUT  381887.53  1789981744       50447.00            0.00   \n",
       "5792331   401  CASH_OUT  189251.84  1256632176       22224.00            0.00   \n",
       "\n",
       "            nameDest  oldbalanceDest  newbalanceDest  isFraud  isFlaggedFraud  \n",
       "93       C1286084959       667778.00      2107778.11        0               0  \n",
       "367      C1286084959      1251626.46      2107778.11        0               0  \n",
       "388      C1286084959      1427960.73      2107778.11        0               0  \n",
       "471      C1286084959      1801028.99      2107778.11        0               0  \n",
       "642      C1286084959      1397610.60      2107778.11        0               0  \n",
       "...              ...             ...             ...      ...             ...  \n",
       "4810092  C1286084959     61680519.75     61764725.14        0               0  \n",
       "4832993  C1286084959     61764725.14     62000289.89        0               0  \n",
       "5566959  C1286084959     62000289.89     61880721.58        0               0  \n",
       "5596560  C1286084959     61880721.58     62262609.11        0               0  \n",
       "5792331  C1286084959     62262609.11     62451860.94        0               0  \n",
       "\n",
       "[113 rows x 11 columns]"
      ]
     },
     "execution_count": 26,
     "metadata": {},
     "output_type": "execute_result"
    }
   ],
   "source": [
    "df[df.nameDest == 'C1286084959']"
   ]
  },
  {
   "cell_type": "code",
   "execution_count": null,
   "id": "6499cb03",
   "metadata": {},
   "outputs": [],
   "source": []
  },
  {
   "cell_type": "code",
   "execution_count": 27,
   "id": "0787cd35",
   "metadata": {},
   "outputs": [
    {
     "data": {
      "text/plain": [
       "True    109\n",
       "Name: isFraud, dtype: int64"
      ]
     },
     "execution_count": 27,
     "metadata": {},
     "output_type": "execute_result"
    }
   ],
   "source": [
    "(df[df.nameDest == \"C985934102\"].isFraud==0).value_counts()"
   ]
  },
  {
   "cell_type": "code",
   "execution_count": 28,
   "id": "f6fe3c7e",
   "metadata": {},
   "outputs": [
    {
     "data": {
      "text/html": [
       "<div>\n",
       "<style scoped>\n",
       "    .dataframe tbody tr th:only-of-type {\n",
       "        vertical-align: middle;\n",
       "    }\n",
       "\n",
       "    .dataframe tbody tr th {\n",
       "        vertical-align: top;\n",
       "    }\n",
       "\n",
       "    .dataframe thead th {\n",
       "        text-align: right;\n",
       "    }\n",
       "</style>\n",
       "<table border=\"1\" class=\"dataframe\">\n",
       "  <thead>\n",
       "    <tr style=\"text-align: right;\">\n",
       "      <th></th>\n",
       "      <th>step</th>\n",
       "      <th>type</th>\n",
       "      <th>amount</th>\n",
       "      <th>client_id</th>\n",
       "      <th>oldbalanceOrg</th>\n",
       "      <th>newbalanceOrig</th>\n",
       "      <th>nameDest</th>\n",
       "      <th>oldbalanceDest</th>\n",
       "      <th>newbalanceDest</th>\n",
       "      <th>isFraud</th>\n",
       "      <th>isFlaggedFraud</th>\n",
       "    </tr>\n",
       "  </thead>\n",
       "  <tbody>\n",
       "    <tr>\n",
       "      <th>114</th>\n",
       "      <td>1</td>\n",
       "      <td>CASH_OUT</td>\n",
       "      <td>11648.50</td>\n",
       "      <td>781091365</td>\n",
       "      <td>0.0</td>\n",
       "      <td>0.00</td>\n",
       "      <td>C985934102</td>\n",
       "      <td>260976.00</td>\n",
       "      <td>971418.91</td>\n",
       "      <td>0</td>\n",
       "      <td>0</td>\n",
       "    </tr>\n",
       "    <tr>\n",
       "      <th>188</th>\n",
       "      <td>1</td>\n",
       "      <td>CASH_OUT</td>\n",
       "      <td>191702.06</td>\n",
       "      <td>2052457859</td>\n",
       "      <td>0.0</td>\n",
       "      <td>0.00</td>\n",
       "      <td>C985934102</td>\n",
       "      <td>272624.50</td>\n",
       "      <td>971418.91</td>\n",
       "      <td>0</td>\n",
       "      <td>0</td>\n",
       "    </tr>\n",
       "    <tr>\n",
       "      <th>194</th>\n",
       "      <td>1</td>\n",
       "      <td>CASH_OUT</td>\n",
       "      <td>88834.86</td>\n",
       "      <td>938463537</td>\n",
       "      <td>0.0</td>\n",
       "      <td>0.00</td>\n",
       "      <td>C985934102</td>\n",
       "      <td>464326.57</td>\n",
       "      <td>971418.91</td>\n",
       "      <td>0</td>\n",
       "      <td>0</td>\n",
       "    </tr>\n",
       "    <tr>\n",
       "      <th>210</th>\n",
       "      <td>1</td>\n",
       "      <td>CASH_OUT</td>\n",
       "      <td>503333.79</td>\n",
       "      <td>1640612861</td>\n",
       "      <td>0.0</td>\n",
       "      <td>0.00</td>\n",
       "      <td>C985934102</td>\n",
       "      <td>553161.42</td>\n",
       "      <td>971418.91</td>\n",
       "      <td>0</td>\n",
       "      <td>0</td>\n",
       "    </tr>\n",
       "    <tr>\n",
       "      <th>285</th>\n",
       "      <td>1</td>\n",
       "      <td>CASH_OUT</td>\n",
       "      <td>202624.59</td>\n",
       "      <td>452364286</td>\n",
       "      <td>0.0</td>\n",
       "      <td>0.00</td>\n",
       "      <td>C985934102</td>\n",
       "      <td>1056495.21</td>\n",
       "      <td>971418.91</td>\n",
       "      <td>0</td>\n",
       "      <td>0</td>\n",
       "    </tr>\n",
       "    <tr>\n",
       "      <th>...</th>\n",
       "      <td>...</td>\n",
       "      <td>...</td>\n",
       "      <td>...</td>\n",
       "      <td>...</td>\n",
       "      <td>...</td>\n",
       "      <td>...</td>\n",
       "      <td>...</td>\n",
       "      <td>...</td>\n",
       "      <td>...</td>\n",
       "      <td>...</td>\n",
       "      <td>...</td>\n",
       "    </tr>\n",
       "    <tr>\n",
       "      <th>3874834</th>\n",
       "      <td>283</td>\n",
       "      <td>TRANSFER</td>\n",
       "      <td>2496696.31</td>\n",
       "      <td>1636243227</td>\n",
       "      <td>0.0</td>\n",
       "      <td>0.00</td>\n",
       "      <td>C985934102</td>\n",
       "      <td>12526377.67</td>\n",
       "      <td>15023073.98</td>\n",
       "      <td>0</td>\n",
       "      <td>0</td>\n",
       "    </tr>\n",
       "    <tr>\n",
       "      <th>3933615</th>\n",
       "      <td>285</td>\n",
       "      <td>TRANSFER</td>\n",
       "      <td>2970995.82</td>\n",
       "      <td>979513051</td>\n",
       "      <td>0.0</td>\n",
       "      <td>0.00</td>\n",
       "      <td>C985934102</td>\n",
       "      <td>15023073.98</td>\n",
       "      <td>17994069.80</td>\n",
       "      <td>0</td>\n",
       "      <td>0</td>\n",
       "    </tr>\n",
       "    <tr>\n",
       "      <th>4550309</th>\n",
       "      <td>327</td>\n",
       "      <td>TRANSFER</td>\n",
       "      <td>2975990.37</td>\n",
       "      <td>376960545</td>\n",
       "      <td>0.0</td>\n",
       "      <td>0.00</td>\n",
       "      <td>C985934102</td>\n",
       "      <td>17994069.80</td>\n",
       "      <td>20970060.17</td>\n",
       "      <td>0</td>\n",
       "      <td>0</td>\n",
       "    </tr>\n",
       "    <tr>\n",
       "      <th>5733156</th>\n",
       "      <td>399</td>\n",
       "      <td>CASH_IN</td>\n",
       "      <td>185810.99</td>\n",
       "      <td>706764923</td>\n",
       "      <td>17003.0</td>\n",
       "      <td>202813.99</td>\n",
       "      <td>C985934102</td>\n",
       "      <td>20970060.17</td>\n",
       "      <td>20784249.18</td>\n",
       "      <td>0</td>\n",
       "      <td>0</td>\n",
       "    </tr>\n",
       "    <tr>\n",
       "      <th>6058677</th>\n",
       "      <td>500</td>\n",
       "      <td>CASH_OUT</td>\n",
       "      <td>33113.87</td>\n",
       "      <td>661527041</td>\n",
       "      <td>5558.0</td>\n",
       "      <td>0.00</td>\n",
       "      <td>C985934102</td>\n",
       "      <td>20784249.18</td>\n",
       "      <td>20817363.05</td>\n",
       "      <td>0</td>\n",
       "      <td>0</td>\n",
       "    </tr>\n",
       "  </tbody>\n",
       "</table>\n",
       "<p>109 rows × 11 columns</p>\n",
       "</div>"
      ],
      "text/plain": [
       "         step      type      amount   client_id  oldbalanceOrg  \\\n",
       "114         1  CASH_OUT    11648.50   781091365            0.0   \n",
       "188         1  CASH_OUT   191702.06  2052457859            0.0   \n",
       "194         1  CASH_OUT    88834.86   938463537            0.0   \n",
       "210         1  CASH_OUT   503333.79  1640612861            0.0   \n",
       "285         1  CASH_OUT   202624.59   452364286            0.0   \n",
       "...       ...       ...         ...         ...            ...   \n",
       "3874834   283  TRANSFER  2496696.31  1636243227            0.0   \n",
       "3933615   285  TRANSFER  2970995.82   979513051            0.0   \n",
       "4550309   327  TRANSFER  2975990.37   376960545            0.0   \n",
       "5733156   399   CASH_IN   185810.99   706764923        17003.0   \n",
       "6058677   500  CASH_OUT    33113.87   661527041         5558.0   \n",
       "\n",
       "         newbalanceOrig    nameDest  oldbalanceDest  newbalanceDest  isFraud  \\\n",
       "114                0.00  C985934102       260976.00       971418.91        0   \n",
       "188                0.00  C985934102       272624.50       971418.91        0   \n",
       "194                0.00  C985934102       464326.57       971418.91        0   \n",
       "210                0.00  C985934102       553161.42       971418.91        0   \n",
       "285                0.00  C985934102      1056495.21       971418.91        0   \n",
       "...                 ...         ...             ...             ...      ...   \n",
       "3874834            0.00  C985934102     12526377.67     15023073.98        0   \n",
       "3933615            0.00  C985934102     15023073.98     17994069.80        0   \n",
       "4550309            0.00  C985934102     17994069.80     20970060.17        0   \n",
       "5733156       202813.99  C985934102     20970060.17     20784249.18        0   \n",
       "6058677            0.00  C985934102     20784249.18     20817363.05        0   \n",
       "\n",
       "         isFlaggedFraud  \n",
       "114                   0  \n",
       "188                   0  \n",
       "194                   0  \n",
       "210                   0  \n",
       "285                   0  \n",
       "...                 ...  \n",
       "3874834               0  \n",
       "3933615               0  \n",
       "4550309               0  \n",
       "5733156               0  \n",
       "6058677               0  \n",
       "\n",
       "[109 rows x 11 columns]"
      ]
     },
     "execution_count": 28,
     "metadata": {},
     "output_type": "execute_result"
    }
   ],
   "source": [
    "df[df.nameDest == 'C985934102']"
   ]
  },
  {
   "cell_type": "code",
   "execution_count": 29,
   "id": "ed91e0d7",
   "metadata": {},
   "outputs": [
    {
     "data": {
      "text/html": [
       "<div>\n",
       "<style scoped>\n",
       "    .dataframe tbody tr th:only-of-type {\n",
       "        vertical-align: middle;\n",
       "    }\n",
       "\n",
       "    .dataframe tbody tr th {\n",
       "        vertical-align: top;\n",
       "    }\n",
       "\n",
       "    .dataframe thead th {\n",
       "        text-align: right;\n",
       "    }\n",
       "</style>\n",
       "<table border=\"1\" class=\"dataframe\">\n",
       "  <thead>\n",
       "    <tr style=\"text-align: right;\">\n",
       "      <th></th>\n",
       "      <th>step</th>\n",
       "      <th>type</th>\n",
       "      <th>amount</th>\n",
       "      <th>client_id</th>\n",
       "      <th>oldbalanceOrg</th>\n",
       "      <th>newbalanceOrig</th>\n",
       "      <th>nameDest</th>\n",
       "      <th>oldbalanceDest</th>\n",
       "      <th>newbalanceDest</th>\n",
       "      <th>isFraud</th>\n",
       "      <th>isFlaggedFraud</th>\n",
       "    </tr>\n",
       "  </thead>\n",
       "  <tbody>\n",
       "    <tr>\n",
       "      <th>93</th>\n",
       "      <td>1</td>\n",
       "      <td>TRANSFER</td>\n",
       "      <td>583848.46</td>\n",
       "      <td>1839168128</td>\n",
       "      <td>0.00</td>\n",
       "      <td>0.00</td>\n",
       "      <td>C1286084959</td>\n",
       "      <td>667778.00</td>\n",
       "      <td>2107778.11</td>\n",
       "      <td>0</td>\n",
       "      <td>0</td>\n",
       "    </tr>\n",
       "    <tr>\n",
       "      <th>367</th>\n",
       "      <td>1</td>\n",
       "      <td>TRANSFER</td>\n",
       "      <td>176334.26</td>\n",
       "      <td>169880779</td>\n",
       "      <td>45136.00</td>\n",
       "      <td>0.00</td>\n",
       "      <td>C1286084959</td>\n",
       "      <td>1251626.46</td>\n",
       "      <td>2107778.11</td>\n",
       "      <td>0</td>\n",
       "      <td>0</td>\n",
       "    </tr>\n",
       "    <tr>\n",
       "      <th>388</th>\n",
       "      <td>1</td>\n",
       "      <td>CASH_OUT</td>\n",
       "      <td>373068.26</td>\n",
       "      <td>1047934137</td>\n",
       "      <td>20034.00</td>\n",
       "      <td>0.00</td>\n",
       "      <td>C1286084959</td>\n",
       "      <td>1427960.73</td>\n",
       "      <td>2107778.11</td>\n",
       "      <td>0</td>\n",
       "      <td>0</td>\n",
       "    </tr>\n",
       "    <tr>\n",
       "      <th>471</th>\n",
       "      <td>1</td>\n",
       "      <td>CASH_IN</td>\n",
       "      <td>403418.39</td>\n",
       "      <td>848097505</td>\n",
       "      <td>3834666.95</td>\n",
       "      <td>4238085.34</td>\n",
       "      <td>C1286084959</td>\n",
       "      <td>1801028.99</td>\n",
       "      <td>2107778.11</td>\n",
       "      <td>0</td>\n",
       "      <td>0</td>\n",
       "    </tr>\n",
       "    <tr>\n",
       "      <th>642</th>\n",
       "      <td>1</td>\n",
       "      <td>CASH_IN</td>\n",
       "      <td>222126.95</td>\n",
       "      <td>870322840</td>\n",
       "      <td>6688712.64</td>\n",
       "      <td>6910839.59</td>\n",
       "      <td>C1286084959</td>\n",
       "      <td>1397610.60</td>\n",
       "      <td>2107778.11</td>\n",
       "      <td>0</td>\n",
       "      <td>0</td>\n",
       "    </tr>\n",
       "    <tr>\n",
       "      <th>...</th>\n",
       "      <td>...</td>\n",
       "      <td>...</td>\n",
       "      <td>...</td>\n",
       "      <td>...</td>\n",
       "      <td>...</td>\n",
       "      <td>...</td>\n",
       "      <td>...</td>\n",
       "      <td>...</td>\n",
       "      <td>...</td>\n",
       "      <td>...</td>\n",
       "      <td>...</td>\n",
       "    </tr>\n",
       "    <tr>\n",
       "      <th>4810092</th>\n",
       "      <td>346</td>\n",
       "      <td>CASH_OUT</td>\n",
       "      <td>84205.39</td>\n",
       "      <td>86576996</td>\n",
       "      <td>0.00</td>\n",
       "      <td>0.00</td>\n",
       "      <td>C1286084959</td>\n",
       "      <td>61680519.75</td>\n",
       "      <td>61764725.14</td>\n",
       "      <td>0</td>\n",
       "      <td>0</td>\n",
       "    </tr>\n",
       "    <tr>\n",
       "      <th>4832993</th>\n",
       "      <td>347</td>\n",
       "      <td>CASH_OUT</td>\n",
       "      <td>235564.75</td>\n",
       "      <td>1068656420</td>\n",
       "      <td>0.00</td>\n",
       "      <td>0.00</td>\n",
       "      <td>C1286084959</td>\n",
       "      <td>61764725.14</td>\n",
       "      <td>62000289.89</td>\n",
       "      <td>0</td>\n",
       "      <td>0</td>\n",
       "    </tr>\n",
       "    <tr>\n",
       "      <th>5566959</th>\n",
       "      <td>393</td>\n",
       "      <td>CASH_IN</td>\n",
       "      <td>119568.31</td>\n",
       "      <td>1878371174</td>\n",
       "      <td>8348248.96</td>\n",
       "      <td>8467817.28</td>\n",
       "      <td>C1286084959</td>\n",
       "      <td>62000289.89</td>\n",
       "      <td>61880721.58</td>\n",
       "      <td>0</td>\n",
       "      <td>0</td>\n",
       "    </tr>\n",
       "    <tr>\n",
       "      <th>5596560</th>\n",
       "      <td>394</td>\n",
       "      <td>CASH_OUT</td>\n",
       "      <td>381887.53</td>\n",
       "      <td>1789981744</td>\n",
       "      <td>50447.00</td>\n",
       "      <td>0.00</td>\n",
       "      <td>C1286084959</td>\n",
       "      <td>61880721.58</td>\n",
       "      <td>62262609.11</td>\n",
       "      <td>0</td>\n",
       "      <td>0</td>\n",
       "    </tr>\n",
       "    <tr>\n",
       "      <th>5792331</th>\n",
       "      <td>401</td>\n",
       "      <td>CASH_OUT</td>\n",
       "      <td>189251.84</td>\n",
       "      <td>1256632176</td>\n",
       "      <td>22224.00</td>\n",
       "      <td>0.00</td>\n",
       "      <td>C1286084959</td>\n",
       "      <td>62262609.11</td>\n",
       "      <td>62451860.94</td>\n",
       "      <td>0</td>\n",
       "      <td>0</td>\n",
       "    </tr>\n",
       "  </tbody>\n",
       "</table>\n",
       "<p>113 rows × 11 columns</p>\n",
       "</div>"
      ],
      "text/plain": [
       "         step      type     amount   client_id  oldbalanceOrg  newbalanceOrig  \\\n",
       "93          1  TRANSFER  583848.46  1839168128           0.00            0.00   \n",
       "367         1  TRANSFER  176334.26   169880779       45136.00            0.00   \n",
       "388         1  CASH_OUT  373068.26  1047934137       20034.00            0.00   \n",
       "471         1   CASH_IN  403418.39   848097505     3834666.95      4238085.34   \n",
       "642         1   CASH_IN  222126.95   870322840     6688712.64      6910839.59   \n",
       "...       ...       ...        ...         ...            ...             ...   \n",
       "4810092   346  CASH_OUT   84205.39    86576996           0.00            0.00   \n",
       "4832993   347  CASH_OUT  235564.75  1068656420           0.00            0.00   \n",
       "5566959   393   CASH_IN  119568.31  1878371174     8348248.96      8467817.28   \n",
       "5596560   394  CASH_OUT  381887.53  1789981744       50447.00            0.00   \n",
       "5792331   401  CASH_OUT  189251.84  1256632176       22224.00            0.00   \n",
       "\n",
       "            nameDest  oldbalanceDest  newbalanceDest  isFraud  isFlaggedFraud  \n",
       "93       C1286084959       667778.00      2107778.11        0               0  \n",
       "367      C1286084959      1251626.46      2107778.11        0               0  \n",
       "388      C1286084959      1427960.73      2107778.11        0               0  \n",
       "471      C1286084959      1801028.99      2107778.11        0               0  \n",
       "642      C1286084959      1397610.60      2107778.11        0               0  \n",
       "...              ...             ...             ...      ...             ...  \n",
       "4810092  C1286084959     61680519.75     61764725.14        0               0  \n",
       "4832993  C1286084959     61764725.14     62000289.89        0               0  \n",
       "5566959  C1286084959     62000289.89     61880721.58        0               0  \n",
       "5596560  C1286084959     61880721.58     62262609.11        0               0  \n",
       "5792331  C1286084959     62262609.11     62451860.94        0               0  \n",
       "\n",
       "[113 rows x 11 columns]"
      ]
     },
     "execution_count": 29,
     "metadata": {},
     "output_type": "execute_result"
    }
   ],
   "source": [
    "df[df.nameDest == 'C1286084959']"
   ]
  },
  {
   "cell_type": "code",
   "execution_count": 30,
   "id": "9dd6369c",
   "metadata": {},
   "outputs": [
    {
     "data": {
      "text/plain": [
       "True    113\n",
       "Name: isFraud, dtype: int64"
      ]
     },
     "execution_count": 30,
     "metadata": {},
     "output_type": "execute_result"
    }
   ],
   "source": [
    "(df[df.nameDest == 'C1286084959'].isFraud==0).value_counts()"
   ]
  },
  {
   "cell_type": "code",
   "execution_count": 31,
   "id": "b571ef5b",
   "metadata": {},
   "outputs": [
    {
     "data": {
      "text/html": [
       "<div>\n",
       "<style scoped>\n",
       "    .dataframe tbody tr th:only-of-type {\n",
       "        vertical-align: middle;\n",
       "    }\n",
       "\n",
       "    .dataframe tbody tr th {\n",
       "        vertical-align: top;\n",
       "    }\n",
       "\n",
       "    .dataframe thead th {\n",
       "        text-align: right;\n",
       "    }\n",
       "</style>\n",
       "<table border=\"1\" class=\"dataframe\">\n",
       "  <thead>\n",
       "    <tr style=\"text-align: right;\">\n",
       "      <th></th>\n",
       "      <th>step</th>\n",
       "      <th>type</th>\n",
       "      <th>amount</th>\n",
       "      <th>client_id</th>\n",
       "      <th>oldbalanceOrg</th>\n",
       "      <th>newbalanceOrig</th>\n",
       "      <th>nameDest</th>\n",
       "      <th>oldbalanceDest</th>\n",
       "      <th>newbalanceDest</th>\n",
       "      <th>isFraud</th>\n",
       "      <th>isFlaggedFraud</th>\n",
       "    </tr>\n",
       "  </thead>\n",
       "  <tbody>\n",
       "    <tr>\n",
       "      <th>85</th>\n",
       "      <td>1</td>\n",
       "      <td>TRANSFER</td>\n",
       "      <td>1505626.01</td>\n",
       "      <td>926859124</td>\n",
       "      <td>0.00</td>\n",
       "      <td>0.00</td>\n",
       "      <td>C665576141</td>\n",
       "      <td>29031.00</td>\n",
       "      <td>5515763.34</td>\n",
       "      <td>0</td>\n",
       "      <td>0</td>\n",
       "    </tr>\n",
       "    <tr>\n",
       "      <th>300</th>\n",
       "      <td>1</td>\n",
       "      <td>DEBIT</td>\n",
       "      <td>3428.95</td>\n",
       "      <td>1317375498</td>\n",
       "      <td>147798.00</td>\n",
       "      <td>144369.05</td>\n",
       "      <td>C665576141</td>\n",
       "      <td>1534657.01</td>\n",
       "      <td>5515763.34</td>\n",
       "      <td>0</td>\n",
       "      <td>0</td>\n",
       "    </tr>\n",
       "    <tr>\n",
       "      <th>360</th>\n",
       "      <td>1</td>\n",
       "      <td>TRANSFER</td>\n",
       "      <td>1349670.68</td>\n",
       "      <td>1419332030</td>\n",
       "      <td>0.00</td>\n",
       "      <td>0.00</td>\n",
       "      <td>C665576141</td>\n",
       "      <td>1538085.96</td>\n",
       "      <td>5515763.34</td>\n",
       "      <td>0</td>\n",
       "      <td>0</td>\n",
       "    </tr>\n",
       "    <tr>\n",
       "      <th>454</th>\n",
       "      <td>1</td>\n",
       "      <td>CASH_IN</td>\n",
       "      <td>156922.36</td>\n",
       "      <td>1706272858</td>\n",
       "      <td>1281862.28</td>\n",
       "      <td>1438784.65</td>\n",
       "      <td>C665576141</td>\n",
       "      <td>2887756.64</td>\n",
       "      <td>5515763.34</td>\n",
       "      <td>0</td>\n",
       "      <td>0</td>\n",
       "    </tr>\n",
       "    <tr>\n",
       "      <th>630</th>\n",
       "      <td>1</td>\n",
       "      <td>CASH_IN</td>\n",
       "      <td>106727.81</td>\n",
       "      <td>865858182</td>\n",
       "      <td>4927051.90</td>\n",
       "      <td>5033779.71</td>\n",
       "      <td>C665576141</td>\n",
       "      <td>2730834.27</td>\n",
       "      <td>5515763.34</td>\n",
       "      <td>0</td>\n",
       "      <td>0</td>\n",
       "    </tr>\n",
       "    <tr>\n",
       "      <th>...</th>\n",
       "      <td>...</td>\n",
       "      <td>...</td>\n",
       "      <td>...</td>\n",
       "      <td>...</td>\n",
       "      <td>...</td>\n",
       "      <td>...</td>\n",
       "      <td>...</td>\n",
       "      <td>...</td>\n",
       "      <td>...</td>\n",
       "      <td>...</td>\n",
       "      <td>...</td>\n",
       "    </tr>\n",
       "    <tr>\n",
       "      <th>4021831</th>\n",
       "      <td>299</td>\n",
       "      <td>CASH_IN</td>\n",
       "      <td>39119.26</td>\n",
       "      <td>240652683</td>\n",
       "      <td>8480.00</td>\n",
       "      <td>47599.26</td>\n",
       "      <td>C665576141</td>\n",
       "      <td>27508570.06</td>\n",
       "      <td>27469450.79</td>\n",
       "      <td>0</td>\n",
       "      <td>0</td>\n",
       "    </tr>\n",
       "    <tr>\n",
       "      <th>4484804</th>\n",
       "      <td>324</td>\n",
       "      <td>TRANSFER</td>\n",
       "      <td>23105862.44</td>\n",
       "      <td>1179879087</td>\n",
       "      <td>0.00</td>\n",
       "      <td>0.00</td>\n",
       "      <td>C665576141</td>\n",
       "      <td>27469450.79</td>\n",
       "      <td>70994069.05</td>\n",
       "      <td>0</td>\n",
       "      <td>0</td>\n",
       "    </tr>\n",
       "    <tr>\n",
       "      <th>4497109</th>\n",
       "      <td>325</td>\n",
       "      <td>TRANSFER</td>\n",
       "      <td>20418755.82</td>\n",
       "      <td>890634131</td>\n",
       "      <td>392838.41</td>\n",
       "      <td>0.00</td>\n",
       "      <td>C665576141</td>\n",
       "      <td>50575313.23</td>\n",
       "      <td>70994069.05</td>\n",
       "      <td>0</td>\n",
       "      <td>0</td>\n",
       "    </tr>\n",
       "    <tr>\n",
       "      <th>4622556</th>\n",
       "      <td>329</td>\n",
       "      <td>CASH_OUT</td>\n",
       "      <td>306783.60</td>\n",
       "      <td>1203417664</td>\n",
       "      <td>0.00</td>\n",
       "      <td>0.00</td>\n",
       "      <td>C665576141</td>\n",
       "      <td>70994069.05</td>\n",
       "      <td>71300852.65</td>\n",
       "      <td>0</td>\n",
       "      <td>0</td>\n",
       "    </tr>\n",
       "    <tr>\n",
       "      <th>4864663</th>\n",
       "      <td>348</td>\n",
       "      <td>TRANSFER</td>\n",
       "      <td>1307783.72</td>\n",
       "      <td>1869673614</td>\n",
       "      <td>0.00</td>\n",
       "      <td>0.00</td>\n",
       "      <td>C665576141</td>\n",
       "      <td>71300852.65</td>\n",
       "      <td>72608636.38</td>\n",
       "      <td>0</td>\n",
       "      <td>0</td>\n",
       "    </tr>\n",
       "  </tbody>\n",
       "</table>\n",
       "<p>105 rows × 11 columns</p>\n",
       "</div>"
      ],
      "text/plain": [
       "         step      type       amount   client_id  oldbalanceOrg  \\\n",
       "85          1  TRANSFER   1505626.01   926859124           0.00   \n",
       "300         1     DEBIT      3428.95  1317375498      147798.00   \n",
       "360         1  TRANSFER   1349670.68  1419332030           0.00   \n",
       "454         1   CASH_IN    156922.36  1706272858     1281862.28   \n",
       "630         1   CASH_IN    106727.81   865858182     4927051.90   \n",
       "...       ...       ...          ...         ...            ...   \n",
       "4021831   299   CASH_IN     39119.26   240652683        8480.00   \n",
       "4484804   324  TRANSFER  23105862.44  1179879087           0.00   \n",
       "4497109   325  TRANSFER  20418755.82   890634131      392838.41   \n",
       "4622556   329  CASH_OUT    306783.60  1203417664           0.00   \n",
       "4864663   348  TRANSFER   1307783.72  1869673614           0.00   \n",
       "\n",
       "         newbalanceOrig    nameDest  oldbalanceDest  newbalanceDest  isFraud  \\\n",
       "85                 0.00  C665576141        29031.00      5515763.34        0   \n",
       "300           144369.05  C665576141      1534657.01      5515763.34        0   \n",
       "360                0.00  C665576141      1538085.96      5515763.34        0   \n",
       "454          1438784.65  C665576141      2887756.64      5515763.34        0   \n",
       "630          5033779.71  C665576141      2730834.27      5515763.34        0   \n",
       "...                 ...         ...             ...             ...      ...   \n",
       "4021831        47599.26  C665576141     27508570.06     27469450.79        0   \n",
       "4484804            0.00  C665576141     27469450.79     70994069.05        0   \n",
       "4497109            0.00  C665576141     50575313.23     70994069.05        0   \n",
       "4622556            0.00  C665576141     70994069.05     71300852.65        0   \n",
       "4864663            0.00  C665576141     71300852.65     72608636.38        0   \n",
       "\n",
       "         isFlaggedFraud  \n",
       "85                    0  \n",
       "300                   0  \n",
       "360                   0  \n",
       "454                   0  \n",
       "630                   0  \n",
       "...                 ...  \n",
       "4021831               0  \n",
       "4484804               0  \n",
       "4497109               0  \n",
       "4622556               0  \n",
       "4864663               0  \n",
       "\n",
       "[105 rows x 11 columns]"
      ]
     },
     "execution_count": 31,
     "metadata": {},
     "output_type": "execute_result"
    }
   ],
   "source": [
    "df[df.nameDest == 'C665576141']"
   ]
  },
  {
   "cell_type": "code",
   "execution_count": 32,
   "id": "3337654a",
   "metadata": {},
   "outputs": [
    {
     "data": {
      "text/plain": [
       "True    105\n",
       "Name: isFraud, dtype: int64"
      ]
     },
     "execution_count": 32,
     "metadata": {},
     "output_type": "execute_result"
    }
   ],
   "source": [
    "(df[df.nameDest == 'C665576141'].isFraud==0).value_counts()"
   ]
  },
  {
   "cell_type": "code",
   "execution_count": 33,
   "id": "ecea68f4",
   "metadata": {},
   "outputs": [
    {
     "data": {
      "text/html": [
       "<div>\n",
       "<style scoped>\n",
       "    .dataframe tbody tr th:only-of-type {\n",
       "        vertical-align: middle;\n",
       "    }\n",
       "\n",
       "    .dataframe tbody tr th {\n",
       "        vertical-align: top;\n",
       "    }\n",
       "\n",
       "    .dataframe thead th {\n",
       "        text-align: right;\n",
       "    }\n",
       "</style>\n",
       "<table border=\"1\" class=\"dataframe\">\n",
       "  <thead>\n",
       "    <tr style=\"text-align: right;\">\n",
       "      <th></th>\n",
       "      <th>step</th>\n",
       "      <th>type</th>\n",
       "      <th>amount</th>\n",
       "      <th>client_id</th>\n",
       "      <th>oldbalanceOrg</th>\n",
       "      <th>newbalanceOrig</th>\n",
       "      <th>nameDest</th>\n",
       "      <th>oldbalanceDest</th>\n",
       "      <th>newbalanceDest</th>\n",
       "      <th>isFraud</th>\n",
       "      <th>isFlaggedFraud</th>\n",
       "    </tr>\n",
       "  </thead>\n",
       "  <tbody>\n",
       "    <tr>\n",
       "      <th>169</th>\n",
       "      <td>1</td>\n",
       "      <td>CASH_OUT</td>\n",
       "      <td>89038.75</td>\n",
       "      <td>1233327519</td>\n",
       "      <td>0.00</td>\n",
       "      <td>0.00</td>\n",
       "      <td>C2083562754</td>\n",
       "      <td>189808.00</td>\n",
       "      <td>1186556.81</td>\n",
       "      <td>0</td>\n",
       "      <td>0</td>\n",
       "    </tr>\n",
       "    <tr>\n",
       "      <th>193</th>\n",
       "      <td>1</td>\n",
       "      <td>CASH_OUT</td>\n",
       "      <td>178439.26</td>\n",
       "      <td>1634723627</td>\n",
       "      <td>0.00</td>\n",
       "      <td>0.00</td>\n",
       "      <td>C2083562754</td>\n",
       "      <td>278846.75</td>\n",
       "      <td>1186556.81</td>\n",
       "      <td>0</td>\n",
       "      <td>0</td>\n",
       "    </tr>\n",
       "    <tr>\n",
       "      <th>283</th>\n",
       "      <td>1</td>\n",
       "      <td>CASH_OUT</td>\n",
       "      <td>262392.36</td>\n",
       "      <td>2069500590</td>\n",
       "      <td>0.00</td>\n",
       "      <td>0.00</td>\n",
       "      <td>C2083562754</td>\n",
       "      <td>457286.01</td>\n",
       "      <td>1186556.81</td>\n",
       "      <td>0</td>\n",
       "      <td>0</td>\n",
       "    </tr>\n",
       "    <tr>\n",
       "      <th>390</th>\n",
       "      <td>1</td>\n",
       "      <td>CASH_IN</td>\n",
       "      <td>228451.89</td>\n",
       "      <td>1614133563</td>\n",
       "      <td>143236.26</td>\n",
       "      <td>371688.15</td>\n",
       "      <td>C2083562754</td>\n",
       "      <td>719678.38</td>\n",
       "      <td>1186556.81</td>\n",
       "      <td>0</td>\n",
       "      <td>0</td>\n",
       "    </tr>\n",
       "    <tr>\n",
       "      <th>527</th>\n",
       "      <td>1</td>\n",
       "      <td>CASH_OUT</td>\n",
       "      <td>195314.34</td>\n",
       "      <td>934740803</td>\n",
       "      <td>0.00</td>\n",
       "      <td>0.00</td>\n",
       "      <td>C2083562754</td>\n",
       "      <td>491226.48</td>\n",
       "      <td>1186556.81</td>\n",
       "      <td>0</td>\n",
       "      <td>0</td>\n",
       "    </tr>\n",
       "    <tr>\n",
       "      <th>...</th>\n",
       "      <td>...</td>\n",
       "      <td>...</td>\n",
       "      <td>...</td>\n",
       "      <td>...</td>\n",
       "      <td>...</td>\n",
       "      <td>...</td>\n",
       "      <td>...</td>\n",
       "      <td>...</td>\n",
       "      <td>...</td>\n",
       "      <td>...</td>\n",
       "      <td>...</td>\n",
       "    </tr>\n",
       "    <tr>\n",
       "      <th>4308365</th>\n",
       "      <td>307</td>\n",
       "      <td>CASH_IN</td>\n",
       "      <td>143047.72</td>\n",
       "      <td>345227873</td>\n",
       "      <td>2213385.85</td>\n",
       "      <td>2356433.58</td>\n",
       "      <td>C2083562754</td>\n",
       "      <td>32442862.51</td>\n",
       "      <td>32299814.79</td>\n",
       "      <td>0</td>\n",
       "      <td>0</td>\n",
       "    </tr>\n",
       "    <tr>\n",
       "      <th>4357777</th>\n",
       "      <td>309</td>\n",
       "      <td>CASH_IN</td>\n",
       "      <td>39444.36</td>\n",
       "      <td>2038311171</td>\n",
       "      <td>3059547.24</td>\n",
       "      <td>3098991.60</td>\n",
       "      <td>C2083562754</td>\n",
       "      <td>32299814.79</td>\n",
       "      <td>32260370.42</td>\n",
       "      <td>0</td>\n",
       "      <td>0</td>\n",
       "    </tr>\n",
       "    <tr>\n",
       "      <th>4593262</th>\n",
       "      <td>328</td>\n",
       "      <td>CASH_IN</td>\n",
       "      <td>221145.16</td>\n",
       "      <td>1559357289</td>\n",
       "      <td>24316.00</td>\n",
       "      <td>245461.16</td>\n",
       "      <td>C2083562754</td>\n",
       "      <td>32260370.42</td>\n",
       "      <td>32039225.26</td>\n",
       "      <td>0</td>\n",
       "      <td>0</td>\n",
       "    </tr>\n",
       "    <tr>\n",
       "      <th>5330543</th>\n",
       "      <td>374</td>\n",
       "      <td>TRANSFER</td>\n",
       "      <td>7614459.07</td>\n",
       "      <td>2005206705</td>\n",
       "      <td>0.00</td>\n",
       "      <td>0.00</td>\n",
       "      <td>C2083562754</td>\n",
       "      <td>32039225.26</td>\n",
       "      <td>39653684.33</td>\n",
       "      <td>0</td>\n",
       "      <td>0</td>\n",
       "    </tr>\n",
       "    <tr>\n",
       "      <th>6327971</th>\n",
       "      <td>688</td>\n",
       "      <td>CASH_OUT</td>\n",
       "      <td>246006.82</td>\n",
       "      <td>203482352</td>\n",
       "      <td>0.00</td>\n",
       "      <td>0.00</td>\n",
       "      <td>C2083562754</td>\n",
       "      <td>39653684.33</td>\n",
       "      <td>39899691.15</td>\n",
       "      <td>0</td>\n",
       "      <td>0</td>\n",
       "    </tr>\n",
       "  </tbody>\n",
       "</table>\n",
       "<p>102 rows × 11 columns</p>\n",
       "</div>"
      ],
      "text/plain": [
       "         step      type      amount   client_id  oldbalanceOrg  \\\n",
       "169         1  CASH_OUT    89038.75  1233327519           0.00   \n",
       "193         1  CASH_OUT   178439.26  1634723627           0.00   \n",
       "283         1  CASH_OUT   262392.36  2069500590           0.00   \n",
       "390         1   CASH_IN   228451.89  1614133563      143236.26   \n",
       "527         1  CASH_OUT   195314.34   934740803           0.00   \n",
       "...       ...       ...         ...         ...            ...   \n",
       "4308365   307   CASH_IN   143047.72   345227873     2213385.85   \n",
       "4357777   309   CASH_IN    39444.36  2038311171     3059547.24   \n",
       "4593262   328   CASH_IN   221145.16  1559357289       24316.00   \n",
       "5330543   374  TRANSFER  7614459.07  2005206705           0.00   \n",
       "6327971   688  CASH_OUT   246006.82   203482352           0.00   \n",
       "\n",
       "         newbalanceOrig     nameDest  oldbalanceDest  newbalanceDest  isFraud  \\\n",
       "169                0.00  C2083562754       189808.00      1186556.81        0   \n",
       "193                0.00  C2083562754       278846.75      1186556.81        0   \n",
       "283                0.00  C2083562754       457286.01      1186556.81        0   \n",
       "390           371688.15  C2083562754       719678.38      1186556.81        0   \n",
       "527                0.00  C2083562754       491226.48      1186556.81        0   \n",
       "...                 ...          ...             ...             ...      ...   \n",
       "4308365      2356433.58  C2083562754     32442862.51     32299814.79        0   \n",
       "4357777      3098991.60  C2083562754     32299814.79     32260370.42        0   \n",
       "4593262       245461.16  C2083562754     32260370.42     32039225.26        0   \n",
       "5330543            0.00  C2083562754     32039225.26     39653684.33        0   \n",
       "6327971            0.00  C2083562754     39653684.33     39899691.15        0   \n",
       "\n",
       "         isFlaggedFraud  \n",
       "169                   0  \n",
       "193                   0  \n",
       "283                   0  \n",
       "390                   0  \n",
       "527                   0  \n",
       "...                 ...  \n",
       "4308365               0  \n",
       "4357777               0  \n",
       "4593262               0  \n",
       "5330543               0  \n",
       "6327971               0  \n",
       "\n",
       "[102 rows x 11 columns]"
      ]
     },
     "execution_count": 33,
     "metadata": {},
     "output_type": "execute_result"
    }
   ],
   "source": [
    "df[df.nameDest == 'C2083562754']"
   ]
  },
  {
   "cell_type": "code",
   "execution_count": 34,
   "id": "0e232a24",
   "metadata": {},
   "outputs": [
    {
     "data": {
      "text/plain": [
       "True    102\n",
       "Name: isFraud, dtype: int64"
      ]
     },
     "execution_count": 34,
     "metadata": {},
     "output_type": "execute_result"
    }
   ],
   "source": [
    "(df[df.nameDest == \"C2083562754\"].isFraud==0).value_counts()"
   ]
  },
  {
   "cell_type": "code",
   "execution_count": 35,
   "id": "70e939bc",
   "metadata": {},
   "outputs": [
    {
     "data": {
      "text/html": [
       "<div>\n",
       "<style scoped>\n",
       "    .dataframe tbody tr th:only-of-type {\n",
       "        vertical-align: middle;\n",
       "    }\n",
       "\n",
       "    .dataframe tbody tr th {\n",
       "        vertical-align: top;\n",
       "    }\n",
       "\n",
       "    .dataframe thead th {\n",
       "        text-align: right;\n",
       "    }\n",
       "</style>\n",
       "<table border=\"1\" class=\"dataframe\">\n",
       "  <thead>\n",
       "    <tr style=\"text-align: right;\">\n",
       "      <th></th>\n",
       "      <th>step</th>\n",
       "      <th>type</th>\n",
       "      <th>amount</th>\n",
       "      <th>client_id</th>\n",
       "      <th>oldbalanceOrg</th>\n",
       "      <th>newbalanceOrig</th>\n",
       "      <th>nameDest</th>\n",
       "      <th>oldbalanceDest</th>\n",
       "      <th>newbalanceDest</th>\n",
       "      <th>isFraud</th>\n",
       "      <th>isFlaggedFraud</th>\n",
       "    </tr>\n",
       "  </thead>\n",
       "  <tbody>\n",
       "    <tr>\n",
       "      <th>48</th>\n",
       "      <td>1</td>\n",
       "      <td>CASH_OUT</td>\n",
       "      <td>5346.89</td>\n",
       "      <td>512549200</td>\n",
       "      <td>0.00</td>\n",
       "      <td>0.00</td>\n",
       "      <td>C248609774</td>\n",
       "      <td>652637.00</td>\n",
       "      <td>6453430.91</td>\n",
       "      <td>0</td>\n",
       "      <td>0</td>\n",
       "    </tr>\n",
       "    <tr>\n",
       "      <th>197</th>\n",
       "      <td>1</td>\n",
       "      <td>CASH_OUT</td>\n",
       "      <td>82691.56</td>\n",
       "      <td>1620409359</td>\n",
       "      <td>0.00</td>\n",
       "      <td>0.00</td>\n",
       "      <td>C248609774</td>\n",
       "      <td>657983.89</td>\n",
       "      <td>6453430.91</td>\n",
       "      <td>0</td>\n",
       "      <td>0</td>\n",
       "    </tr>\n",
       "    <tr>\n",
       "      <th>372</th>\n",
       "      <td>1</td>\n",
       "      <td>TRANSFER</td>\n",
       "      <td>438437.09</td>\n",
       "      <td>977160959</td>\n",
       "      <td>0.00</td>\n",
       "      <td>0.00</td>\n",
       "      <td>C248609774</td>\n",
       "      <td>740675.45</td>\n",
       "      <td>6453430.91</td>\n",
       "      <td>0</td>\n",
       "      <td>0</td>\n",
       "    </tr>\n",
       "    <tr>\n",
       "      <th>383</th>\n",
       "      <td>1</td>\n",
       "      <td>TRANSFER</td>\n",
       "      <td>955855.00</td>\n",
       "      <td>94830685</td>\n",
       "      <td>0.00</td>\n",
       "      <td>0.00</td>\n",
       "      <td>C248609774</td>\n",
       "      <td>1179112.54</td>\n",
       "      <td>6453430.91</td>\n",
       "      <td>0</td>\n",
       "      <td>0</td>\n",
       "    </tr>\n",
       "    <tr>\n",
       "      <th>802</th>\n",
       "      <td>1</td>\n",
       "      <td>TRANSFER</td>\n",
       "      <td>969631.31</td>\n",
       "      <td>2144067911</td>\n",
       "      <td>0.00</td>\n",
       "      <td>0.00</td>\n",
       "      <td>C248609774</td>\n",
       "      <td>2134967.54</td>\n",
       "      <td>6453430.91</td>\n",
       "      <td>0</td>\n",
       "      <td>0</td>\n",
       "    </tr>\n",
       "    <tr>\n",
       "      <th>...</th>\n",
       "      <td>...</td>\n",
       "      <td>...</td>\n",
       "      <td>...</td>\n",
       "      <td>...</td>\n",
       "      <td>...</td>\n",
       "      <td>...</td>\n",
       "      <td>...</td>\n",
       "      <td>...</td>\n",
       "      <td>...</td>\n",
       "      <td>...</td>\n",
       "      <td>...</td>\n",
       "    </tr>\n",
       "    <tr>\n",
       "      <th>4476709</th>\n",
       "      <td>324</td>\n",
       "      <td>CASH_IN</td>\n",
       "      <td>281867.16</td>\n",
       "      <td>1483653893</td>\n",
       "      <td>4165861.47</td>\n",
       "      <td>4447728.63</td>\n",
       "      <td>C248609774</td>\n",
       "      <td>26726346.35</td>\n",
       "      <td>26444479.20</td>\n",
       "      <td>0</td>\n",
       "      <td>0</td>\n",
       "    </tr>\n",
       "    <tr>\n",
       "      <th>4748477</th>\n",
       "      <td>333</td>\n",
       "      <td>TRANSFER</td>\n",
       "      <td>707741.52</td>\n",
       "      <td>1489120585</td>\n",
       "      <td>0.00</td>\n",
       "      <td>0.00</td>\n",
       "      <td>C248609774</td>\n",
       "      <td>26444479.20</td>\n",
       "      <td>27152220.72</td>\n",
       "      <td>0</td>\n",
       "      <td>0</td>\n",
       "    </tr>\n",
       "    <tr>\n",
       "      <th>5118049</th>\n",
       "      <td>356</td>\n",
       "      <td>CASH_IN</td>\n",
       "      <td>20470.18</td>\n",
       "      <td>211118418</td>\n",
       "      <td>55073.00</td>\n",
       "      <td>75543.18</td>\n",
       "      <td>C248609774</td>\n",
       "      <td>27152220.72</td>\n",
       "      <td>27131750.54</td>\n",
       "      <td>0</td>\n",
       "      <td>0</td>\n",
       "    </tr>\n",
       "    <tr>\n",
       "      <th>5404769</th>\n",
       "      <td>377</td>\n",
       "      <td>CASH_IN</td>\n",
       "      <td>173399.60</td>\n",
       "      <td>1684616792</td>\n",
       "      <td>11112856.30</td>\n",
       "      <td>11286255.90</td>\n",
       "      <td>C248609774</td>\n",
       "      <td>27131750.54</td>\n",
       "      <td>26958350.93</td>\n",
       "      <td>0</td>\n",
       "      <td>0</td>\n",
       "    </tr>\n",
       "    <tr>\n",
       "      <th>5419581</th>\n",
       "      <td>378</td>\n",
       "      <td>CASH_IN</td>\n",
       "      <td>487543.41</td>\n",
       "      <td>465603210</td>\n",
       "      <td>2166125.11</td>\n",
       "      <td>2653668.52</td>\n",
       "      <td>C248609774</td>\n",
       "      <td>26958350.93</td>\n",
       "      <td>26470807.52</td>\n",
       "      <td>0</td>\n",
       "      <td>0</td>\n",
       "    </tr>\n",
       "  </tbody>\n",
       "</table>\n",
       "<p>101 rows × 11 columns</p>\n",
       "</div>"
      ],
      "text/plain": [
       "         step      type     amount   client_id  oldbalanceOrg  newbalanceOrig  \\\n",
       "48          1  CASH_OUT    5346.89   512549200           0.00            0.00   \n",
       "197         1  CASH_OUT   82691.56  1620409359           0.00            0.00   \n",
       "372         1  TRANSFER  438437.09   977160959           0.00            0.00   \n",
       "383         1  TRANSFER  955855.00    94830685           0.00            0.00   \n",
       "802         1  TRANSFER  969631.31  2144067911           0.00            0.00   \n",
       "...       ...       ...        ...         ...            ...             ...   \n",
       "4476709   324   CASH_IN  281867.16  1483653893     4165861.47      4447728.63   \n",
       "4748477   333  TRANSFER  707741.52  1489120585           0.00            0.00   \n",
       "5118049   356   CASH_IN   20470.18   211118418       55073.00        75543.18   \n",
       "5404769   377   CASH_IN  173399.60  1684616792    11112856.30     11286255.90   \n",
       "5419581   378   CASH_IN  487543.41   465603210     2166125.11      2653668.52   \n",
       "\n",
       "           nameDest  oldbalanceDest  newbalanceDest  isFraud  isFlaggedFraud  \n",
       "48       C248609774       652637.00      6453430.91        0               0  \n",
       "197      C248609774       657983.89      6453430.91        0               0  \n",
       "372      C248609774       740675.45      6453430.91        0               0  \n",
       "383      C248609774      1179112.54      6453430.91        0               0  \n",
       "802      C248609774      2134967.54      6453430.91        0               0  \n",
       "...             ...             ...             ...      ...             ...  \n",
       "4476709  C248609774     26726346.35     26444479.20        0               0  \n",
       "4748477  C248609774     26444479.20     27152220.72        0               0  \n",
       "5118049  C248609774     27152220.72     27131750.54        0               0  \n",
       "5404769  C248609774     27131750.54     26958350.93        0               0  \n",
       "5419581  C248609774     26958350.93     26470807.52        0               0  \n",
       "\n",
       "[101 rows x 11 columns]"
      ]
     },
     "execution_count": 35,
     "metadata": {},
     "output_type": "execute_result"
    }
   ],
   "source": [
    "df[df.nameDest == 'C248609774']"
   ]
  },
  {
   "cell_type": "code",
   "execution_count": 36,
   "id": "4f5d4921",
   "metadata": {},
   "outputs": [
    {
     "data": {
      "text/plain": [
       "True    101\n",
       "Name: isFraud, dtype: int64"
      ]
     },
     "execution_count": 36,
     "metadata": {},
     "output_type": "execute_result"
    }
   ],
   "source": [
    "(df[df.nameDest == \"C248609774\"].isFraud==0).value_counts()"
   ]
  },
  {
   "cell_type": "code",
   "execution_count": 37,
   "id": "d1df85c4",
   "metadata": {},
   "outputs": [
    {
     "data": {
      "text/html": [
       "<div>\n",
       "<style scoped>\n",
       "    .dataframe tbody tr th:only-of-type {\n",
       "        vertical-align: middle;\n",
       "    }\n",
       "\n",
       "    .dataframe tbody tr th {\n",
       "        vertical-align: top;\n",
       "    }\n",
       "\n",
       "    .dataframe thead th {\n",
       "        text-align: right;\n",
       "    }\n",
       "</style>\n",
       "<table border=\"1\" class=\"dataframe\">\n",
       "  <thead>\n",
       "    <tr style=\"text-align: right;\">\n",
       "      <th></th>\n",
       "      <th>step</th>\n",
       "      <th>type</th>\n",
       "      <th>amount</th>\n",
       "      <th>client_id</th>\n",
       "      <th>oldbalanceOrg</th>\n",
       "      <th>newbalanceOrig</th>\n",
       "      <th>nameDest</th>\n",
       "      <th>oldbalanceDest</th>\n",
       "      <th>newbalanceDest</th>\n",
       "      <th>isFraud</th>\n",
       "      <th>isFlaggedFraud</th>\n",
       "    </tr>\n",
       "  </thead>\n",
       "  <tbody>\n",
       "    <tr>\n",
       "      <th>84</th>\n",
       "      <td>1</td>\n",
       "      <td>TRANSFER</td>\n",
       "      <td>379856.23</td>\n",
       "      <td>1449772539</td>\n",
       "      <td>0.00</td>\n",
       "      <td>0.00</td>\n",
       "      <td>C1590550415</td>\n",
       "      <td>900180.00</td>\n",
       "      <td>19169204.93</td>\n",
       "      <td>0</td>\n",
       "      <td>0</td>\n",
       "    </tr>\n",
       "    <tr>\n",
       "      <th>88</th>\n",
       "      <td>1</td>\n",
       "      <td>TRANSFER</td>\n",
       "      <td>761507.39</td>\n",
       "      <td>412788346</td>\n",
       "      <td>0.00</td>\n",
       "      <td>0.00</td>\n",
       "      <td>C1590550415</td>\n",
       "      <td>1280036.23</td>\n",
       "      <td>19169204.93</td>\n",
       "      <td>0</td>\n",
       "      <td>0</td>\n",
       "    </tr>\n",
       "    <tr>\n",
       "      <th>89</th>\n",
       "      <td>1</td>\n",
       "      <td>TRANSFER</td>\n",
       "      <td>1429051.47</td>\n",
       "      <td>1520267010</td>\n",
       "      <td>0.00</td>\n",
       "      <td>0.00</td>\n",
       "      <td>C1590550415</td>\n",
       "      <td>2041543.62</td>\n",
       "      <td>19169204.93</td>\n",
       "      <td>0</td>\n",
       "      <td>0</td>\n",
       "    </tr>\n",
       "    <tr>\n",
       "      <th>94</th>\n",
       "      <td>1</td>\n",
       "      <td>TRANSFER</td>\n",
       "      <td>1724887.05</td>\n",
       "      <td>1495608502</td>\n",
       "      <td>0.00</td>\n",
       "      <td>0.00</td>\n",
       "      <td>C1590550415</td>\n",
       "      <td>3470595.10</td>\n",
       "      <td>19169204.93</td>\n",
       "      <td>0</td>\n",
       "      <td>0</td>\n",
       "    </tr>\n",
       "    <tr>\n",
       "      <th>96</th>\n",
       "      <td>1</td>\n",
       "      <td>TRANSFER</td>\n",
       "      <td>581294.26</td>\n",
       "      <td>843299092</td>\n",
       "      <td>0.00</td>\n",
       "      <td>0.00</td>\n",
       "      <td>C1590550415</td>\n",
       "      <td>5195482.15</td>\n",
       "      <td>19169204.93</td>\n",
       "      <td>0</td>\n",
       "      <td>0</td>\n",
       "    </tr>\n",
       "    <tr>\n",
       "      <th>...</th>\n",
       "      <td>...</td>\n",
       "      <td>...</td>\n",
       "      <td>...</td>\n",
       "      <td>...</td>\n",
       "      <td>...</td>\n",
       "      <td>...</td>\n",
       "      <td>...</td>\n",
       "      <td>...</td>\n",
       "      <td>...</td>\n",
       "      <td>...</td>\n",
       "      <td>...</td>\n",
       "    </tr>\n",
       "    <tr>\n",
       "      <th>4054753</th>\n",
       "      <td>300</td>\n",
       "      <td>CASH_OUT</td>\n",
       "      <td>419640.73</td>\n",
       "      <td>866077160</td>\n",
       "      <td>0.00</td>\n",
       "      <td>0.00</td>\n",
       "      <td>C1590550415</td>\n",
       "      <td>27377616.86</td>\n",
       "      <td>27797257.59</td>\n",
       "      <td>0</td>\n",
       "      <td>0</td>\n",
       "    </tr>\n",
       "    <tr>\n",
       "      <th>4260486</th>\n",
       "      <td>306</td>\n",
       "      <td>CASH_IN</td>\n",
       "      <td>151252.31</td>\n",
       "      <td>1590495274</td>\n",
       "      <td>872.00</td>\n",
       "      <td>152124.31</td>\n",
       "      <td>C1590550415</td>\n",
       "      <td>27797257.59</td>\n",
       "      <td>27646005.28</td>\n",
       "      <td>0</td>\n",
       "      <td>0</td>\n",
       "    </tr>\n",
       "    <tr>\n",
       "      <th>4601350</th>\n",
       "      <td>329</td>\n",
       "      <td>CASH_OUT</td>\n",
       "      <td>324673.50</td>\n",
       "      <td>1473396395</td>\n",
       "      <td>104257.00</td>\n",
       "      <td>0.00</td>\n",
       "      <td>C1590550415</td>\n",
       "      <td>27646005.28</td>\n",
       "      <td>27970678.78</td>\n",
       "      <td>0</td>\n",
       "      <td>0</td>\n",
       "    </tr>\n",
       "    <tr>\n",
       "      <th>5795619</th>\n",
       "      <td>401</td>\n",
       "      <td>CASH_OUT</td>\n",
       "      <td>239378.92</td>\n",
       "      <td>1876585826</td>\n",
       "      <td>0.00</td>\n",
       "      <td>0.00</td>\n",
       "      <td>C1590550415</td>\n",
       "      <td>27970678.78</td>\n",
       "      <td>28210057.70</td>\n",
       "      <td>0</td>\n",
       "      <td>0</td>\n",
       "    </tr>\n",
       "    <tr>\n",
       "      <th>5922357</th>\n",
       "      <td>404</td>\n",
       "      <td>CASH_IN</td>\n",
       "      <td>342830.58</td>\n",
       "      <td>1910921674</td>\n",
       "      <td>5107095.72</td>\n",
       "      <td>5449926.30</td>\n",
       "      <td>C1590550415</td>\n",
       "      <td>28210057.70</td>\n",
       "      <td>27867227.13</td>\n",
       "      <td>0</td>\n",
       "      <td>0</td>\n",
       "    </tr>\n",
       "  </tbody>\n",
       "</table>\n",
       "<p>101 rows × 11 columns</p>\n",
       "</div>"
      ],
      "text/plain": [
       "         step      type      amount   client_id  oldbalanceOrg  \\\n",
       "84          1  TRANSFER   379856.23  1449772539           0.00   \n",
       "88          1  TRANSFER   761507.39   412788346           0.00   \n",
       "89          1  TRANSFER  1429051.47  1520267010           0.00   \n",
       "94          1  TRANSFER  1724887.05  1495608502           0.00   \n",
       "96          1  TRANSFER   581294.26   843299092           0.00   \n",
       "...       ...       ...         ...         ...            ...   \n",
       "4054753   300  CASH_OUT   419640.73   866077160           0.00   \n",
       "4260486   306   CASH_IN   151252.31  1590495274         872.00   \n",
       "4601350   329  CASH_OUT   324673.50  1473396395      104257.00   \n",
       "5795619   401  CASH_OUT   239378.92  1876585826           0.00   \n",
       "5922357   404   CASH_IN   342830.58  1910921674     5107095.72   \n",
       "\n",
       "         newbalanceOrig     nameDest  oldbalanceDest  newbalanceDest  isFraud  \\\n",
       "84                 0.00  C1590550415       900180.00     19169204.93        0   \n",
       "88                 0.00  C1590550415      1280036.23     19169204.93        0   \n",
       "89                 0.00  C1590550415      2041543.62     19169204.93        0   \n",
       "94                 0.00  C1590550415      3470595.10     19169204.93        0   \n",
       "96                 0.00  C1590550415      5195482.15     19169204.93        0   \n",
       "...                 ...          ...             ...             ...      ...   \n",
       "4054753            0.00  C1590550415     27377616.86     27797257.59        0   \n",
       "4260486       152124.31  C1590550415     27797257.59     27646005.28        0   \n",
       "4601350            0.00  C1590550415     27646005.28     27970678.78        0   \n",
       "5795619            0.00  C1590550415     27970678.78     28210057.70        0   \n",
       "5922357      5449926.30  C1590550415     28210057.70     27867227.13        0   \n",
       "\n",
       "         isFlaggedFraud  \n",
       "84                    0  \n",
       "88                    0  \n",
       "89                    0  \n",
       "94                    0  \n",
       "96                    0  \n",
       "...                 ...  \n",
       "4054753               0  \n",
       "4260486               0  \n",
       "4601350               0  \n",
       "5795619               0  \n",
       "5922357               0  \n",
       "\n",
       "[101 rows x 11 columns]"
      ]
     },
     "execution_count": 37,
     "metadata": {},
     "output_type": "execute_result"
    }
   ],
   "source": [
    "df[df.nameDest == 'C1590550415']"
   ]
  },
  {
   "cell_type": "code",
   "execution_count": 38,
   "id": "d08534e9",
   "metadata": {},
   "outputs": [
    {
     "data": {
      "text/plain": [
       "True    101\n",
       "Name: isFraud, dtype: int64"
      ]
     },
     "execution_count": 38,
     "metadata": {},
     "output_type": "execute_result"
    }
   ],
   "source": [
    "(df[df.nameDest == \"C1590550415\"].isFraud==0).value_counts()"
   ]
  },
  {
   "cell_type": "code",
   "execution_count": 39,
   "id": "9c83207f",
   "metadata": {},
   "outputs": [
    {
     "data": {
      "text/html": [
       "<div>\n",
       "<style scoped>\n",
       "    .dataframe tbody tr th:only-of-type {\n",
       "        vertical-align: middle;\n",
       "    }\n",
       "\n",
       "    .dataframe tbody tr th {\n",
       "        vertical-align: top;\n",
       "    }\n",
       "\n",
       "    .dataframe thead th {\n",
       "        text-align: right;\n",
       "    }\n",
       "</style>\n",
       "<table border=\"1\" class=\"dataframe\">\n",
       "  <thead>\n",
       "    <tr style=\"text-align: right;\">\n",
       "      <th></th>\n",
       "      <th>step</th>\n",
       "      <th>type</th>\n",
       "      <th>amount</th>\n",
       "      <th>client_id</th>\n",
       "      <th>oldbalanceOrg</th>\n",
       "      <th>newbalanceOrig</th>\n",
       "      <th>nameDest</th>\n",
       "      <th>oldbalanceDest</th>\n",
       "      <th>newbalanceDest</th>\n",
       "      <th>isFraud</th>\n",
       "      <th>isFlaggedFraud</th>\n",
       "    </tr>\n",
       "  </thead>\n",
       "  <tbody>\n",
       "    <tr>\n",
       "      <th>132</th>\n",
       "      <td>1</td>\n",
       "      <td>TRANSFER</td>\n",
       "      <td>679502.24</td>\n",
       "      <td>722417467</td>\n",
       "      <td>290.0</td>\n",
       "      <td>0.00</td>\n",
       "      <td>C451111351</td>\n",
       "      <td>171866.00</td>\n",
       "      <td>3940085.21</td>\n",
       "      <td>0</td>\n",
       "      <td>0</td>\n",
       "    </tr>\n",
       "    <tr>\n",
       "      <th>200</th>\n",
       "      <td>1</td>\n",
       "      <td>CASH_OUT</td>\n",
       "      <td>271002.70</td>\n",
       "      <td>500618423</td>\n",
       "      <td>0.0</td>\n",
       "      <td>0.00</td>\n",
       "      <td>C451111351</td>\n",
       "      <td>851368.24</td>\n",
       "      <td>3940085.21</td>\n",
       "      <td>0</td>\n",
       "      <td>0</td>\n",
       "    </tr>\n",
       "    <tr>\n",
       "      <th>217</th>\n",
       "      <td>1</td>\n",
       "      <td>CASH_OUT</td>\n",
       "      <td>171369.73</td>\n",
       "      <td>2123222442</td>\n",
       "      <td>0.0</td>\n",
       "      <td>0.00</td>\n",
       "      <td>C451111351</td>\n",
       "      <td>1122370.94</td>\n",
       "      <td>3940085.21</td>\n",
       "      <td>0</td>\n",
       "      <td>0</td>\n",
       "    </tr>\n",
       "    <tr>\n",
       "      <th>236</th>\n",
       "      <td>1</td>\n",
       "      <td>TRANSFER</td>\n",
       "      <td>480222.51</td>\n",
       "      <td>201677908</td>\n",
       "      <td>11110.0</td>\n",
       "      <td>0.00</td>\n",
       "      <td>C451111351</td>\n",
       "      <td>1293740.67</td>\n",
       "      <td>3940085.21</td>\n",
       "      <td>0</td>\n",
       "      <td>0</td>\n",
       "    </tr>\n",
       "    <tr>\n",
       "      <th>365</th>\n",
       "      <td>1</td>\n",
       "      <td>TRANSFER</td>\n",
       "      <td>1123206.66</td>\n",
       "      <td>967677821</td>\n",
       "      <td>0.0</td>\n",
       "      <td>0.00</td>\n",
       "      <td>C451111351</td>\n",
       "      <td>1773963.18</td>\n",
       "      <td>3940085.21</td>\n",
       "      <td>0</td>\n",
       "      <td>0</td>\n",
       "    </tr>\n",
       "    <tr>\n",
       "      <th>...</th>\n",
       "      <td>...</td>\n",
       "      <td>...</td>\n",
       "      <td>...</td>\n",
       "      <td>...</td>\n",
       "      <td>...</td>\n",
       "      <td>...</td>\n",
       "      <td>...</td>\n",
       "      <td>...</td>\n",
       "      <td>...</td>\n",
       "      <td>...</td>\n",
       "      <td>...</td>\n",
       "    </tr>\n",
       "    <tr>\n",
       "      <th>3988910</th>\n",
       "      <td>298</td>\n",
       "      <td>CASH_OUT</td>\n",
       "      <td>97371.91</td>\n",
       "      <td>1065586821</td>\n",
       "      <td>10916.0</td>\n",
       "      <td>0.00</td>\n",
       "      <td>C451111351</td>\n",
       "      <td>18333611.26</td>\n",
       "      <td>18430983.17</td>\n",
       "      <td>0</td>\n",
       "      <td>0</td>\n",
       "    </tr>\n",
       "    <tr>\n",
       "      <th>4410728</th>\n",
       "      <td>322</td>\n",
       "      <td>CASH_IN</td>\n",
       "      <td>203429.37</td>\n",
       "      <td>861488915</td>\n",
       "      <td>22701.0</td>\n",
       "      <td>226130.37</td>\n",
       "      <td>C451111351</td>\n",
       "      <td>18430983.17</td>\n",
       "      <td>18227553.79</td>\n",
       "      <td>0</td>\n",
       "      <td>0</td>\n",
       "    </tr>\n",
       "    <tr>\n",
       "      <th>4574276</th>\n",
       "      <td>328</td>\n",
       "      <td>CASH_OUT</td>\n",
       "      <td>308790.96</td>\n",
       "      <td>476309364</td>\n",
       "      <td>0.0</td>\n",
       "      <td>0.00</td>\n",
       "      <td>C451111351</td>\n",
       "      <td>18227553.79</td>\n",
       "      <td>18536344.75</td>\n",
       "      <td>0</td>\n",
       "      <td>0</td>\n",
       "    </tr>\n",
       "    <tr>\n",
       "      <th>5001123</th>\n",
       "      <td>353</td>\n",
       "      <td>CASH_IN</td>\n",
       "      <td>229471.04</td>\n",
       "      <td>563362567</td>\n",
       "      <td>9065.0</td>\n",
       "      <td>238536.04</td>\n",
       "      <td>C451111351</td>\n",
       "      <td>18536344.75</td>\n",
       "      <td>18306873.71</td>\n",
       "      <td>0</td>\n",
       "      <td>0</td>\n",
       "    </tr>\n",
       "    <tr>\n",
       "      <th>5411036</th>\n",
       "      <td>378</td>\n",
       "      <td>CASH_OUT</td>\n",
       "      <td>60270.20</td>\n",
       "      <td>840349114</td>\n",
       "      <td>0.0</td>\n",
       "      <td>0.00</td>\n",
       "      <td>C451111351</td>\n",
       "      <td>18306873.71</td>\n",
       "      <td>18367143.91</td>\n",
       "      <td>0</td>\n",
       "      <td>0</td>\n",
       "    </tr>\n",
       "  </tbody>\n",
       "</table>\n",
       "<p>99 rows × 11 columns</p>\n",
       "</div>"
      ],
      "text/plain": [
       "         step      type      amount   client_id  oldbalanceOrg  \\\n",
       "132         1  TRANSFER   679502.24   722417467          290.0   \n",
       "200         1  CASH_OUT   271002.70   500618423            0.0   \n",
       "217         1  CASH_OUT   171369.73  2123222442            0.0   \n",
       "236         1  TRANSFER   480222.51   201677908        11110.0   \n",
       "365         1  TRANSFER  1123206.66   967677821            0.0   \n",
       "...       ...       ...         ...         ...            ...   \n",
       "3988910   298  CASH_OUT    97371.91  1065586821        10916.0   \n",
       "4410728   322   CASH_IN   203429.37   861488915        22701.0   \n",
       "4574276   328  CASH_OUT   308790.96   476309364            0.0   \n",
       "5001123   353   CASH_IN   229471.04   563362567         9065.0   \n",
       "5411036   378  CASH_OUT    60270.20   840349114            0.0   \n",
       "\n",
       "         newbalanceOrig    nameDest  oldbalanceDest  newbalanceDest  isFraud  \\\n",
       "132                0.00  C451111351       171866.00      3940085.21        0   \n",
       "200                0.00  C451111351       851368.24      3940085.21        0   \n",
       "217                0.00  C451111351      1122370.94      3940085.21        0   \n",
       "236                0.00  C451111351      1293740.67      3940085.21        0   \n",
       "365                0.00  C451111351      1773963.18      3940085.21        0   \n",
       "...                 ...         ...             ...             ...      ...   \n",
       "3988910            0.00  C451111351     18333611.26     18430983.17        0   \n",
       "4410728       226130.37  C451111351     18430983.17     18227553.79        0   \n",
       "4574276            0.00  C451111351     18227553.79     18536344.75        0   \n",
       "5001123       238536.04  C451111351     18536344.75     18306873.71        0   \n",
       "5411036            0.00  C451111351     18306873.71     18367143.91        0   \n",
       "\n",
       "         isFlaggedFraud  \n",
       "132                   0  \n",
       "200                   0  \n",
       "217                   0  \n",
       "236                   0  \n",
       "365                   0  \n",
       "...                 ...  \n",
       "3988910               0  \n",
       "4410728               0  \n",
       "4574276               0  \n",
       "5001123               0  \n",
       "5411036               0  \n",
       "\n",
       "[99 rows x 11 columns]"
      ]
     },
     "execution_count": 39,
     "metadata": {},
     "output_type": "execute_result"
    }
   ],
   "source": [
    "df[df.nameDest == 'C451111351']"
   ]
  },
  {
   "cell_type": "code",
   "execution_count": 40,
   "id": "39c789bc",
   "metadata": {},
   "outputs": [
    {
     "data": {
      "text/plain": [
       "True    99\n",
       "Name: isFraud, dtype: int64"
      ]
     },
     "execution_count": 40,
     "metadata": {},
     "output_type": "execute_result"
    }
   ],
   "source": [
    "(df[df.nameDest == \"C451111351\"].isFraud==0).value_counts()"
   ]
  },
  {
   "cell_type": "code",
   "execution_count": 41,
   "id": "50eae23e",
   "metadata": {},
   "outputs": [
    {
     "data": {
      "text/html": [
       "<div>\n",
       "<style scoped>\n",
       "    .dataframe tbody tr th:only-of-type {\n",
       "        vertical-align: middle;\n",
       "    }\n",
       "\n",
       "    .dataframe tbody tr th {\n",
       "        vertical-align: top;\n",
       "    }\n",
       "\n",
       "    .dataframe thead th {\n",
       "        text-align: right;\n",
       "    }\n",
       "</style>\n",
       "<table border=\"1\" class=\"dataframe\">\n",
       "  <thead>\n",
       "    <tr style=\"text-align: right;\">\n",
       "      <th></th>\n",
       "      <th>step</th>\n",
       "      <th>type</th>\n",
       "      <th>amount</th>\n",
       "      <th>client_id</th>\n",
       "      <th>oldbalanceOrg</th>\n",
       "      <th>newbalanceOrig</th>\n",
       "      <th>nameDest</th>\n",
       "      <th>oldbalanceDest</th>\n",
       "      <th>newbalanceDest</th>\n",
       "      <th>isFraud</th>\n",
       "      <th>isFlaggedFraud</th>\n",
       "    </tr>\n",
       "  </thead>\n",
       "  <tbody>\n",
       "    <tr>\n",
       "      <th>208</th>\n",
       "      <td>1</td>\n",
       "      <td>CASH_OUT</td>\n",
       "      <td>73464.06</td>\n",
       "      <td>307488715</td>\n",
       "      <td>0.00</td>\n",
       "      <td>0.00</td>\n",
       "      <td>C1789550256</td>\n",
       "      <td>4.447790e+05</td>\n",
       "      <td>4.619799e+06</td>\n",
       "      <td>0</td>\n",
       "      <td>0</td>\n",
       "    </tr>\n",
       "    <tr>\n",
       "      <th>279</th>\n",
       "      <td>1</td>\n",
       "      <td>CASH_OUT</td>\n",
       "      <td>369989.20</td>\n",
       "      <td>1936550492</td>\n",
       "      <td>9515.86</td>\n",
       "      <td>0.00</td>\n",
       "      <td>C1789550256</td>\n",
       "      <td>5.182431e+05</td>\n",
       "      <td>4.619799e+06</td>\n",
       "      <td>0</td>\n",
       "      <td>0</td>\n",
       "    </tr>\n",
       "    <tr>\n",
       "      <th>361</th>\n",
       "      <td>1</td>\n",
       "      <td>TRANSFER</td>\n",
       "      <td>314403.14</td>\n",
       "      <td>1262110193</td>\n",
       "      <td>0.00</td>\n",
       "      <td>0.00</td>\n",
       "      <td>C1789550256</td>\n",
       "      <td>8.882322e+05</td>\n",
       "      <td>4.619799e+06</td>\n",
       "      <td>0</td>\n",
       "      <td>0</td>\n",
       "    </tr>\n",
       "    <tr>\n",
       "      <th>483</th>\n",
       "      <td>1</td>\n",
       "      <td>CASH_IN</td>\n",
       "      <td>152823.85</td>\n",
       "      <td>365625031</td>\n",
       "      <td>6565786.32</td>\n",
       "      <td>6718610.17</td>\n",
       "      <td>C1789550256</td>\n",
       "      <td>1.202635e+06</td>\n",
       "      <td>4.619799e+06</td>\n",
       "      <td>0</td>\n",
       "      <td>0</td>\n",
       "    </tr>\n",
       "    <tr>\n",
       "      <th>658</th>\n",
       "      <td>1</td>\n",
       "      <td>CASH_IN</td>\n",
       "      <td>336298.77</td>\n",
       "      <td>1533330615</td>\n",
       "      <td>8570318.60</td>\n",
       "      <td>8906617.38</td>\n",
       "      <td>C1789550256</td>\n",
       "      <td>1.049812e+06</td>\n",
       "      <td>4.619799e+06</td>\n",
       "      <td>0</td>\n",
       "      <td>0</td>\n",
       "    </tr>\n",
       "    <tr>\n",
       "      <th>...</th>\n",
       "      <td>...</td>\n",
       "      <td>...</td>\n",
       "      <td>...</td>\n",
       "      <td>...</td>\n",
       "      <td>...</td>\n",
       "      <td>...</td>\n",
       "      <td>...</td>\n",
       "      <td>...</td>\n",
       "      <td>...</td>\n",
       "      <td>...</td>\n",
       "      <td>...</td>\n",
       "    </tr>\n",
       "    <tr>\n",
       "      <th>4143068</th>\n",
       "      <td>303</td>\n",
       "      <td>TRANSFER</td>\n",
       "      <td>45372634.63</td>\n",
       "      <td>240100497</td>\n",
       "      <td>5819.77</td>\n",
       "      <td>0.00</td>\n",
       "      <td>C1789550256</td>\n",
       "      <td>9.404946e+07</td>\n",
       "      <td>1.394221e+08</td>\n",
       "      <td>0</td>\n",
       "      <td>0</td>\n",
       "    </tr>\n",
       "    <tr>\n",
       "      <th>4153595</th>\n",
       "      <td>303</td>\n",
       "      <td>TRANSFER</td>\n",
       "      <td>19712162.15</td>\n",
       "      <td>1418395176</td>\n",
       "      <td>135212.13</td>\n",
       "      <td>0.00</td>\n",
       "      <td>C1789550256</td>\n",
       "      <td>1.394221e+08</td>\n",
       "      <td>1.591343e+08</td>\n",
       "      <td>0</td>\n",
       "      <td>0</td>\n",
       "    </tr>\n",
       "    <tr>\n",
       "      <th>4932275</th>\n",
       "      <td>350</td>\n",
       "      <td>CASH_IN</td>\n",
       "      <td>224586.47</td>\n",
       "      <td>392345472</td>\n",
       "      <td>58452.00</td>\n",
       "      <td>283038.47</td>\n",
       "      <td>C1789550256</td>\n",
       "      <td>1.591343e+08</td>\n",
       "      <td>1.589097e+08</td>\n",
       "      <td>0</td>\n",
       "      <td>0</td>\n",
       "    </tr>\n",
       "    <tr>\n",
       "      <th>6013169</th>\n",
       "      <td>448</td>\n",
       "      <td>CASH_IN</td>\n",
       "      <td>228898.85</td>\n",
       "      <td>1205150877</td>\n",
       "      <td>8821004.77</td>\n",
       "      <td>9049903.62</td>\n",
       "      <td>C1789550256</td>\n",
       "      <td>1.589097e+08</td>\n",
       "      <td>1.586808e+08</td>\n",
       "      <td>0</td>\n",
       "      <td>0</td>\n",
       "    </tr>\n",
       "    <tr>\n",
       "      <th>6190571</th>\n",
       "      <td>571</td>\n",
       "      <td>TRANSFER</td>\n",
       "      <td>1792125.97</td>\n",
       "      <td>843711161</td>\n",
       "      <td>0.00</td>\n",
       "      <td>0.00</td>\n",
       "      <td>C1789550256</td>\n",
       "      <td>1.586808e+08</td>\n",
       "      <td>1.604729e+08</td>\n",
       "      <td>0</td>\n",
       "      <td>0</td>\n",
       "    </tr>\n",
       "  </tbody>\n",
       "</table>\n",
       "<p>99 rows × 11 columns</p>\n",
       "</div>"
      ],
      "text/plain": [
       "         step      type       amount   client_id  oldbalanceOrg  \\\n",
       "208         1  CASH_OUT     73464.06   307488715           0.00   \n",
       "279         1  CASH_OUT    369989.20  1936550492        9515.86   \n",
       "361         1  TRANSFER    314403.14  1262110193           0.00   \n",
       "483         1   CASH_IN    152823.85   365625031     6565786.32   \n",
       "658         1   CASH_IN    336298.77  1533330615     8570318.60   \n",
       "...       ...       ...          ...         ...            ...   \n",
       "4143068   303  TRANSFER  45372634.63   240100497        5819.77   \n",
       "4153595   303  TRANSFER  19712162.15  1418395176      135212.13   \n",
       "4932275   350   CASH_IN    224586.47   392345472       58452.00   \n",
       "6013169   448   CASH_IN    228898.85  1205150877     8821004.77   \n",
       "6190571   571  TRANSFER   1792125.97   843711161           0.00   \n",
       "\n",
       "         newbalanceOrig     nameDest  oldbalanceDest  newbalanceDest  isFraud  \\\n",
       "208                0.00  C1789550256    4.447790e+05    4.619799e+06        0   \n",
       "279                0.00  C1789550256    5.182431e+05    4.619799e+06        0   \n",
       "361                0.00  C1789550256    8.882322e+05    4.619799e+06        0   \n",
       "483          6718610.17  C1789550256    1.202635e+06    4.619799e+06        0   \n",
       "658          8906617.38  C1789550256    1.049812e+06    4.619799e+06        0   \n",
       "...                 ...          ...             ...             ...      ...   \n",
       "4143068            0.00  C1789550256    9.404946e+07    1.394221e+08        0   \n",
       "4153595            0.00  C1789550256    1.394221e+08    1.591343e+08        0   \n",
       "4932275       283038.47  C1789550256    1.591343e+08    1.589097e+08        0   \n",
       "6013169      9049903.62  C1789550256    1.589097e+08    1.586808e+08        0   \n",
       "6190571            0.00  C1789550256    1.586808e+08    1.604729e+08        0   \n",
       "\n",
       "         isFlaggedFraud  \n",
       "208                   0  \n",
       "279                   0  \n",
       "361                   0  \n",
       "483                   0  \n",
       "658                   0  \n",
       "...                 ...  \n",
       "4143068               0  \n",
       "4153595               0  \n",
       "4932275               0  \n",
       "6013169               0  \n",
       "6190571               0  \n",
       "\n",
       "[99 rows x 11 columns]"
      ]
     },
     "execution_count": 41,
     "metadata": {},
     "output_type": "execute_result"
    }
   ],
   "source": [
    "df[df.nameDest == 'C1789550256']"
   ]
  },
  {
   "cell_type": "code",
   "execution_count": 42,
   "id": "7a8b8f75",
   "metadata": {},
   "outputs": [
    {
     "data": {
      "text/plain": [
       "True    99\n",
       "Name: isFraud, dtype: int64"
      ]
     },
     "execution_count": 42,
     "metadata": {},
     "output_type": "execute_result"
    }
   ],
   "source": [
    "(df[df.nameDest == \"C1789550256\"].isFraud==0).value_counts()"
   ]
  },
  {
   "cell_type": "code",
   "execution_count": 43,
   "id": "b87edc63",
   "metadata": {},
   "outputs": [
    {
     "data": {
      "text/html": [
       "<div>\n",
       "<style scoped>\n",
       "    .dataframe tbody tr th:only-of-type {\n",
       "        vertical-align: middle;\n",
       "    }\n",
       "\n",
       "    .dataframe tbody tr th {\n",
       "        vertical-align: top;\n",
       "    }\n",
       "\n",
       "    .dataframe thead th {\n",
       "        text-align: right;\n",
       "    }\n",
       "</style>\n",
       "<table border=\"1\" class=\"dataframe\">\n",
       "  <thead>\n",
       "    <tr style=\"text-align: right;\">\n",
       "      <th></th>\n",
       "      <th>step</th>\n",
       "      <th>type</th>\n",
       "      <th>amount</th>\n",
       "      <th>client_id</th>\n",
       "      <th>oldbalanceOrg</th>\n",
       "      <th>newbalanceOrig</th>\n",
       "      <th>nameDest</th>\n",
       "      <th>oldbalanceDest</th>\n",
       "      <th>newbalanceDest</th>\n",
       "      <th>isFraud</th>\n",
       "      <th>isFlaggedFraud</th>\n",
       "    </tr>\n",
       "  </thead>\n",
       "  <tbody>\n",
       "    <tr>\n",
       "      <th>180</th>\n",
       "      <td>1</td>\n",
       "      <td>CASH_OUT</td>\n",
       "      <td>190445.51</td>\n",
       "      <td>1760219993</td>\n",
       "      <td>0.00</td>\n",
       "      <td>0.0</td>\n",
       "      <td>C1360767589</td>\n",
       "      <td>203679.00</td>\n",
       "      <td>2107965.39</td>\n",
       "      <td>0</td>\n",
       "      <td>0</td>\n",
       "    </tr>\n",
       "    <tr>\n",
       "      <th>199</th>\n",
       "      <td>1</td>\n",
       "      <td>CASH_OUT</td>\n",
       "      <td>187728.59</td>\n",
       "      <td>264978436</td>\n",
       "      <td>0.00</td>\n",
       "      <td>0.0</td>\n",
       "      <td>C1360767589</td>\n",
       "      <td>394124.51</td>\n",
       "      <td>2107965.39</td>\n",
       "      <td>0</td>\n",
       "      <td>0</td>\n",
       "    </tr>\n",
       "    <tr>\n",
       "      <th>213</th>\n",
       "      <td>1</td>\n",
       "      <td>CASH_OUT</td>\n",
       "      <td>26759.05</td>\n",
       "      <td>746280996</td>\n",
       "      <td>0.00</td>\n",
       "      <td>0.0</td>\n",
       "      <td>C1360767589</td>\n",
       "      <td>581853.10</td>\n",
       "      <td>2107965.39</td>\n",
       "      <td>0</td>\n",
       "      <td>0</td>\n",
       "    </tr>\n",
       "    <tr>\n",
       "      <th>288</th>\n",
       "      <td>1</td>\n",
       "      <td>CASH_OUT</td>\n",
       "      <td>498960.91</td>\n",
       "      <td>1957078537</td>\n",
       "      <td>0.00</td>\n",
       "      <td>0.0</td>\n",
       "      <td>C1360767589</td>\n",
       "      <td>608612.15</td>\n",
       "      <td>2107965.39</td>\n",
       "      <td>0</td>\n",
       "      <td>0</td>\n",
       "    </tr>\n",
       "    <tr>\n",
       "      <th>290</th>\n",
       "      <td>1</td>\n",
       "      <td>CASH_OUT</td>\n",
       "      <td>58820.08</td>\n",
       "      <td>594858858</td>\n",
       "      <td>0.00</td>\n",
       "      <td>0.0</td>\n",
       "      <td>C1360767589</td>\n",
       "      <td>1107573.06</td>\n",
       "      <td>2107965.39</td>\n",
       "      <td>0</td>\n",
       "      <td>0</td>\n",
       "    </tr>\n",
       "    <tr>\n",
       "      <th>...</th>\n",
       "      <td>...</td>\n",
       "      <td>...</td>\n",
       "      <td>...</td>\n",
       "      <td>...</td>\n",
       "      <td>...</td>\n",
       "      <td>...</td>\n",
       "      <td>...</td>\n",
       "      <td>...</td>\n",
       "      <td>...</td>\n",
       "      <td>...</td>\n",
       "      <td>...</td>\n",
       "    </tr>\n",
       "    <tr>\n",
       "      <th>3994488</th>\n",
       "      <td>298</td>\n",
       "      <td>CASH_OUT</td>\n",
       "      <td>283709.38</td>\n",
       "      <td>982428624</td>\n",
       "      <td>0.00</td>\n",
       "      <td>0.0</td>\n",
       "      <td>C1360767589</td>\n",
       "      <td>25778572.34</td>\n",
       "      <td>26062281.71</td>\n",
       "      <td>0</td>\n",
       "      <td>0</td>\n",
       "    </tr>\n",
       "    <tr>\n",
       "      <th>5001355</th>\n",
       "      <td>353</td>\n",
       "      <td>TRANSFER</td>\n",
       "      <td>1049489.06</td>\n",
       "      <td>1433486402</td>\n",
       "      <td>0.00</td>\n",
       "      <td>0.0</td>\n",
       "      <td>C1360767589</td>\n",
       "      <td>26062281.71</td>\n",
       "      <td>27043498.50</td>\n",
       "      <td>0</td>\n",
       "      <td>0</td>\n",
       "    </tr>\n",
       "    <tr>\n",
       "      <th>5014239</th>\n",
       "      <td>353</td>\n",
       "      <td>CASH_IN</td>\n",
       "      <td>68272.26</td>\n",
       "      <td>358251276</td>\n",
       "      <td>8718426.14</td>\n",
       "      <td>8786698.4</td>\n",
       "      <td>C1360767589</td>\n",
       "      <td>27111770.77</td>\n",
       "      <td>27043498.50</td>\n",
       "      <td>0</td>\n",
       "      <td>0</td>\n",
       "    </tr>\n",
       "    <tr>\n",
       "      <th>5676991</th>\n",
       "      <td>397</td>\n",
       "      <td>CASH_OUT</td>\n",
       "      <td>5622.32</td>\n",
       "      <td>257220680</td>\n",
       "      <td>0.00</td>\n",
       "      <td>0.0</td>\n",
       "      <td>C1360767589</td>\n",
       "      <td>27043498.50</td>\n",
       "      <td>27049120.83</td>\n",
       "      <td>0</td>\n",
       "      <td>0</td>\n",
       "    </tr>\n",
       "    <tr>\n",
       "      <th>5813949</th>\n",
       "      <td>401</td>\n",
       "      <td>CASH_OUT</td>\n",
       "      <td>140450.24</td>\n",
       "      <td>1366883934</td>\n",
       "      <td>0.00</td>\n",
       "      <td>0.0</td>\n",
       "      <td>C1360767589</td>\n",
       "      <td>27049120.83</td>\n",
       "      <td>27189571.07</td>\n",
       "      <td>0</td>\n",
       "      <td>0</td>\n",
       "    </tr>\n",
       "  </tbody>\n",
       "</table>\n",
       "<p>98 rows × 11 columns</p>\n",
       "</div>"
      ],
      "text/plain": [
       "         step      type      amount   client_id  oldbalanceOrg  \\\n",
       "180         1  CASH_OUT   190445.51  1760219993           0.00   \n",
       "199         1  CASH_OUT   187728.59   264978436           0.00   \n",
       "213         1  CASH_OUT    26759.05   746280996           0.00   \n",
       "288         1  CASH_OUT   498960.91  1957078537           0.00   \n",
       "290         1  CASH_OUT    58820.08   594858858           0.00   \n",
       "...       ...       ...         ...         ...            ...   \n",
       "3994488   298  CASH_OUT   283709.38   982428624           0.00   \n",
       "5001355   353  TRANSFER  1049489.06  1433486402           0.00   \n",
       "5014239   353   CASH_IN    68272.26   358251276     8718426.14   \n",
       "5676991   397  CASH_OUT     5622.32   257220680           0.00   \n",
       "5813949   401  CASH_OUT   140450.24  1366883934           0.00   \n",
       "\n",
       "         newbalanceOrig     nameDest  oldbalanceDest  newbalanceDest  isFraud  \\\n",
       "180                 0.0  C1360767589       203679.00      2107965.39        0   \n",
       "199                 0.0  C1360767589       394124.51      2107965.39        0   \n",
       "213                 0.0  C1360767589       581853.10      2107965.39        0   \n",
       "288                 0.0  C1360767589       608612.15      2107965.39        0   \n",
       "290                 0.0  C1360767589      1107573.06      2107965.39        0   \n",
       "...                 ...          ...             ...             ...      ...   \n",
       "3994488             0.0  C1360767589     25778572.34     26062281.71        0   \n",
       "5001355             0.0  C1360767589     26062281.71     27043498.50        0   \n",
       "5014239       8786698.4  C1360767589     27111770.77     27043498.50        0   \n",
       "5676991             0.0  C1360767589     27043498.50     27049120.83        0   \n",
       "5813949             0.0  C1360767589     27049120.83     27189571.07        0   \n",
       "\n",
       "         isFlaggedFraud  \n",
       "180                   0  \n",
       "199                   0  \n",
       "213                   0  \n",
       "288                   0  \n",
       "290                   0  \n",
       "...                 ...  \n",
       "3994488               0  \n",
       "5001355               0  \n",
       "5014239               0  \n",
       "5676991               0  \n",
       "5813949               0  \n",
       "\n",
       "[98 rows x 11 columns]"
      ]
     },
     "execution_count": 43,
     "metadata": {},
     "output_type": "execute_result"
    }
   ],
   "source": [
    "df[df.nameDest == 'C1360767589']"
   ]
  },
  {
   "cell_type": "code",
   "execution_count": 44,
   "id": "b1741049",
   "metadata": {},
   "outputs": [
    {
     "data": {
      "text/plain": [
       "True    98\n",
       "Name: isFraud, dtype: int64"
      ]
     },
     "execution_count": 44,
     "metadata": {},
     "output_type": "execute_result"
    }
   ],
   "source": [
    "(df[df.nameDest == \"C1360767589\"].isFraud==0).value_counts()"
   ]
  },
  {
   "cell_type": "code",
   "execution_count": 45,
   "id": "a7bcf25d",
   "metadata": {},
   "outputs": [
    {
     "data": {
      "text/html": [
       "<div>\n",
       "<style scoped>\n",
       "    .dataframe tbody tr th:only-of-type {\n",
       "        vertical-align: middle;\n",
       "    }\n",
       "\n",
       "    .dataframe tbody tr th {\n",
       "        vertical-align: top;\n",
       "    }\n",
       "\n",
       "    .dataframe thead th {\n",
       "        text-align: right;\n",
       "    }\n",
       "</style>\n",
       "<table border=\"1\" class=\"dataframe\">\n",
       "  <thead>\n",
       "    <tr style=\"text-align: right;\">\n",
       "      <th></th>\n",
       "      <th>step</th>\n",
       "      <th>type</th>\n",
       "      <th>amount</th>\n",
       "      <th>client_id</th>\n",
       "      <th>oldbalanceOrg</th>\n",
       "      <th>newbalanceOrig</th>\n",
       "      <th>nameDest</th>\n",
       "      <th>oldbalanceDest</th>\n",
       "      <th>newbalanceDest</th>\n",
       "      <th>isFraud</th>\n",
       "      <th>isFlaggedFraud</th>\n",
       "    </tr>\n",
       "  </thead>\n",
       "  <tbody>\n",
       "    <tr>\n",
       "      <th>161</th>\n",
       "      <td>1</td>\n",
       "      <td>CASH_OUT</td>\n",
       "      <td>289645.52</td>\n",
       "      <td>1446001495</td>\n",
       "      <td>0.00</td>\n",
       "      <td>0.00</td>\n",
       "      <td>C1023714065</td>\n",
       "      <td>871442.79</td>\n",
       "      <td>1412484.09</td>\n",
       "      <td>0</td>\n",
       "      <td>0</td>\n",
       "    </tr>\n",
       "    <tr>\n",
       "      <th>184</th>\n",
       "      <td>1</td>\n",
       "      <td>CASH_OUT</td>\n",
       "      <td>151829.91</td>\n",
       "      <td>873309260</td>\n",
       "      <td>0.00</td>\n",
       "      <td>0.00</td>\n",
       "      <td>C1023714065</td>\n",
       "      <td>1161088.31</td>\n",
       "      <td>1412484.09</td>\n",
       "      <td>0</td>\n",
       "      <td>0</td>\n",
       "    </tr>\n",
       "    <tr>\n",
       "      <th>451</th>\n",
       "      <td>1</td>\n",
       "      <td>CASH_IN</td>\n",
       "      <td>74933.22</td>\n",
       "      <td>379124840</td>\n",
       "      <td>1080930.07</td>\n",
       "      <td>1155863.30</td>\n",
       "      <td>C1023714065</td>\n",
       "      <td>1312918.22</td>\n",
       "      <td>1412484.09</td>\n",
       "      <td>0</td>\n",
       "      <td>0</td>\n",
       "    </tr>\n",
       "    <tr>\n",
       "      <th>480</th>\n",
       "      <td>1</td>\n",
       "      <td>CASH_IN</td>\n",
       "      <td>273305.73</td>\n",
       "      <td>192456457</td>\n",
       "      <td>5912480.60</td>\n",
       "      <td>6185786.33</td>\n",
       "      <td>C1023714065</td>\n",
       "      <td>1237985.00</td>\n",
       "      <td>1412484.09</td>\n",
       "      <td>0</td>\n",
       "      <td>0</td>\n",
       "    </tr>\n",
       "    <tr>\n",
       "      <th>637</th>\n",
       "      <td>1</td>\n",
       "      <td>CASH_IN</td>\n",
       "      <td>198847.32</td>\n",
       "      <td>1088491512</td>\n",
       "      <td>6157562.25</td>\n",
       "      <td>6356409.58</td>\n",
       "      <td>C1023714065</td>\n",
       "      <td>964679.26</td>\n",
       "      <td>1412484.09</td>\n",
       "      <td>0</td>\n",
       "      <td>0</td>\n",
       "    </tr>\n",
       "    <tr>\n",
       "      <th>...</th>\n",
       "      <td>...</td>\n",
       "      <td>...</td>\n",
       "      <td>...</td>\n",
       "      <td>...</td>\n",
       "      <td>...</td>\n",
       "      <td>...</td>\n",
       "      <td>...</td>\n",
       "      <td>...</td>\n",
       "      <td>...</td>\n",
       "      <td>...</td>\n",
       "      <td>...</td>\n",
       "    </tr>\n",
       "    <tr>\n",
       "      <th>5416482</th>\n",
       "      <td>378</td>\n",
       "      <td>CASH_IN</td>\n",
       "      <td>97261.19</td>\n",
       "      <td>290300334</td>\n",
       "      <td>60.00</td>\n",
       "      <td>97321.19</td>\n",
       "      <td>C1023714065</td>\n",
       "      <td>20222310.22</td>\n",
       "      <td>20125049.03</td>\n",
       "      <td>0</td>\n",
       "      <td>0</td>\n",
       "    </tr>\n",
       "    <tr>\n",
       "      <th>5549360</th>\n",
       "      <td>382</td>\n",
       "      <td>TRANSFER</td>\n",
       "      <td>4082094.44</td>\n",
       "      <td>1831331937</td>\n",
       "      <td>119316.51</td>\n",
       "      <td>0.00</td>\n",
       "      <td>C1023714065</td>\n",
       "      <td>20125049.03</td>\n",
       "      <td>24207143.47</td>\n",
       "      <td>0</td>\n",
       "      <td>0</td>\n",
       "    </tr>\n",
       "    <tr>\n",
       "      <th>5630628</th>\n",
       "      <td>395</td>\n",
       "      <td>CASH_IN</td>\n",
       "      <td>76987.52</td>\n",
       "      <td>2106303292</td>\n",
       "      <td>202478.00</td>\n",
       "      <td>279465.52</td>\n",
       "      <td>C1023714065</td>\n",
       "      <td>24207143.47</td>\n",
       "      <td>24130155.95</td>\n",
       "      <td>0</td>\n",
       "      <td>0</td>\n",
       "    </tr>\n",
       "    <tr>\n",
       "      <th>5806705</th>\n",
       "      <td>401</td>\n",
       "      <td>TRANSFER</td>\n",
       "      <td>3564352.43</td>\n",
       "      <td>1971571283</td>\n",
       "      <td>0.00</td>\n",
       "      <td>0.00</td>\n",
       "      <td>C1023714065</td>\n",
       "      <td>24130155.95</td>\n",
       "      <td>27854824.46</td>\n",
       "      <td>0</td>\n",
       "      <td>0</td>\n",
       "    </tr>\n",
       "    <tr>\n",
       "      <th>5818951</th>\n",
       "      <td>401</td>\n",
       "      <td>CASH_OUT</td>\n",
       "      <td>160316.07</td>\n",
       "      <td>173404036</td>\n",
       "      <td>20111.00</td>\n",
       "      <td>0.00</td>\n",
       "      <td>C1023714065</td>\n",
       "      <td>27694508.38</td>\n",
       "      <td>27854824.46</td>\n",
       "      <td>0</td>\n",
       "      <td>0</td>\n",
       "    </tr>\n",
       "  </tbody>\n",
       "</table>\n",
       "<p>97 rows × 11 columns</p>\n",
       "</div>"
      ],
      "text/plain": [
       "         step      type      amount   client_id  oldbalanceOrg  \\\n",
       "161         1  CASH_OUT   289645.52  1446001495           0.00   \n",
       "184         1  CASH_OUT   151829.91   873309260           0.00   \n",
       "451         1   CASH_IN    74933.22   379124840     1080930.07   \n",
       "480         1   CASH_IN   273305.73   192456457     5912480.60   \n",
       "637         1   CASH_IN   198847.32  1088491512     6157562.25   \n",
       "...       ...       ...         ...         ...            ...   \n",
       "5416482   378   CASH_IN    97261.19   290300334          60.00   \n",
       "5549360   382  TRANSFER  4082094.44  1831331937      119316.51   \n",
       "5630628   395   CASH_IN    76987.52  2106303292      202478.00   \n",
       "5806705   401  TRANSFER  3564352.43  1971571283           0.00   \n",
       "5818951   401  CASH_OUT   160316.07   173404036       20111.00   \n",
       "\n",
       "         newbalanceOrig     nameDest  oldbalanceDest  newbalanceDest  isFraud  \\\n",
       "161                0.00  C1023714065       871442.79      1412484.09        0   \n",
       "184                0.00  C1023714065      1161088.31      1412484.09        0   \n",
       "451          1155863.30  C1023714065      1312918.22      1412484.09        0   \n",
       "480          6185786.33  C1023714065      1237985.00      1412484.09        0   \n",
       "637          6356409.58  C1023714065       964679.26      1412484.09        0   \n",
       "...                 ...          ...             ...             ...      ...   \n",
       "5416482        97321.19  C1023714065     20222310.22     20125049.03        0   \n",
       "5549360            0.00  C1023714065     20125049.03     24207143.47        0   \n",
       "5630628       279465.52  C1023714065     24207143.47     24130155.95        0   \n",
       "5806705            0.00  C1023714065     24130155.95     27854824.46        0   \n",
       "5818951            0.00  C1023714065     27694508.38     27854824.46        0   \n",
       "\n",
       "         isFlaggedFraud  \n",
       "161                   0  \n",
       "184                   0  \n",
       "451                   0  \n",
       "480                   0  \n",
       "637                   0  \n",
       "...                 ...  \n",
       "5416482               0  \n",
       "5549360               0  \n",
       "5630628               0  \n",
       "5806705               0  \n",
       "5818951               0  \n",
       "\n",
       "[97 rows x 11 columns]"
      ]
     },
     "execution_count": 45,
     "metadata": {},
     "output_type": "execute_result"
    }
   ],
   "source": [
    "df[df.nameDest == 'C1023714065']"
   ]
  },
  {
   "cell_type": "code",
   "execution_count": 46,
   "id": "32781c72",
   "metadata": {},
   "outputs": [
    {
     "data": {
      "text/plain": [
       "True    97\n",
       "Name: isFraud, dtype: int64"
      ]
     },
     "execution_count": 46,
     "metadata": {},
     "output_type": "execute_result"
    }
   ],
   "source": [
    "(df[df.nameDest == \"C1023714065\"].isFraud==0).value_counts()"
   ]
  },
  {
   "cell_type": "code",
   "execution_count": 47,
   "id": "65b502f1",
   "metadata": {
    "scrolled": true
   },
   "outputs": [
    {
     "data": {
      "text/plain": [
       "C1286084959    113\n",
       "C985934102     109\n",
       "C665576141     105\n",
       "C2083562754    102\n",
       "C248609774     101\n",
       "C1590550415    101\n",
       "C451111351      99\n",
       "C1789550256     99\n",
       "C1360767589     98\n",
       "C1023714065     97\n",
       "Name: nameDest, dtype: int64"
      ]
     },
     "execution_count": 47,
     "metadata": {},
     "output_type": "execute_result"
    }
   ],
   "source": [
    "g"
   ]
  },
  {
   "cell_type": "code",
   "execution_count": 48,
   "id": "58ee19e6",
   "metadata": {},
   "outputs": [
    {
     "data": {
      "text/plain": [
       "C1286084959    113\n",
       "C985934102     109\n",
       "C665576141     105\n",
       "C2083562754    102\n",
       "C248609774     101\n",
       "C1590550415    101\n",
       "C451111351      99\n",
       "C1789550256     99\n",
       "C1360767589     98\n",
       "C1023714065     97\n",
       "Name: nameDest, dtype: int64"
      ]
     },
     "execution_count": 48,
     "metadata": {},
     "output_type": "execute_result"
    }
   ],
   "source": [
    "g"
   ]
  },
  {
   "cell_type": "markdown",
   "id": "6789122b",
   "metadata": {},
   "source": [
    "## Observation :-"
   ]
  },
  {
   "cell_type": "code",
   "execution_count": 49,
   "id": "d9d7e429",
   "metadata": {},
   "outputs": [
    {
     "name": "stdout",
     "output_type": "stream",
     "text": [
      "\n",
      "\n",
      "\t1)client id = C1286084959 : The number of transactions done are 113 and there is no fraudulent activity detected\n",
      "\n",
      "\t2)client id = C985934102 : The number of transactions done are 109 and there is no fraudulent activity detected\n",
      "\n",
      "\t3)client id = C665576141 : The number of transactions done are 105 and there is no fraudulent activity detected\n",
      "\n",
      "\t4) client id = C2083562754 : The number of transactions done are 102 and there is no fraudulent activity detected\n",
      "\n",
      "\t5) client id = C248609774 : The number of transactions done are 101 and there is no fraudulent activity detected\n",
      "\n",
      "\t6)client id = C1590550415 : The number of transactions done are 101 and there is no fraudulent activity detected\n",
      "\n",
      "\t7) client id = C451111351 : The number of transactions done are 99 and there is no fraudulent activity detected\n",
      "\n",
      "\t8) client id = C1789550256 : The number of transactions done are 99 and there is no fraudulent activity detected\n",
      "\n",
      "\t9) client id = C1360767589 : The number of transactions done are 98 and there is no fraudulent activity detected\n",
      "\n",
      "\t10) client id = C1023714065 : The number of transactions done are 97 and there is no fraudulent activity detected\n"
     ]
    }
   ],
   "source": [
    "print(\"\\n\\n\\t1)client id = C1286084959 : The number of transactions done are 113 and there is no fraudulent activity detected\\n\\n\\t2)client id = C985934102 : The number of transactions done are 109 and there is no fraudulent activity detected\\n\\n\\t3)client id = C665576141 : The number of transactions done are 105 and there is no fraudulent activity detected\\n\\n\\t4) client id = C2083562754 : The number of transactions done are 102 and there is no fraudulent activity detected\\n\\n\\t5) client id = C248609774 : The number of transactions done are 101 and there is no fraudulent activity detected\\n\\n\\t6)client id = C1590550415 : The number of transactions done are 101 and there is no fraudulent activity detected\\n\\n\\t7) client id = C451111351 : The number of transactions done are 99 and there is no fraudulent activity detected\\n\\n\\t8) client id = C1789550256 : The number of transactions done are 99 and there is no fraudulent activity detected\\n\\n\\t9) client id = C1360767589 : The number of transactions done are 98 and there is no fraudulent activity detected\\n\\n\\t10) client id = C1023714065 : The number of transactions done are 97 and there is no fraudulent activity detected\")"
   ]
  },
  {
   "cell_type": "markdown",
   "id": "edc95d2f",
   "metadata": {},
   "source": [
    " I have checked if there is any fraudulent activity detected in all the transactions the clients did.There is no fraudulent activity detected in any single transaction"
   ]
  },
  {
   "cell_type": "markdown",
   "id": "a89570ff",
   "metadata": {},
   "source": [
    "Great in spite of that the client frequent transactions are of maximum times but no fraudulent activity in transaction detected "
   ]
  },
  {
   "cell_type": "markdown",
   "id": "38ef120e",
   "metadata": {},
   "source": [
    "## Checking the values in target columns present"
   ]
  },
  {
   "cell_type": "code",
   "execution_count": 50,
   "id": "0d7aba14",
   "metadata": {},
   "outputs": [
    {
     "data": {
      "text/plain": [
       "0    6354407\n",
       "1       8213\n",
       "Name: isFraud, dtype: int64"
      ]
     },
     "execution_count": 50,
     "metadata": {},
     "output_type": "execute_result"
    }
   ],
   "source": [
    "df.isFraud.value_counts()"
   ]
  },
  {
   "cell_type": "markdown",
   "id": "8885af34",
   "metadata": {},
   "source": [
    " \n",
    "There are 6354407 values present which are True meaning that they are Non-Fraudulent and 8213 values present which are False meaning that they are Fraudulent"
   ]
  },
  {
   "cell_type": "markdown",
   "id": "dc6cfad4",
   "metadata": {},
   "source": [
    "# EDA"
   ]
  },
  {
   "cell_type": "code",
   "execution_count": null,
   "id": "ad95222d",
   "metadata": {},
   "outputs": [],
   "source": []
  },
  {
   "cell_type": "code",
   "execution_count": 51,
   "id": "0f567fee",
   "metadata": {},
   "outputs": [
    {
     "name": "stdout",
     "output_type": "stream",
     "text": [
      "<class 'pandas.core.frame.DataFrame'>\n",
      "RangeIndex: 6362620 entries, 0 to 6362619\n",
      "Data columns (total 11 columns):\n",
      " #   Column          Dtype  \n",
      "---  ------          -----  \n",
      " 0   step            int64  \n",
      " 1   type            object \n",
      " 2   amount          float64\n",
      " 3   client_id       int32  \n",
      " 4   oldbalanceOrg   float64\n",
      " 5   newbalanceOrig  float64\n",
      " 6   nameDest        object \n",
      " 7   oldbalanceDest  float64\n",
      " 8   newbalanceDest  float64\n",
      " 9   isFraud         int64  \n",
      " 10  isFlaggedFraud  int64  \n",
      "dtypes: float64(5), int32(1), int64(3), object(2)\n",
      "memory usage: 509.7+ MB\n"
     ]
    }
   ],
   "source": [
    "df.info()"
   ]
  },
  {
   "cell_type": "code",
   "execution_count": 52,
   "id": "988509a9",
   "metadata": {},
   "outputs": [
    {
     "name": "stdout",
     "output_type": "stream",
     "text": [
      "*******************************************Data set description****************************************************\n",
      "\n",
      " The onlinefraud csv file contain toal 6362620 rows and 11 columns.The data contain people online transaction information right from the person who started the transaction till the person with whom tha transaction ends.\n",
      "\n",
      " The columns that specifies this information are ( step,type ,amount,nameOrig,oldbalanceOrg,newbalanceOrig,nameDest,oldbalanceDest,newbalanceDest, isFraud ,isFlaggedFraud.)\n",
      "\n",
      " Here data type of all the columns present here are in int or float. The column nameoring,ani namedest has object data type.\n"
     ]
    }
   ],
   "source": [
    "print(\"*******************************************Data set description****************************************************\\n\\n The onlinefraud csv file contain toal 6362620 rows and 11 columns.The data contain people online transaction information right from the person who started the transaction till the person with whom tha transaction ends.\\n\\n The columns that specifies this information are ( step,type ,amount,nameOrig,oldbalanceOrg,newbalanceOrig,nameDest,oldbalanceDest,newbalanceDest, isFraud ,isFlaggedFraud.)\\n\\n Here data type of all the columns present here are in int or float. The column nameoring,ani namedest has object data type.\")"
   ]
  },
  {
   "cell_type": "code",
   "execution_count": 53,
   "id": "e91c84ff",
   "metadata": {},
   "outputs": [
    {
     "data": {
      "text/plain": [
       "step              0\n",
       "type              0\n",
       "amount            0\n",
       "client_id         0\n",
       "oldbalanceOrg     0\n",
       "newbalanceOrig    0\n",
       "nameDest          0\n",
       "oldbalanceDest    0\n",
       "newbalanceDest    0\n",
       "isFraud           0\n",
       "isFlaggedFraud    0\n",
       "dtype: int64"
      ]
     },
     "execution_count": 53,
     "metadata": {},
     "output_type": "execute_result"
    }
   ],
   "source": [
    "df.isnull().sum()"
   ]
  },
  {
   "cell_type": "markdown",
   "id": "ce72c8e0",
   "metadata": {},
   "source": [
    " As we have alredy seen that there is no null values present in dataset"
   ]
  },
  {
   "cell_type": "markdown",
   "id": "0cd2b8f4",
   "metadata": {},
   "source": [
    "## Encoding "
   ]
  },
  {
   "cell_type": "code",
   "execution_count": 54,
   "id": "d345a221",
   "metadata": {},
   "outputs": [],
   "source": [
    "df_cat=df.select_dtypes(\"object\")\n",
    "df_num=df.select_dtypes([\"int64\",\"float64\"])"
   ]
  },
  {
   "cell_type": "code",
   "execution_count": 55,
   "id": "b8e96f79",
   "metadata": {},
   "outputs": [
    {
     "data": {
      "text/html": [
       "<div>\n",
       "<style scoped>\n",
       "    .dataframe tbody tr th:only-of-type {\n",
       "        vertical-align: middle;\n",
       "    }\n",
       "\n",
       "    .dataframe tbody tr th {\n",
       "        vertical-align: top;\n",
       "    }\n",
       "\n",
       "    .dataframe thead th {\n",
       "        text-align: right;\n",
       "    }\n",
       "</style>\n",
       "<table border=\"1\" class=\"dataframe\">\n",
       "  <thead>\n",
       "    <tr style=\"text-align: right;\">\n",
       "      <th></th>\n",
       "      <th>type</th>\n",
       "      <th>nameDest</th>\n",
       "    </tr>\n",
       "  </thead>\n",
       "  <tbody>\n",
       "    <tr>\n",
       "      <th>0</th>\n",
       "      <td>PAYMENT</td>\n",
       "      <td>M1979787155</td>\n",
       "    </tr>\n",
       "    <tr>\n",
       "      <th>1</th>\n",
       "      <td>PAYMENT</td>\n",
       "      <td>M2044282225</td>\n",
       "    </tr>\n",
       "    <tr>\n",
       "      <th>2</th>\n",
       "      <td>TRANSFER</td>\n",
       "      <td>C553264065</td>\n",
       "    </tr>\n",
       "    <tr>\n",
       "      <th>3</th>\n",
       "      <td>CASH_OUT</td>\n",
       "      <td>C38997010</td>\n",
       "    </tr>\n",
       "    <tr>\n",
       "      <th>4</th>\n",
       "      <td>PAYMENT</td>\n",
       "      <td>M1230701703</td>\n",
       "    </tr>\n",
       "    <tr>\n",
       "      <th>...</th>\n",
       "      <td>...</td>\n",
       "      <td>...</td>\n",
       "    </tr>\n",
       "    <tr>\n",
       "      <th>6362615</th>\n",
       "      <td>CASH_OUT</td>\n",
       "      <td>C776919290</td>\n",
       "    </tr>\n",
       "    <tr>\n",
       "      <th>6362616</th>\n",
       "      <td>TRANSFER</td>\n",
       "      <td>C1881841831</td>\n",
       "    </tr>\n",
       "    <tr>\n",
       "      <th>6362617</th>\n",
       "      <td>CASH_OUT</td>\n",
       "      <td>C1365125890</td>\n",
       "    </tr>\n",
       "    <tr>\n",
       "      <th>6362618</th>\n",
       "      <td>TRANSFER</td>\n",
       "      <td>C2080388513</td>\n",
       "    </tr>\n",
       "    <tr>\n",
       "      <th>6362619</th>\n",
       "      <td>CASH_OUT</td>\n",
       "      <td>C873221189</td>\n",
       "    </tr>\n",
       "  </tbody>\n",
       "</table>\n",
       "<p>6362620 rows × 2 columns</p>\n",
       "</div>"
      ],
      "text/plain": [
       "             type     nameDest\n",
       "0         PAYMENT  M1979787155\n",
       "1         PAYMENT  M2044282225\n",
       "2        TRANSFER   C553264065\n",
       "3        CASH_OUT    C38997010\n",
       "4         PAYMENT  M1230701703\n",
       "...           ...          ...\n",
       "6362615  CASH_OUT   C776919290\n",
       "6362616  TRANSFER  C1881841831\n",
       "6362617  CASH_OUT  C1365125890\n",
       "6362618  TRANSFER  C2080388513\n",
       "6362619  CASH_OUT   C873221189\n",
       "\n",
       "[6362620 rows x 2 columns]"
      ]
     },
     "execution_count": 55,
     "metadata": {},
     "output_type": "execute_result"
    }
   ],
   "source": [
    "df_cat"
   ]
  },
  {
   "cell_type": "markdown",
   "id": "35672650",
   "metadata": {},
   "source": [
    "Here I have seperated the categorial columns in order to encode the values present in for further data processing.With the help of seelect_dtype fuction i have seperated 3 categorical columns which are as following :- 1)\"Type\", 2)NameOrig, 3)nameDest,respectively."
   ]
  },
  {
   "cell_type": "code",
   "execution_count": 56,
   "id": "349d8e15",
   "metadata": {},
   "outputs": [
    {
     "data": {
      "text/html": [
       "<div>\n",
       "<style scoped>\n",
       "    .dataframe tbody tr th:only-of-type {\n",
       "        vertical-align: middle;\n",
       "    }\n",
       "\n",
       "    .dataframe tbody tr th {\n",
       "        vertical-align: top;\n",
       "    }\n",
       "\n",
       "    .dataframe thead th {\n",
       "        text-align: right;\n",
       "    }\n",
       "</style>\n",
       "<table border=\"1\" class=\"dataframe\">\n",
       "  <thead>\n",
       "    <tr style=\"text-align: right;\">\n",
       "      <th></th>\n",
       "      <th>step</th>\n",
       "      <th>amount</th>\n",
       "      <th>oldbalanceOrg</th>\n",
       "      <th>newbalanceOrig</th>\n",
       "      <th>oldbalanceDest</th>\n",
       "      <th>newbalanceDest</th>\n",
       "      <th>isFraud</th>\n",
       "      <th>isFlaggedFraud</th>\n",
       "    </tr>\n",
       "  </thead>\n",
       "  <tbody>\n",
       "    <tr>\n",
       "      <th>0</th>\n",
       "      <td>1</td>\n",
       "      <td>9839.64</td>\n",
       "      <td>170136.00</td>\n",
       "      <td>160296.36</td>\n",
       "      <td>0.00</td>\n",
       "      <td>0.00</td>\n",
       "      <td>0</td>\n",
       "      <td>0</td>\n",
       "    </tr>\n",
       "    <tr>\n",
       "      <th>1</th>\n",
       "      <td>1</td>\n",
       "      <td>1864.28</td>\n",
       "      <td>21249.00</td>\n",
       "      <td>19384.72</td>\n",
       "      <td>0.00</td>\n",
       "      <td>0.00</td>\n",
       "      <td>0</td>\n",
       "      <td>0</td>\n",
       "    </tr>\n",
       "    <tr>\n",
       "      <th>2</th>\n",
       "      <td>1</td>\n",
       "      <td>181.00</td>\n",
       "      <td>181.00</td>\n",
       "      <td>0.00</td>\n",
       "      <td>0.00</td>\n",
       "      <td>0.00</td>\n",
       "      <td>1</td>\n",
       "      <td>0</td>\n",
       "    </tr>\n",
       "    <tr>\n",
       "      <th>3</th>\n",
       "      <td>1</td>\n",
       "      <td>181.00</td>\n",
       "      <td>181.00</td>\n",
       "      <td>0.00</td>\n",
       "      <td>21182.00</td>\n",
       "      <td>0.00</td>\n",
       "      <td>1</td>\n",
       "      <td>0</td>\n",
       "    </tr>\n",
       "    <tr>\n",
       "      <th>4</th>\n",
       "      <td>1</td>\n",
       "      <td>11668.14</td>\n",
       "      <td>41554.00</td>\n",
       "      <td>29885.86</td>\n",
       "      <td>0.00</td>\n",
       "      <td>0.00</td>\n",
       "      <td>0</td>\n",
       "      <td>0</td>\n",
       "    </tr>\n",
       "    <tr>\n",
       "      <th>...</th>\n",
       "      <td>...</td>\n",
       "      <td>...</td>\n",
       "      <td>...</td>\n",
       "      <td>...</td>\n",
       "      <td>...</td>\n",
       "      <td>...</td>\n",
       "      <td>...</td>\n",
       "      <td>...</td>\n",
       "    </tr>\n",
       "    <tr>\n",
       "      <th>6362615</th>\n",
       "      <td>743</td>\n",
       "      <td>339682.13</td>\n",
       "      <td>339682.13</td>\n",
       "      <td>0.00</td>\n",
       "      <td>0.00</td>\n",
       "      <td>339682.13</td>\n",
       "      <td>1</td>\n",
       "      <td>0</td>\n",
       "    </tr>\n",
       "    <tr>\n",
       "      <th>6362616</th>\n",
       "      <td>743</td>\n",
       "      <td>6311409.28</td>\n",
       "      <td>6311409.28</td>\n",
       "      <td>0.00</td>\n",
       "      <td>0.00</td>\n",
       "      <td>0.00</td>\n",
       "      <td>1</td>\n",
       "      <td>0</td>\n",
       "    </tr>\n",
       "    <tr>\n",
       "      <th>6362617</th>\n",
       "      <td>743</td>\n",
       "      <td>6311409.28</td>\n",
       "      <td>6311409.28</td>\n",
       "      <td>0.00</td>\n",
       "      <td>68488.84</td>\n",
       "      <td>6379898.11</td>\n",
       "      <td>1</td>\n",
       "      <td>0</td>\n",
       "    </tr>\n",
       "    <tr>\n",
       "      <th>6362618</th>\n",
       "      <td>743</td>\n",
       "      <td>850002.52</td>\n",
       "      <td>850002.52</td>\n",
       "      <td>0.00</td>\n",
       "      <td>0.00</td>\n",
       "      <td>0.00</td>\n",
       "      <td>1</td>\n",
       "      <td>0</td>\n",
       "    </tr>\n",
       "    <tr>\n",
       "      <th>6362619</th>\n",
       "      <td>743</td>\n",
       "      <td>850002.52</td>\n",
       "      <td>850002.52</td>\n",
       "      <td>0.00</td>\n",
       "      <td>6510099.11</td>\n",
       "      <td>7360101.63</td>\n",
       "      <td>1</td>\n",
       "      <td>0</td>\n",
       "    </tr>\n",
       "  </tbody>\n",
       "</table>\n",
       "<p>6362620 rows × 8 columns</p>\n",
       "</div>"
      ],
      "text/plain": [
       "         step      amount  oldbalanceOrg  newbalanceOrig  oldbalanceDest  \\\n",
       "0           1     9839.64      170136.00       160296.36            0.00   \n",
       "1           1     1864.28       21249.00        19384.72            0.00   \n",
       "2           1      181.00         181.00            0.00            0.00   \n",
       "3           1      181.00         181.00            0.00        21182.00   \n",
       "4           1    11668.14       41554.00        29885.86            0.00   \n",
       "...       ...         ...            ...             ...             ...   \n",
       "6362615   743   339682.13      339682.13            0.00            0.00   \n",
       "6362616   743  6311409.28     6311409.28            0.00            0.00   \n",
       "6362617   743  6311409.28     6311409.28            0.00        68488.84   \n",
       "6362618   743   850002.52      850002.52            0.00            0.00   \n",
       "6362619   743   850002.52      850002.52            0.00      6510099.11   \n",
       "\n",
       "         newbalanceDest  isFraud  isFlaggedFraud  \n",
       "0                  0.00        0               0  \n",
       "1                  0.00        0               0  \n",
       "2                  0.00        1               0  \n",
       "3                  0.00        1               0  \n",
       "4                  0.00        0               0  \n",
       "...                 ...      ...             ...  \n",
       "6362615       339682.13        1               0  \n",
       "6362616            0.00        1               0  \n",
       "6362617      6379898.11        1               0  \n",
       "6362618            0.00        1               0  \n",
       "6362619      7360101.63        1               0  \n",
       "\n",
       "[6362620 rows x 8 columns]"
      ]
     },
     "execution_count": 56,
     "metadata": {},
     "output_type": "execute_result"
    }
   ],
   "source": [
    "df_num"
   ]
  },
  {
   "cell_type": "markdown",
   "id": "841a0503",
   "metadata": {},
   "source": [
    " Here I have seperated the numerical columns for further data processing.With the help of seelect_dtype fuction i have seperated 8 numeriacal columns which are as following :- 1)step, 2)amount, 3)oldbalanceOrg,4)newbalanceOrig,5)oldbalanceDest,6)newbalanceDest,7)isFraud,8)isFlaggedFraud,respectively.\n"
   ]
  },
  {
   "cell_type": "markdown",
   "id": "92bdb7a4",
   "metadata": {},
   "source": [
    "## Encoding the data of categorical columns"
   ]
  },
  {
   "cell_type": "code",
   "execution_count": 57,
   "id": "16a2f273",
   "metadata": {},
   "outputs": [],
   "source": [
    "from sklearn.preprocessing import LabelEncoder\n",
    "\n",
    "le=LabelEncoder()\n",
    "df[\"type\"]=le.fit_transform(df[\"type\"])"
   ]
  },
  {
   "cell_type": "code",
   "execution_count": 58,
   "id": "f31a8e65",
   "metadata": {},
   "outputs": [
    {
     "data": {
      "text/html": [
       "<div>\n",
       "<style scoped>\n",
       "    .dataframe tbody tr th:only-of-type {\n",
       "        vertical-align: middle;\n",
       "    }\n",
       "\n",
       "    .dataframe tbody tr th {\n",
       "        vertical-align: top;\n",
       "    }\n",
       "\n",
       "    .dataframe thead th {\n",
       "        text-align: right;\n",
       "    }\n",
       "</style>\n",
       "<table border=\"1\" class=\"dataframe\">\n",
       "  <thead>\n",
       "    <tr style=\"text-align: right;\">\n",
       "      <th></th>\n",
       "      <th>step</th>\n",
       "      <th>type</th>\n",
       "      <th>amount</th>\n",
       "      <th>client_id</th>\n",
       "      <th>oldbalanceOrg</th>\n",
       "      <th>newbalanceOrig</th>\n",
       "      <th>nameDest</th>\n",
       "      <th>oldbalanceDest</th>\n",
       "      <th>newbalanceDest</th>\n",
       "      <th>isFraud</th>\n",
       "      <th>isFlaggedFraud</th>\n",
       "    </tr>\n",
       "  </thead>\n",
       "  <tbody>\n",
       "    <tr>\n",
       "      <th>0</th>\n",
       "      <td>1</td>\n",
       "      <td>3</td>\n",
       "      <td>9839.64</td>\n",
       "      <td>1231006815</td>\n",
       "      <td>170136.00</td>\n",
       "      <td>160296.36</td>\n",
       "      <td>M1979787155</td>\n",
       "      <td>0.00</td>\n",
       "      <td>0.00</td>\n",
       "      <td>0</td>\n",
       "      <td>0</td>\n",
       "    </tr>\n",
       "    <tr>\n",
       "      <th>1</th>\n",
       "      <td>1</td>\n",
       "      <td>3</td>\n",
       "      <td>1864.28</td>\n",
       "      <td>1666544295</td>\n",
       "      <td>21249.00</td>\n",
       "      <td>19384.72</td>\n",
       "      <td>M2044282225</td>\n",
       "      <td>0.00</td>\n",
       "      <td>0.00</td>\n",
       "      <td>0</td>\n",
       "      <td>0</td>\n",
       "    </tr>\n",
       "    <tr>\n",
       "      <th>2</th>\n",
       "      <td>1</td>\n",
       "      <td>4</td>\n",
       "      <td>181.00</td>\n",
       "      <td>1305486145</td>\n",
       "      <td>181.00</td>\n",
       "      <td>0.00</td>\n",
       "      <td>C553264065</td>\n",
       "      <td>0.00</td>\n",
       "      <td>0.00</td>\n",
       "      <td>1</td>\n",
       "      <td>0</td>\n",
       "    </tr>\n",
       "    <tr>\n",
       "      <th>3</th>\n",
       "      <td>1</td>\n",
       "      <td>1</td>\n",
       "      <td>181.00</td>\n",
       "      <td>840083671</td>\n",
       "      <td>181.00</td>\n",
       "      <td>0.00</td>\n",
       "      <td>C38997010</td>\n",
       "      <td>21182.00</td>\n",
       "      <td>0.00</td>\n",
       "      <td>1</td>\n",
       "      <td>0</td>\n",
       "    </tr>\n",
       "    <tr>\n",
       "      <th>4</th>\n",
       "      <td>1</td>\n",
       "      <td>3</td>\n",
       "      <td>11668.14</td>\n",
       "      <td>2048537720</td>\n",
       "      <td>41554.00</td>\n",
       "      <td>29885.86</td>\n",
       "      <td>M1230701703</td>\n",
       "      <td>0.00</td>\n",
       "      <td>0.00</td>\n",
       "      <td>0</td>\n",
       "      <td>0</td>\n",
       "    </tr>\n",
       "    <tr>\n",
       "      <th>...</th>\n",
       "      <td>...</td>\n",
       "      <td>...</td>\n",
       "      <td>...</td>\n",
       "      <td>...</td>\n",
       "      <td>...</td>\n",
       "      <td>...</td>\n",
       "      <td>...</td>\n",
       "      <td>...</td>\n",
       "      <td>...</td>\n",
       "      <td>...</td>\n",
       "      <td>...</td>\n",
       "    </tr>\n",
       "    <tr>\n",
       "      <th>6362615</th>\n",
       "      <td>743</td>\n",
       "      <td>1</td>\n",
       "      <td>339682.13</td>\n",
       "      <td>786484425</td>\n",
       "      <td>339682.13</td>\n",
       "      <td>0.00</td>\n",
       "      <td>C776919290</td>\n",
       "      <td>0.00</td>\n",
       "      <td>339682.13</td>\n",
       "      <td>1</td>\n",
       "      <td>0</td>\n",
       "    </tr>\n",
       "    <tr>\n",
       "      <th>6362616</th>\n",
       "      <td>743</td>\n",
       "      <td>4</td>\n",
       "      <td>6311409.28</td>\n",
       "      <td>1529008245</td>\n",
       "      <td>6311409.28</td>\n",
       "      <td>0.00</td>\n",
       "      <td>C1881841831</td>\n",
       "      <td>0.00</td>\n",
       "      <td>0.00</td>\n",
       "      <td>1</td>\n",
       "      <td>0</td>\n",
       "    </tr>\n",
       "    <tr>\n",
       "      <th>6362617</th>\n",
       "      <td>743</td>\n",
       "      <td>1</td>\n",
       "      <td>6311409.28</td>\n",
       "      <td>1162922333</td>\n",
       "      <td>6311409.28</td>\n",
       "      <td>0.00</td>\n",
       "      <td>C1365125890</td>\n",
       "      <td>68488.84</td>\n",
       "      <td>6379898.11</td>\n",
       "      <td>1</td>\n",
       "      <td>0</td>\n",
       "    </tr>\n",
       "    <tr>\n",
       "      <th>6362618</th>\n",
       "      <td>743</td>\n",
       "      <td>4</td>\n",
       "      <td>850002.52</td>\n",
       "      <td>1685995037</td>\n",
       "      <td>850002.52</td>\n",
       "      <td>0.00</td>\n",
       "      <td>C2080388513</td>\n",
       "      <td>0.00</td>\n",
       "      <td>0.00</td>\n",
       "      <td>1</td>\n",
       "      <td>0</td>\n",
       "    </tr>\n",
       "    <tr>\n",
       "      <th>6362619</th>\n",
       "      <td>743</td>\n",
       "      <td>1</td>\n",
       "      <td>850002.52</td>\n",
       "      <td>1280323807</td>\n",
       "      <td>850002.52</td>\n",
       "      <td>0.00</td>\n",
       "      <td>C873221189</td>\n",
       "      <td>6510099.11</td>\n",
       "      <td>7360101.63</td>\n",
       "      <td>1</td>\n",
       "      <td>0</td>\n",
       "    </tr>\n",
       "  </tbody>\n",
       "</table>\n",
       "<p>6362620 rows × 11 columns</p>\n",
       "</div>"
      ],
      "text/plain": [
       "         step  type      amount   client_id  oldbalanceOrg  newbalanceOrig  \\\n",
       "0           1     3     9839.64  1231006815      170136.00       160296.36   \n",
       "1           1     3     1864.28  1666544295       21249.00        19384.72   \n",
       "2           1     4      181.00  1305486145         181.00            0.00   \n",
       "3           1     1      181.00   840083671         181.00            0.00   \n",
       "4           1     3    11668.14  2048537720       41554.00        29885.86   \n",
       "...       ...   ...         ...         ...            ...             ...   \n",
       "6362615   743     1   339682.13   786484425      339682.13            0.00   \n",
       "6362616   743     4  6311409.28  1529008245     6311409.28            0.00   \n",
       "6362617   743     1  6311409.28  1162922333     6311409.28            0.00   \n",
       "6362618   743     4   850002.52  1685995037      850002.52            0.00   \n",
       "6362619   743     1   850002.52  1280323807      850002.52            0.00   \n",
       "\n",
       "            nameDest  oldbalanceDest  newbalanceDest  isFraud  isFlaggedFraud  \n",
       "0        M1979787155            0.00            0.00        0               0  \n",
       "1        M2044282225            0.00            0.00        0               0  \n",
       "2         C553264065            0.00            0.00        1               0  \n",
       "3          C38997010        21182.00            0.00        1               0  \n",
       "4        M1230701703            0.00            0.00        0               0  \n",
       "...              ...             ...             ...      ...             ...  \n",
       "6362615   C776919290            0.00       339682.13        1               0  \n",
       "6362616  C1881841831            0.00            0.00        1               0  \n",
       "6362617  C1365125890        68488.84      6379898.11        1               0  \n",
       "6362618  C2080388513            0.00            0.00        1               0  \n",
       "6362619   C873221189      6510099.11      7360101.63        1               0  \n",
       "\n",
       "[6362620 rows x 11 columns]"
      ]
     },
     "execution_count": 58,
     "metadata": {},
     "output_type": "execute_result"
    }
   ],
   "source": [
    "df"
   ]
  },
  {
   "cell_type": "markdown",
   "id": "9861ea1c",
   "metadata": {},
   "source": [
    " In categorical columns we got three columns Type, NameOrig and NameDest. Now here i have encoded the categorical column name Type because we only going to need that column for dataprocessing not all."
   ]
  },
  {
   "cell_type": "code",
   "execution_count": 59,
   "id": "7126243b",
   "metadata": {},
   "outputs": [
    {
     "data": {
      "text/html": [
       "<div>\n",
       "<style scoped>\n",
       "    .dataframe tbody tr th:only-of-type {\n",
       "        vertical-align: middle;\n",
       "    }\n",
       "\n",
       "    .dataframe tbody tr th {\n",
       "        vertical-align: top;\n",
       "    }\n",
       "\n",
       "    .dataframe thead th {\n",
       "        text-align: right;\n",
       "    }\n",
       "</style>\n",
       "<table border=\"1\" class=\"dataframe\">\n",
       "  <thead>\n",
       "    <tr style=\"text-align: right;\">\n",
       "      <th></th>\n",
       "      <th>step</th>\n",
       "      <th>amount</th>\n",
       "      <th>oldbalanceOrg</th>\n",
       "      <th>newbalanceOrig</th>\n",
       "      <th>oldbalanceDest</th>\n",
       "      <th>newbalanceDest</th>\n",
       "      <th>isFraud</th>\n",
       "      <th>isFlaggedFraud</th>\n",
       "    </tr>\n",
       "  </thead>\n",
       "  <tbody>\n",
       "    <tr>\n",
       "      <th>0</th>\n",
       "      <td>1</td>\n",
       "      <td>9839.64</td>\n",
       "      <td>170136.00</td>\n",
       "      <td>160296.36</td>\n",
       "      <td>0.00</td>\n",
       "      <td>0.00</td>\n",
       "      <td>0</td>\n",
       "      <td>0</td>\n",
       "    </tr>\n",
       "    <tr>\n",
       "      <th>1</th>\n",
       "      <td>1</td>\n",
       "      <td>1864.28</td>\n",
       "      <td>21249.00</td>\n",
       "      <td>19384.72</td>\n",
       "      <td>0.00</td>\n",
       "      <td>0.00</td>\n",
       "      <td>0</td>\n",
       "      <td>0</td>\n",
       "    </tr>\n",
       "    <tr>\n",
       "      <th>2</th>\n",
       "      <td>1</td>\n",
       "      <td>181.00</td>\n",
       "      <td>181.00</td>\n",
       "      <td>0.00</td>\n",
       "      <td>0.00</td>\n",
       "      <td>0.00</td>\n",
       "      <td>1</td>\n",
       "      <td>0</td>\n",
       "    </tr>\n",
       "    <tr>\n",
       "      <th>3</th>\n",
       "      <td>1</td>\n",
       "      <td>181.00</td>\n",
       "      <td>181.00</td>\n",
       "      <td>0.00</td>\n",
       "      <td>21182.00</td>\n",
       "      <td>0.00</td>\n",
       "      <td>1</td>\n",
       "      <td>0</td>\n",
       "    </tr>\n",
       "    <tr>\n",
       "      <th>4</th>\n",
       "      <td>1</td>\n",
       "      <td>11668.14</td>\n",
       "      <td>41554.00</td>\n",
       "      <td>29885.86</td>\n",
       "      <td>0.00</td>\n",
       "      <td>0.00</td>\n",
       "      <td>0</td>\n",
       "      <td>0</td>\n",
       "    </tr>\n",
       "    <tr>\n",
       "      <th>...</th>\n",
       "      <td>...</td>\n",
       "      <td>...</td>\n",
       "      <td>...</td>\n",
       "      <td>...</td>\n",
       "      <td>...</td>\n",
       "      <td>...</td>\n",
       "      <td>...</td>\n",
       "      <td>...</td>\n",
       "    </tr>\n",
       "    <tr>\n",
       "      <th>6362615</th>\n",
       "      <td>743</td>\n",
       "      <td>339682.13</td>\n",
       "      <td>339682.13</td>\n",
       "      <td>0.00</td>\n",
       "      <td>0.00</td>\n",
       "      <td>339682.13</td>\n",
       "      <td>1</td>\n",
       "      <td>0</td>\n",
       "    </tr>\n",
       "    <tr>\n",
       "      <th>6362616</th>\n",
       "      <td>743</td>\n",
       "      <td>6311409.28</td>\n",
       "      <td>6311409.28</td>\n",
       "      <td>0.00</td>\n",
       "      <td>0.00</td>\n",
       "      <td>0.00</td>\n",
       "      <td>1</td>\n",
       "      <td>0</td>\n",
       "    </tr>\n",
       "    <tr>\n",
       "      <th>6362617</th>\n",
       "      <td>743</td>\n",
       "      <td>6311409.28</td>\n",
       "      <td>6311409.28</td>\n",
       "      <td>0.00</td>\n",
       "      <td>68488.84</td>\n",
       "      <td>6379898.11</td>\n",
       "      <td>1</td>\n",
       "      <td>0</td>\n",
       "    </tr>\n",
       "    <tr>\n",
       "      <th>6362618</th>\n",
       "      <td>743</td>\n",
       "      <td>850002.52</td>\n",
       "      <td>850002.52</td>\n",
       "      <td>0.00</td>\n",
       "      <td>0.00</td>\n",
       "      <td>0.00</td>\n",
       "      <td>1</td>\n",
       "      <td>0</td>\n",
       "    </tr>\n",
       "    <tr>\n",
       "      <th>6362619</th>\n",
       "      <td>743</td>\n",
       "      <td>850002.52</td>\n",
       "      <td>850002.52</td>\n",
       "      <td>0.00</td>\n",
       "      <td>6510099.11</td>\n",
       "      <td>7360101.63</td>\n",
       "      <td>1</td>\n",
       "      <td>0</td>\n",
       "    </tr>\n",
       "  </tbody>\n",
       "</table>\n",
       "<p>6362620 rows × 8 columns</p>\n",
       "</div>"
      ],
      "text/plain": [
       "         step      amount  oldbalanceOrg  newbalanceOrig  oldbalanceDest  \\\n",
       "0           1     9839.64      170136.00       160296.36            0.00   \n",
       "1           1     1864.28       21249.00        19384.72            0.00   \n",
       "2           1      181.00         181.00            0.00            0.00   \n",
       "3           1      181.00         181.00            0.00        21182.00   \n",
       "4           1    11668.14       41554.00        29885.86            0.00   \n",
       "...       ...         ...            ...             ...             ...   \n",
       "6362615   743   339682.13      339682.13            0.00            0.00   \n",
       "6362616   743  6311409.28     6311409.28            0.00            0.00   \n",
       "6362617   743  6311409.28     6311409.28            0.00        68488.84   \n",
       "6362618   743   850002.52      850002.52            0.00            0.00   \n",
       "6362619   743   850002.52      850002.52            0.00      6510099.11   \n",
       "\n",
       "         newbalanceDest  isFraud  isFlaggedFraud  \n",
       "0                  0.00        0               0  \n",
       "1                  0.00        0               0  \n",
       "2                  0.00        1               0  \n",
       "3                  0.00        1               0  \n",
       "4                  0.00        0               0  \n",
       "...                 ...      ...             ...  \n",
       "6362615       339682.13        1               0  \n",
       "6362616            0.00        1               0  \n",
       "6362617      6379898.11        1               0  \n",
       "6362618            0.00        1               0  \n",
       "6362619      7360101.63        1               0  \n",
       "\n",
       "[6362620 rows x 8 columns]"
      ]
     },
     "execution_count": 59,
     "metadata": {},
     "output_type": "execute_result"
    }
   ],
   "source": [
    "df_num"
   ]
  },
  {
   "cell_type": "code",
   "execution_count": 60,
   "id": "0650093a",
   "metadata": {},
   "outputs": [
    {
     "name": "stdout",
     "output_type": "stream",
     "text": [
      "************************************************************************************************************************\n",
      "\n",
      " After succesfully seperating the column we are going to check the skewness of all the features present in dataset\n",
      "\n",
      " As per the rule we can only check the skewness of numerical values present in data set,but some of the features are present in categorical format. in order to check their skewness we need to encode there values in numerical form.\n",
      "\n",
      " So as to check the skewness of every fearure that are numerical as well as categorica I have seperated the categorical column and encoded them succsesfully\n",
      "\n",
      "Now lets check the skewness of all the features present in dataset\n"
     ]
    }
   ],
   "source": [
    "print(\"************************************************************************************************************************\\n\\n After succesfully seperating the column we are going to check the skewness of all the features present in dataset\\n\\n As per the rule we can only check the skewness of numerical values present in data set,but some of the features are present in categorical format. in order to check their skewness we need to encode there values in numerical form.\\n\\n So as to check the skewness of every fearure that are numerical as well as categorica I have seperated the categorical column and encoded them succsesfully\\n\\nNow lets check the skewness of all the features present in dataset\")"
   ]
  },
  {
   "cell_type": "markdown",
   "id": "bfb69d87",
   "metadata": {},
   "source": [
    "## checking the skewness"
   ]
  },
  {
   "cell_type": "code",
   "execution_count": 61,
   "id": "870d5904",
   "metadata": {},
   "outputs": [],
   "source": [
    "from scipy.stats import skew"
   ]
  },
  {
   "cell_type": "markdown",
   "id": "3717106f",
   "metadata": {},
   "source": [
    " To check the skewness of the features im importing the module Skew from the library scipy.stats"
   ]
  },
  {
   "cell_type": "code",
   "execution_count": 62,
   "id": "547fa2c0",
   "metadata": {},
   "outputs": [
    {
     "name": "stdout",
     "output_type": "stream",
     "text": [
      "step\n",
      "0.3751768000211631\n"
     ]
    },
    {
     "data": {
      "text/plain": [
       "<Figure size 640x480 with 0 Axes>"
      ]
     },
     "metadata": {},
     "output_type": "display_data"
    },
    {
     "data": {
      "image/png": "[encoded data removed]",
      "text/plain": [
       "<Figure size 500x500 with 1 Axes>"
      ]
     },
     "metadata": {},
     "output_type": "display_data"
    },
    {
     "name": "stdout",
     "output_type": "stream",
     "text": [
      "amount\n",
      "30.99394217560623\n"
     ]
    },
    {
     "data": {
      "text/plain": [
       "<Figure size 640x480 with 0 Axes>"
      ]
     },
     "metadata": {},
     "output_type": "display_data"
    },
    {
     "data": {
      "image/png": "[encoded data removed]",
      "text/plain": [
       "<Figure size 500x500 with 1 Axes>"
      ]
     },
     "metadata": {},
     "output_type": "display_data"
    },
    {
     "name": "stdout",
     "output_type": "stream",
     "text": [
      "oldbalanceOrg\n",
      "5.249135183108952\n"
     ]
    },
    {
     "data": {
      "text/plain": [
       "<Figure size 640x480 with 0 Axes>"
      ]
     },
     "metadata": {},
     "output_type": "display_data"
    },
    {
     "data": {
      "image/png": "[encoded data removed]",
      "text/plain": [
       "<Figure size 500x500 with 1 Axes>"
      ]
     },
     "metadata": {},
     "output_type": "display_data"
    },
    {
     "name": "stdout",
     "output_type": "stream",
     "text": [
      "newbalanceOrig\n",
      "5.176882780698714\n"
     ]
    },
    {
     "data": {
      "text/plain": [
       "<Figure size 640x480 with 0 Axes>"
      ]
     },
     "metadata": {},
     "output_type": "display_data"
    },
    {
     "data": {
      "image/png": "[encoded data removed]",
      "text/plain": [
       "<Figure size 500x500 with 1 Axes>"
      ]
     },
     "metadata": {},
     "output_type": "display_data"
    },
    {
     "name": "stdout",
     "output_type": "stream",
     "text": [
      "oldbalanceDest\n",
      "19.921753219197708\n"
     ]
    },
    {
     "data": {
      "text/plain": [
       "<Figure size 640x480 with 0 Axes>"
      ]
     },
     "metadata": {},
     "output_type": "display_data"
    },
    {
     "data": {
      "image/png": "[encoded data removed]",
      "text/plain": [
       "<Figure size 500x500 with 1 Axes>"
      ]
     },
     "metadata": {},
     "output_type": "display_data"
    },
    {
     "name": "stdout",
     "output_type": "stream",
     "text": [
      "newbalanceDest\n",
      "19.35229749531714\n"
     ]
    },
    {
     "data": {
      "text/plain": [
       "<Figure size 640x480 with 0 Axes>"
      ]
     },
     "metadata": {},
     "output_type": "display_data"
    },
    {
     "data": {
      "image/png": "[encoded data removed]",
      "text/plain": [
       "<Figure size 500x500 with 1 Axes>"
      ]
     },
     "metadata": {},
     "output_type": "display_data"
    },
    {
     "name": "stdout",
     "output_type": "stream",
     "text": [
      "isFraud\n",
      "27.779531603983045\n"
     ]
    },
    {
     "data": {
      "text/plain": [
       "<Figure size 640x480 with 0 Axes>"
      ]
     },
     "metadata": {},
     "output_type": "display_data"
    },
    {
     "data": {
      "image/png": "[encoded data removed]",
      "text/plain": [
       "<Figure size 500x500 with 1 Axes>"
      ]
     },
     "metadata": {},
     "output_type": "display_data"
    },
    {
     "name": "stdout",
     "output_type": "stream",
     "text": [
      "isFlaggedFraud\n",
      "630.6034808043164\n"
     ]
    },
    {
     "data": {
      "text/plain": [
       "<Figure size 640x480 with 0 Axes>"
      ]
     },
     "metadata": {},
     "output_type": "display_data"
    },
    {
     "data": {
      "image/png": "[encoded data removed]",
      "text/plain": [
       "<Figure size 500x500 with 1 Axes>"
      ]
     },
     "metadata": {},
     "output_type": "display_data"
    }
   ],
   "source": [
    "for col in df_num:\n",
    "    print(col)\n",
    "    print(skew(df_num[col]))\n",
    "    \n",
    "    plt.figure()\n",
    "    sns.displot(df_num[col])\n",
    "    plt.show()"
   ]
  },
  {
   "cell_type": "markdown",
   "id": "a5630ac2",
   "metadata": {},
   "source": [
    " Here we got the skewed value of every feature "
   ]
  },
  {
   "cell_type": "code",
   "execution_count": 63,
   "id": "14e998dc",
   "metadata": {},
   "outputs": [
    {
     "name": "stdout",
     "output_type": "stream",
     "text": [
      "*****************************************Values of skewness*****************************************************\n",
      "\n",
      "\t1)Step\n",
      "The skewness of feature step is :-0.3751768000211631\n",
      "The feature step has no skewness meaning the data present in step is normally distributed \n",
      "\n",
      "\t2)Amount\n",
      "The skewness of feature amount is :-30.99394217560623 \n",
      "The feature Amount is highly skewed meaning the data present in Amount feature is not normally distributed\n",
      "It is also called as positively skewed data.\n",
      "\n",
      "\t3)OldbalanceOrg\n",
      "The skewness of feature OldbalanceOrg is :-5.249135183108952 \n",
      "The feature OldbalanceOrg is highly skewed meaning the data present in OldbalanceOrg feature is not normally distributed\n",
      "It is also called as positively skewed data.\n",
      "\n",
      "\t4)NewbalanceOrig\n",
      "The skewness of feature ewbalanceOrig is :- 5.176882780698714 \n",
      "The feature NewbalanceOrig is highly skewed meaning the data present in NewbalanceOrig feature is not normally distributed\n",
      "It is also called as positively skewed data.\n",
      "\n",
      "\t5)oldbalanceDest\n",
      "The skewness of feature oldbalanceDest is :- 19.921753219197708 \n",
      "The feature oldbalanceDest is highly skewed meaning the data present in oldbalanceDest feature is not normally distributed\n",
      "It is also called as positively skewed data.\n",
      "\n",
      "\t6)newbalanceDest\n",
      "The skewness of feature newbalanceDest is :- 19.35229749531714 \n",
      "The feature newbalanceDest is highly skewed meaning the data present in newbalanceDest feature is not normally distributed\n",
      "It is also called as positively skewed data.\n",
      "\n",
      "\t7)isFraud\n",
      "The skewness of feature isFraud is :- 27.779531603983045 \n",
      "The feature isFraud is highly skewed meaning the data present in isFraud feature is not normally distributed\n",
      "It is also called as positively skewed data.\n"
     ]
    }
   ],
   "source": [
    "print(\"*****************************************Values of skewness*****************************************************\\n\\n\\t1)Step\\nThe skewness of feature step is :-0.3751768000211631\\nThe feature step has no skewness meaning the data present in step is normally distributed \\n\\n\\t2)Amount\\nThe skewness of feature amount is :-30.99394217560623 \\nThe feature Amount is highly skewed meaning the data present in Amount feature is not normally distributed\\nIt is also called as positively skewed data.\\n\\n\\t3)OldbalanceOrg\\nThe skewness of feature OldbalanceOrg is :-5.249135183108952 \\nThe feature OldbalanceOrg is highly skewed meaning the data present in OldbalanceOrg feature is not normally distributed\\nIt is also called as positively skewed data.\\n\\n\\t4)NewbalanceOrig\\nThe skewness of feature ewbalanceOrig is :- 5.176882780698714 \\nThe feature NewbalanceOrig is highly skewed meaning the data present in NewbalanceOrig feature is not normally distributed\\nIt is also called as positively skewed data.\\n\\n\\t5)oldbalanceDest\\nThe skewness of feature oldbalanceDest is :- 19.921753219197708 \\nThe feature oldbalanceDest is highly skewed meaning the data present in oldbalanceDest feature is not normally distributed\\nIt is also called as positively skewed data.\\n\\n\\t6)newbalanceDest\\nThe skewness of feature newbalanceDest is :- 19.35229749531714 \\nThe feature newbalanceDest is highly skewed meaning the data present in newbalanceDest feature is not normally distributed\\nIt is also called as positively skewed data.\\n\\n\\t7)isFraud\\nThe skewness of feature isFraud is :- 27.779531603983045 \\nThe feature isFraud is highly skewed meaning the data present in isFraud feature is not normally distributed\\nIt is also called as positively skewed data.\")"
   ]
  },
  {
   "cell_type": "markdown",
   "id": "0c393d15",
   "metadata": {},
   "source": []
  },
  {
   "cell_type": "markdown",
   "id": "64dbc44d",
   "metadata": {},
   "source": [
    "## OBSERVATION :-"
   ]
  },
  {
   "cell_type": "markdown",
   "id": "20a9b952",
   "metadata": {},
   "source": [
    "Over here we could see the step column has good skewness and the rest of the columns along with target column are highly skewed. so before removing the skewness of the columns lets see the correlation between the feature and columns"
   ]
  },
  {
   "cell_type": "markdown",
   "id": "c19a0a1b",
   "metadata": {},
   "source": [
    "## Checking Correlation"
   ]
  },
  {
   "cell_type": "code",
   "execution_count": 64,
   "id": "46b0d2b0",
   "metadata": {},
   "outputs": [
    {
     "data": {
      "text/html": [
       "<div>\n",
       "<style scoped>\n",
       "    .dataframe tbody tr th:only-of-type {\n",
       "        vertical-align: middle;\n",
       "    }\n",
       "\n",
       "    .dataframe tbody tr th {\n",
       "        vertical-align: top;\n",
       "    }\n",
       "\n",
       "    .dataframe thead th {\n",
       "        text-align: right;\n",
       "    }\n",
       "</style>\n",
       "<table border=\"1\" class=\"dataframe\">\n",
       "  <thead>\n",
       "    <tr style=\"text-align: right;\">\n",
       "      <th></th>\n",
       "      <th>step</th>\n",
       "      <th>amount</th>\n",
       "      <th>oldbalanceOrg</th>\n",
       "      <th>newbalanceOrig</th>\n",
       "      <th>oldbalanceDest</th>\n",
       "      <th>newbalanceDest</th>\n",
       "      <th>isFraud</th>\n",
       "      <th>isFlaggedFraud</th>\n",
       "    </tr>\n",
       "  </thead>\n",
       "  <tbody>\n",
       "    <tr>\n",
       "      <th>step</th>\n",
       "      <td>1.000000</td>\n",
       "      <td>0.022373</td>\n",
       "      <td>-0.010058</td>\n",
       "      <td>-0.010299</td>\n",
       "      <td>0.027665</td>\n",
       "      <td>0.025888</td>\n",
       "      <td>0.031578</td>\n",
       "      <td>0.003277</td>\n",
       "    </tr>\n",
       "    <tr>\n",
       "      <th>amount</th>\n",
       "      <td>0.022373</td>\n",
       "      <td>1.000000</td>\n",
       "      <td>-0.002762</td>\n",
       "      <td>-0.007861</td>\n",
       "      <td>0.294137</td>\n",
       "      <td>0.459304</td>\n",
       "      <td>0.076688</td>\n",
       "      <td>0.012295</td>\n",
       "    </tr>\n",
       "    <tr>\n",
       "      <th>oldbalanceOrg</th>\n",
       "      <td>-0.010058</td>\n",
       "      <td>-0.002762</td>\n",
       "      <td>1.000000</td>\n",
       "      <td>0.998803</td>\n",
       "      <td>0.066243</td>\n",
       "      <td>0.042029</td>\n",
       "      <td>0.010154</td>\n",
       "      <td>0.003835</td>\n",
       "    </tr>\n",
       "    <tr>\n",
       "      <th>newbalanceOrig</th>\n",
       "      <td>-0.010299</td>\n",
       "      <td>-0.007861</td>\n",
       "      <td>0.998803</td>\n",
       "      <td>1.000000</td>\n",
       "      <td>0.067812</td>\n",
       "      <td>0.041837</td>\n",
       "      <td>-0.008148</td>\n",
       "      <td>0.003776</td>\n",
       "    </tr>\n",
       "    <tr>\n",
       "      <th>oldbalanceDest</th>\n",
       "      <td>0.027665</td>\n",
       "      <td>0.294137</td>\n",
       "      <td>0.066243</td>\n",
       "      <td>0.067812</td>\n",
       "      <td>1.000000</td>\n",
       "      <td>0.976569</td>\n",
       "      <td>-0.005885</td>\n",
       "      <td>-0.000513</td>\n",
       "    </tr>\n",
       "    <tr>\n",
       "      <th>newbalanceDest</th>\n",
       "      <td>0.025888</td>\n",
       "      <td>0.459304</td>\n",
       "      <td>0.042029</td>\n",
       "      <td>0.041837</td>\n",
       "      <td>0.976569</td>\n",
       "      <td>1.000000</td>\n",
       "      <td>0.000535</td>\n",
       "      <td>-0.000529</td>\n",
       "    </tr>\n",
       "    <tr>\n",
       "      <th>isFraud</th>\n",
       "      <td>0.031578</td>\n",
       "      <td>0.076688</td>\n",
       "      <td>0.010154</td>\n",
       "      <td>-0.008148</td>\n",
       "      <td>-0.005885</td>\n",
       "      <td>0.000535</td>\n",
       "      <td>1.000000</td>\n",
       "      <td>0.044109</td>\n",
       "    </tr>\n",
       "    <tr>\n",
       "      <th>isFlaggedFraud</th>\n",
       "      <td>0.003277</td>\n",
       "      <td>0.012295</td>\n",
       "      <td>0.003835</td>\n",
       "      <td>0.003776</td>\n",
       "      <td>-0.000513</td>\n",
       "      <td>-0.000529</td>\n",
       "      <td>0.044109</td>\n",
       "      <td>1.000000</td>\n",
       "    </tr>\n",
       "  </tbody>\n",
       "</table>\n",
       "</div>"
      ],
      "text/plain": [
       "                    step    amount  oldbalanceOrg  newbalanceOrig  \\\n",
       "step            1.000000  0.022373      -0.010058       -0.010299   \n",
       "amount          0.022373  1.000000      -0.002762       -0.007861   \n",
       "oldbalanceOrg  -0.010058 -0.002762       1.000000        0.998803   \n",
       "newbalanceOrig -0.010299 -0.007861       0.998803        1.000000   \n",
       "oldbalanceDest  0.027665  0.294137       0.066243        0.067812   \n",
       "newbalanceDest  0.025888  0.459304       0.042029        0.041837   \n",
       "isFraud         0.031578  0.076688       0.010154       -0.008148   \n",
       "isFlaggedFraud  0.003277  0.012295       0.003835        0.003776   \n",
       "\n",
       "                oldbalanceDest  newbalanceDest   isFraud  isFlaggedFraud  \n",
       "step                  0.027665        0.025888  0.031578        0.003277  \n",
       "amount                0.294137        0.459304  0.076688        0.012295  \n",
       "oldbalanceOrg         0.066243        0.042029  0.010154        0.003835  \n",
       "newbalanceOrig        0.067812        0.041837 -0.008148        0.003776  \n",
       "oldbalanceDest        1.000000        0.976569 -0.005885       -0.000513  \n",
       "newbalanceDest        0.976569        1.000000  0.000535       -0.000529  \n",
       "isFraud              -0.005885        0.000535  1.000000        0.044109  \n",
       "isFlaggedFraud       -0.000513       -0.000529  0.044109        1.000000  "
      ]
     },
     "execution_count": 64,
     "metadata": {},
     "output_type": "execute_result"
    }
   ],
   "source": [
    "df_num.corr()"
   ]
  },
  {
   "cell_type": "markdown",
   "id": "b1e64dba",
   "metadata": {},
   "source": [
    "## Plotting the graph for better understanding"
   ]
  },
  {
   "cell_type": "code",
   "execution_count": 65,
   "id": "5604c575",
   "metadata": {},
   "outputs": [
    {
     "data": {
      "text/plain": [
       "<AxesSubplot:>"
      ]
     },
     "execution_count": 65,
     "metadata": {},
     "output_type": "execute_result"
    },
    {
     "data": {
      "image/png": "[encoded data removed]",
      "text/plain": [
       "<Figure size 640x480 with 2 Axes>"
      ]
     },
     "metadata": {},
     "output_type": "display_data"
    }
   ],
   "source": [
    "sns.heatmap(df_num.corr(),annot=True)"
   ]
  },
  {
   "cell_type": "markdown",
   "id": "c377f2cc",
   "metadata": {},
   "source": [
    "From the graph we can conclude that not a single column has good correlation with target column.so lets remove the skewness of all the columns."
   ]
  },
  {
   "cell_type": "markdown",
   "id": "2c4adb7a",
   "metadata": {},
   "source": [
    "## Observation :-"
   ]
  },
  {
   "cell_type": "code",
   "execution_count": 66,
   "id": "e281c5df",
   "metadata": {},
   "outputs": [
    {
     "name": "stdout",
     "output_type": "stream",
     "text": [
      "With help of corr function im checking the correlation of all the features with target columns.\n",
      "\n",
      " As per the values in correlation table we can conclude that the correlation of feature step with target column isFraud is bad but we have normally distributed data of step so we will not remove the skewness of step.\n",
      "\n",
      " The correlation of amount with target column is bad and also the data is highly positive so we need to remove the sskewness of this feature.\n",
      "\n",
      " The correlation of oldbalanceOrg with target column is bad and also the data is highly positive so we need to remove the sskewness of this feature\n",
      "\n",
      " The correlation of newbalanceOrig with target column is bad and also the data is highly positive so we need to remove the sskewness of this feature.\n",
      "\n",
      " The correlation of oldbalanceDest with target column is bad and also the data is highly positive so we need to remove the sskewness of this feature.\n",
      "\n",
      " The correlation of newbalanceDest with target column is bad and also the data is highly positive so we need to remove the sskewness of this feature.\n"
     ]
    }
   ],
   "source": [
    "print(\"With help of corr function im checking the correlation of all the features with target columns.\\n\\n As per the values in correlation table we can conclude that the correlation of feature step with target column isFraud is bad but we have normally distributed data of step so we will not remove the skewness of step.\\n\\n The correlation of amount with target column is bad and also the data is highly positive so we need to remove the sskewness of this feature.\\n\\n The correlation of oldbalanceOrg with target column is bad and also the data is highly positive so we need to remove the sskewness of this feature\\n\\n The correlation of newbalanceOrig with target column is bad and also the data is highly positive so we need to remove the sskewness of this feature.\\n\\n The correlation of oldbalanceDest with target column is bad and also the data is highly positive so we need to remove the sskewness of this feature.\\n\\n The correlation of newbalanceDest with target column is bad and also the data is highly positive so we need to remove the sskewness of this feature.\")\n"
   ]
  },
  {
   "cell_type": "markdown",
   "id": "515ee0d2",
   "metadata": {},
   "source": [
    "## Removing skewness"
   ]
  },
  {
   "cell_type": "code",
   "execution_count": 67,
   "id": "29c3a279",
   "metadata": {},
   "outputs": [],
   "source": [
    "df_nums=df_num[[\"amount\",\"oldbalanceOrg\",\"newbalanceOrig\",\"oldbalanceDest\",\"newbalanceDest\",\"isFraud\",\"isFlaggedFraud\"]]"
   ]
  },
  {
   "cell_type": "code",
   "execution_count": 68,
   "id": "001bcb7e",
   "metadata": {},
   "outputs": [
    {
     "data": {
      "text/html": [
       "<div>\n",
       "<style scoped>\n",
       "    .dataframe tbody tr th:only-of-type {\n",
       "        vertical-align: middle;\n",
       "    }\n",
       "\n",
       "    .dataframe tbody tr th {\n",
       "        vertical-align: top;\n",
       "    }\n",
       "\n",
       "    .dataframe thead th {\n",
       "        text-align: right;\n",
       "    }\n",
       "</style>\n",
       "<table border=\"1\" class=\"dataframe\">\n",
       "  <thead>\n",
       "    <tr style=\"text-align: right;\">\n",
       "      <th></th>\n",
       "      <th>amount</th>\n",
       "      <th>oldbalanceOrg</th>\n",
       "      <th>newbalanceOrig</th>\n",
       "      <th>oldbalanceDest</th>\n",
       "      <th>newbalanceDest</th>\n",
       "      <th>isFraud</th>\n",
       "      <th>isFlaggedFraud</th>\n",
       "    </tr>\n",
       "  </thead>\n",
       "  <tbody>\n",
       "    <tr>\n",
       "      <th>0</th>\n",
       "      <td>9839.64</td>\n",
       "      <td>170136.00</td>\n",
       "      <td>160296.36</td>\n",
       "      <td>0.00</td>\n",
       "      <td>0.00</td>\n",
       "      <td>0</td>\n",
       "      <td>0</td>\n",
       "    </tr>\n",
       "    <tr>\n",
       "      <th>1</th>\n",
       "      <td>1864.28</td>\n",
       "      <td>21249.00</td>\n",
       "      <td>19384.72</td>\n",
       "      <td>0.00</td>\n",
       "      <td>0.00</td>\n",
       "      <td>0</td>\n",
       "      <td>0</td>\n",
       "    </tr>\n",
       "    <tr>\n",
       "      <th>2</th>\n",
       "      <td>181.00</td>\n",
       "      <td>181.00</td>\n",
       "      <td>0.00</td>\n",
       "      <td>0.00</td>\n",
       "      <td>0.00</td>\n",
       "      <td>1</td>\n",
       "      <td>0</td>\n",
       "    </tr>\n",
       "    <tr>\n",
       "      <th>3</th>\n",
       "      <td>181.00</td>\n",
       "      <td>181.00</td>\n",
       "      <td>0.00</td>\n",
       "      <td>21182.00</td>\n",
       "      <td>0.00</td>\n",
       "      <td>1</td>\n",
       "      <td>0</td>\n",
       "    </tr>\n",
       "    <tr>\n",
       "      <th>4</th>\n",
       "      <td>11668.14</td>\n",
       "      <td>41554.00</td>\n",
       "      <td>29885.86</td>\n",
       "      <td>0.00</td>\n",
       "      <td>0.00</td>\n",
       "      <td>0</td>\n",
       "      <td>0</td>\n",
       "    </tr>\n",
       "    <tr>\n",
       "      <th>...</th>\n",
       "      <td>...</td>\n",
       "      <td>...</td>\n",
       "      <td>...</td>\n",
       "      <td>...</td>\n",
       "      <td>...</td>\n",
       "      <td>...</td>\n",
       "      <td>...</td>\n",
       "    </tr>\n",
       "    <tr>\n",
       "      <th>6362615</th>\n",
       "      <td>339682.13</td>\n",
       "      <td>339682.13</td>\n",
       "      <td>0.00</td>\n",
       "      <td>0.00</td>\n",
       "      <td>339682.13</td>\n",
       "      <td>1</td>\n",
       "      <td>0</td>\n",
       "    </tr>\n",
       "    <tr>\n",
       "      <th>6362616</th>\n",
       "      <td>6311409.28</td>\n",
       "      <td>6311409.28</td>\n",
       "      <td>0.00</td>\n",
       "      <td>0.00</td>\n",
       "      <td>0.00</td>\n",
       "      <td>1</td>\n",
       "      <td>0</td>\n",
       "    </tr>\n",
       "    <tr>\n",
       "      <th>6362617</th>\n",
       "      <td>6311409.28</td>\n",
       "      <td>6311409.28</td>\n",
       "      <td>0.00</td>\n",
       "      <td>68488.84</td>\n",
       "      <td>6379898.11</td>\n",
       "      <td>1</td>\n",
       "      <td>0</td>\n",
       "    </tr>\n",
       "    <tr>\n",
       "      <th>6362618</th>\n",
       "      <td>850002.52</td>\n",
       "      <td>850002.52</td>\n",
       "      <td>0.00</td>\n",
       "      <td>0.00</td>\n",
       "      <td>0.00</td>\n",
       "      <td>1</td>\n",
       "      <td>0</td>\n",
       "    </tr>\n",
       "    <tr>\n",
       "      <th>6362619</th>\n",
       "      <td>850002.52</td>\n",
       "      <td>850002.52</td>\n",
       "      <td>0.00</td>\n",
       "      <td>6510099.11</td>\n",
       "      <td>7360101.63</td>\n",
       "      <td>1</td>\n",
       "      <td>0</td>\n",
       "    </tr>\n",
       "  </tbody>\n",
       "</table>\n",
       "<p>6362620 rows × 7 columns</p>\n",
       "</div>"
      ],
      "text/plain": [
       "             amount  oldbalanceOrg  newbalanceOrig  oldbalanceDest  \\\n",
       "0           9839.64      170136.00       160296.36            0.00   \n",
       "1           1864.28       21249.00        19384.72            0.00   \n",
       "2            181.00         181.00            0.00            0.00   \n",
       "3            181.00         181.00            0.00        21182.00   \n",
       "4          11668.14       41554.00        29885.86            0.00   \n",
       "...             ...            ...             ...             ...   \n",
       "6362615   339682.13      339682.13            0.00            0.00   \n",
       "6362616  6311409.28     6311409.28            0.00            0.00   \n",
       "6362617  6311409.28     6311409.28            0.00        68488.84   \n",
       "6362618   850002.52      850002.52            0.00            0.00   \n",
       "6362619   850002.52      850002.52            0.00      6510099.11   \n",
       "\n",
       "         newbalanceDest  isFraud  isFlaggedFraud  \n",
       "0                  0.00        0               0  \n",
       "1                  0.00        0               0  \n",
       "2                  0.00        1               0  \n",
       "3                  0.00        1               0  \n",
       "4                  0.00        0               0  \n",
       "...                 ...      ...             ...  \n",
       "6362615       339682.13        1               0  \n",
       "6362616            0.00        1               0  \n",
       "6362617      6379898.11        1               0  \n",
       "6362618            0.00        1               0  \n",
       "6362619      7360101.63        1               0  \n",
       "\n",
       "[6362620 rows x 7 columns]"
      ]
     },
     "execution_count": 68,
     "metadata": {},
     "output_type": "execute_result"
    }
   ],
   "source": [
    "df_nums"
   ]
  },
  {
   "cell_type": "code",
   "execution_count": 69,
   "id": "f1f225c6",
   "metadata": {},
   "outputs": [],
   "source": [
    "for col in df_nums:\n",
    "    df_nums[col]=np.sqrt(df_num[col])"
   ]
  },
  {
   "cell_type": "code",
   "execution_count": 70,
   "id": "5dcec5a6",
   "metadata": {},
   "outputs": [
    {
     "name": "stdout",
     "output_type": "stream",
     "text": [
      "****************************************OBSERVATION*******************************************************************\n",
      "\n",
      " We have log transformation and squreroot transformation to reduce the skewness.Here i am applying the squareroot transformation to reduce the skewness of the features\n"
     ]
    }
   ],
   "source": [
    "print(\"****************************************OBSERVATION*******************************************************************\\n\\n We have log transformation and squreroot transformation to reduce the skewness.Here i am applying the squareroot transformation to reduce the skewness of the features\") "
   ]
  },
  {
   "cell_type": "code",
   "execution_count": 71,
   "id": "5e6ea100",
   "metadata": {},
   "outputs": [
    {
     "name": "stdout",
     "output_type": "stream",
     "text": [
      "amount\n",
      "oldbalanceOrg\n",
      "newbalanceOrig\n",
      "oldbalanceDest\n",
      "newbalanceDest\n",
      "isFraud\n",
      "isFlaggedFraud\n",
      "[3.661257023303042, 3.0410435775848352, 2.941776707459451, 2.3663369984028937, 2.330442948034487, 27.779531603983045, 630.6034808043164]\n"
     ]
    }
   ],
   "source": [
    "df_numeric=[]\n",
    "for col in df_nums:\n",
    "    print(col)\n",
    "    df_numeric.append(skew(df_nums[col]))\n",
    "    \n",
    "print(df_numeric)"
   ]
  },
  {
   "cell_type": "markdown",
   "id": "9053455b",
   "metadata": {},
   "source": [
    "## Dropping the column that are not necesssory "
   ]
  },
  {
   "cell_type": "code",
   "execution_count": 72,
   "id": "9e3663e2",
   "metadata": {
    "scrolled": true
   },
   "outputs": [],
   "source": [
    "df.drop([\"client_id\",\"nameDest\",\"isFlaggedFraud\",\"oldbalanceDest\",\"newbalanceDest\",\"isFlaggedFraud\"],axis=1,inplace=True)"
   ]
  },
  {
   "cell_type": "code",
   "execution_count": 73,
   "id": "2e0ca419",
   "metadata": {},
   "outputs": [
    {
     "name": "stdout",
     "output_type": "stream",
     "text": [
      "Here i am dropping the columns(client_id,nameDest,isFlaggedFraud,oldbalanceDest,newbalanceDest)\n",
      "\n",
      " client_id,because we do not need this column in computation as it not gonna help by any means.\n",
      "\n",
      " nameDest,this column again represent the name of the client who started the transaction so we will not need the column for computation purpose.\n",
      "\n",
      " isFlaggedFraud,this feature is duplicate column as isFraud so i do not need it.oldbalanceDest,This feature column represents the old amount present in receipient account and we not actually need it for computational purpose as it does not add any value .\n",
      "\n",
      " newbalanceDest, we do not need this feature column as it does not add any value and  is not necessary for computtional purpose\n"
     ]
    }
   ],
   "source": [
    " print(\"Here i am dropping the columns(client_id,nameDest,isFlaggedFraud,oldbalanceDest,newbalanceDest)\\n\\n client_id,because we do not need this column in computation as it not gonna help by any means.\\n\\n nameDest,this column again represent the name of the client who started the transaction so we will not need the column for computation purpose.\\n\\n isFlaggedFraud,this feature is duplicate column as isFraud so i do not need it.oldbalanceDest,This feature column represents the old amount present in receipient account and we not actually need it for computational purpose as it does not add any value .\\n\\n newbalanceDest, we do not need this feature column as it does not add any value and  is not necessary for computtional purpose\")"
   ]
  },
  {
   "cell_type": "code",
   "execution_count": 74,
   "id": "b4a76482",
   "metadata": {},
   "outputs": [
    {
     "data": {
      "text/html": [
       "<div>\n",
       "<style scoped>\n",
       "    .dataframe tbody tr th:only-of-type {\n",
       "        vertical-align: middle;\n",
       "    }\n",
       "\n",
       "    .dataframe tbody tr th {\n",
       "        vertical-align: top;\n",
       "    }\n",
       "\n",
       "    .dataframe thead th {\n",
       "        text-align: right;\n",
       "    }\n",
       "</style>\n",
       "<table border=\"1\" class=\"dataframe\">\n",
       "  <thead>\n",
       "    <tr style=\"text-align: right;\">\n",
       "      <th></th>\n",
       "      <th>step</th>\n",
       "      <th>type</th>\n",
       "      <th>amount</th>\n",
       "      <th>oldbalanceOrg</th>\n",
       "      <th>newbalanceOrig</th>\n",
       "      <th>isFraud</th>\n",
       "    </tr>\n",
       "  </thead>\n",
       "  <tbody>\n",
       "    <tr>\n",
       "      <th>0</th>\n",
       "      <td>1</td>\n",
       "      <td>3</td>\n",
       "      <td>9839.64</td>\n",
       "      <td>170136.00</td>\n",
       "      <td>160296.36</td>\n",
       "      <td>0</td>\n",
       "    </tr>\n",
       "    <tr>\n",
       "      <th>1</th>\n",
       "      <td>1</td>\n",
       "      <td>3</td>\n",
       "      <td>1864.28</td>\n",
       "      <td>21249.00</td>\n",
       "      <td>19384.72</td>\n",
       "      <td>0</td>\n",
       "    </tr>\n",
       "    <tr>\n",
       "      <th>2</th>\n",
       "      <td>1</td>\n",
       "      <td>4</td>\n",
       "      <td>181.00</td>\n",
       "      <td>181.00</td>\n",
       "      <td>0.00</td>\n",
       "      <td>1</td>\n",
       "    </tr>\n",
       "    <tr>\n",
       "      <th>3</th>\n",
       "      <td>1</td>\n",
       "      <td>1</td>\n",
       "      <td>181.00</td>\n",
       "      <td>181.00</td>\n",
       "      <td>0.00</td>\n",
       "      <td>1</td>\n",
       "    </tr>\n",
       "    <tr>\n",
       "      <th>4</th>\n",
       "      <td>1</td>\n",
       "      <td>3</td>\n",
       "      <td>11668.14</td>\n",
       "      <td>41554.00</td>\n",
       "      <td>29885.86</td>\n",
       "      <td>0</td>\n",
       "    </tr>\n",
       "    <tr>\n",
       "      <th>...</th>\n",
       "      <td>...</td>\n",
       "      <td>...</td>\n",
       "      <td>...</td>\n",
       "      <td>...</td>\n",
       "      <td>...</td>\n",
       "      <td>...</td>\n",
       "    </tr>\n",
       "    <tr>\n",
       "      <th>6362615</th>\n",
       "      <td>743</td>\n",
       "      <td>1</td>\n",
       "      <td>339682.13</td>\n",
       "      <td>339682.13</td>\n",
       "      <td>0.00</td>\n",
       "      <td>1</td>\n",
       "    </tr>\n",
       "    <tr>\n",
       "      <th>6362616</th>\n",
       "      <td>743</td>\n",
       "      <td>4</td>\n",
       "      <td>6311409.28</td>\n",
       "      <td>6311409.28</td>\n",
       "      <td>0.00</td>\n",
       "      <td>1</td>\n",
       "    </tr>\n",
       "    <tr>\n",
       "      <th>6362617</th>\n",
       "      <td>743</td>\n",
       "      <td>1</td>\n",
       "      <td>6311409.28</td>\n",
       "      <td>6311409.28</td>\n",
       "      <td>0.00</td>\n",
       "      <td>1</td>\n",
       "    </tr>\n",
       "    <tr>\n",
       "      <th>6362618</th>\n",
       "      <td>743</td>\n",
       "      <td>4</td>\n",
       "      <td>850002.52</td>\n",
       "      <td>850002.52</td>\n",
       "      <td>0.00</td>\n",
       "      <td>1</td>\n",
       "    </tr>\n",
       "    <tr>\n",
       "      <th>6362619</th>\n",
       "      <td>743</td>\n",
       "      <td>1</td>\n",
       "      <td>850002.52</td>\n",
       "      <td>850002.52</td>\n",
       "      <td>0.00</td>\n",
       "      <td>1</td>\n",
       "    </tr>\n",
       "  </tbody>\n",
       "</table>\n",
       "<p>6362620 rows × 6 columns</p>\n",
       "</div>"
      ],
      "text/plain": [
       "         step  type      amount  oldbalanceOrg  newbalanceOrig  isFraud\n",
       "0           1     3     9839.64      170136.00       160296.36        0\n",
       "1           1     3     1864.28       21249.00        19384.72        0\n",
       "2           1     4      181.00         181.00            0.00        1\n",
       "3           1     1      181.00         181.00            0.00        1\n",
       "4           1     3    11668.14       41554.00        29885.86        0\n",
       "...       ...   ...         ...            ...             ...      ...\n",
       "6362615   743     1   339682.13      339682.13            0.00        1\n",
       "6362616   743     4  6311409.28     6311409.28            0.00        1\n",
       "6362617   743     1  6311409.28     6311409.28            0.00        1\n",
       "6362618   743     4   850002.52      850002.52            0.00        1\n",
       "6362619   743     1   850002.52      850002.52            0.00        1\n",
       "\n",
       "[6362620 rows x 6 columns]"
      ]
     },
     "execution_count": 74,
     "metadata": {},
     "output_type": "execute_result"
    }
   ],
   "source": [
    "df"
   ]
  },
  {
   "cell_type": "markdown",
   "id": "e133d803",
   "metadata": {},
   "source": [
    "### data preprocessing"
   ]
  },
  {
   "cell_type": "code",
   "execution_count": 75,
   "id": "1b6ab879",
   "metadata": {},
   "outputs": [
    {
     "data": {
      "image/png": "[encoded data removed]",
      "text/plain": [
       "<Figure size 640x480 with 1 Axes>"
      ]
     },
     "metadata": {},
     "output_type": "display_data"
    }
   ],
   "source": [
    "plt.pie(df.isFraud.value_counts(),autopct='%1.1f%%', pctdistance=0.85)\n",
    "centre_circle = plt.Circle((0, 0), 0.70, fc='white')\n",
    "fig = plt.gcf()\n",
    "fig.gca().add_artist(centre_circle)\n",
    "plt.show()"
   ]
  },
  {
   "cell_type": "markdown",
   "id": "2601da0f",
   "metadata": {},
   "source": [
    " Here i plotted a graph to show the percentage share of the different class"
   ]
  },
  {
   "cell_type": "markdown",
   "id": "b33ec0df",
   "metadata": {},
   "source": [
    "## Observation:-"
   ]
  },
  {
   "cell_type": "markdown",
   "id": "7a3a3b23",
   "metadata": {},
   "source": [
    "Here we could clearly see that the data is highly imbalance so in order to make correct predictions we need to balance the data"
   ]
  },
  {
   "cell_type": "markdown",
   "id": "32d2ac52",
   "metadata": {},
   "source": [
    "## Using under sampling technique to balance the data"
   ]
  },
  {
   "cell_type": "code",
   "execution_count": 76,
   "id": "d6bbe535",
   "metadata": {},
   "outputs": [
    {
     "name": "stdout",
     "output_type": "stream",
     "text": [
      "class_0 = (6354407, 6)\n",
      "class_1 = (8213, 6)\n"
     ]
    }
   ],
   "source": [
    "#class_count\n",
    "class_0_count, class_1_count = df['isFraud'].value_counts()\n",
    "\n",
    "# seperate the class\n",
    "class_0= df[df['isFraud']==0]\n",
    "class_1=df[df['isFraud']==1]\n",
    "print(\"class_0 =\",class_0.shape)\n",
    "print(\"class_1 =\",class_1.shape)"
   ]
  },
  {
   "cell_type": "code",
   "execution_count": 77,
   "id": "cd9893c6",
   "metadata": {},
   "outputs": [
    {
     "data": {
      "text/plain": [
       "(6354407, 8213)"
      ]
     },
     "execution_count": 77,
     "metadata": {},
     "output_type": "execute_result"
    }
   ],
   "source": [
    "class_0_count,class_1_count"
   ]
  },
  {
   "cell_type": "markdown",
   "id": "56f468d4",
   "metadata": {},
   "source": [
    " OBSERVATION :-  After seperating the class sucessfuly,As we can see in target column the class 0 or non fraudulent class has the highest values and the class 1 or fraudulent class has the minimum values "
   ]
  },
  {
   "cell_type": "markdown",
   "id": "d0e638ba",
   "metadata": {},
   "source": [
    " Using under sampling i segregated the data in equal part"
   ]
  },
  {
   "cell_type": "markdown",
   "id": "0db9d4d8",
   "metadata": {},
   "source": [
    "## plotting the graph to visualise the data after balancing the data by under sampling"
   ]
  },
  {
   "cell_type": "code",
   "execution_count": 78,
   "id": "4ef7328b",
   "metadata": {},
   "outputs": [
    {
     "name": "stdout",
     "output_type": "stream",
     "text": [
      "Total_class_of 1 and 0 : 0    8213\n",
      "1    8213\n",
      "Name: isFraud, dtype: int64\n"
     ]
    },
    {
     "data": {
      "text/plain": [
       "<AxesSubplot:title={'center':'count/(target)'}>"
      ]
     },
     "execution_count": 78,
     "metadata": {},
     "output_type": "execute_result"
    },
    {
     "data": {
      "image/png": "[encoded data removed]",
      "text/plain": [
       "<Figure size 640x480 with 1 Axes>"
      ]
     },
     "metadata": {},
     "output_type": "display_data"
    }
   ],
   "source": [
    "class_0_under= class_0.sample(class_1_count) # under sampling\n",
    "\n",
    "balancing_data = pd.concat([class_0_under, class_1], axis=0)\n",
    "\n",
    "print(\"Total_class_of 1 and 0 :\",balancing_data[\"isFraud\"].value_counts())\n",
    "\n",
    "\n",
    "    \n",
    "balancing_data[\"isFraud\"].value_counts().plot(kind=\"bar\", title=\"count/(target)\")\n"
   ]
  },
  {
   "cell_type": "markdown",
   "id": "e8c2e342",
   "metadata": {},
   "source": [
    "## Adding a new column which shows the difference amount in transaction"
   ]
  },
  {
   "cell_type": "code",
   "execution_count": 79,
   "id": "789bb4ec",
   "metadata": {},
   "outputs": [],
   "source": [
    "balance_diff = balancing_data.oldbalanceOrg - balancing_data.newbalanceOrig"
   ]
  },
  {
   "cell_type": "code",
   "execution_count": 80,
   "id": "8d1455ab",
   "metadata": {},
   "outputs": [],
   "source": [
    "balancing_data.insert(5,\"balance_diff\",balance_diff)"
   ]
  },
  {
   "cell_type": "markdown",
   "id": "f96d7a46",
   "metadata": {},
   "source": [
    "## forming a new dataset"
   ]
  },
  {
   "cell_type": "code",
   "execution_count": 81,
   "id": "e6da8b96",
   "metadata": {},
   "outputs": [
    {
     "name": "stdout",
     "output_type": "stream",
     "text": [
      "<class 'pandas.core.frame.DataFrame'>\n",
      "Int64Index: 16426 entries, 3173502 to 6362619\n",
      "Data columns (total 7 columns):\n",
      " #   Column          Non-Null Count  Dtype  \n",
      "---  ------          --------------  -----  \n",
      " 0   step            16426 non-null  int64  \n",
      " 1   type            16426 non-null  int32  \n",
      " 2   amount          16426 non-null  float64\n",
      " 3   oldbalanceOrg   16426 non-null  float64\n",
      " 4   newbalanceOrig  16426 non-null  float64\n",
      " 5   balance_diff    16426 non-null  float64\n",
      " 6   isFraud         16426 non-null  int64  \n",
      "dtypes: float64(4), int32(1), int64(2)\n",
      "memory usage: 962.5 KB\n"
     ]
    }
   ],
   "source": [
    "balancing_data.info()"
   ]
  },
  {
   "cell_type": "markdown",
   "id": "cbf0e73a",
   "metadata": {},
   "source": [
    "## splitting of data into X and Y"
   ]
  },
  {
   "cell_type": "code",
   "execution_count": 82,
   "id": "c9fbbc04",
   "metadata": {},
   "outputs": [
    {
     "data": {
      "text/plain": [
       "Index(['step', 'type', 'amount', 'oldbalanceOrg', 'newbalanceOrig',\n",
       "       'balance_diff', 'isFraud'],\n",
       "      dtype='object')"
      ]
     },
     "execution_count": 82,
     "metadata": {},
     "output_type": "execute_result"
    }
   ],
   "source": [
    "balancing_data.columns"
   ]
  },
  {
   "cell_type": "code",
   "execution_count": 83,
   "id": "a4c3cf2c",
   "metadata": {},
   "outputs": [],
   "source": [
    "x = balancing_data.iloc[:,:-1]\n",
    "y = balancing_data['isFraud']"
   ]
  },
  {
   "cell_type": "code",
   "execution_count": 84,
   "id": "9759a525",
   "metadata": {},
   "outputs": [
    {
     "data": {
      "text/html": [
       "<div>\n",
       "<style scoped>\n",
       "    .dataframe tbody tr th:only-of-type {\n",
       "        vertical-align: middle;\n",
       "    }\n",
       "\n",
       "    .dataframe tbody tr th {\n",
       "        vertical-align: top;\n",
       "    }\n",
       "\n",
       "    .dataframe thead th {\n",
       "        text-align: right;\n",
       "    }\n",
       "</style>\n",
       "<table border=\"1\" class=\"dataframe\">\n",
       "  <thead>\n",
       "    <tr style=\"text-align: right;\">\n",
       "      <th></th>\n",
       "      <th>step</th>\n",
       "      <th>type</th>\n",
       "      <th>amount</th>\n",
       "      <th>oldbalanceOrg</th>\n",
       "      <th>newbalanceOrig</th>\n",
       "      <th>balance_diff</th>\n",
       "    </tr>\n",
       "  </thead>\n",
       "  <tbody>\n",
       "    <tr>\n",
       "      <th>3173502</th>\n",
       "      <td>238</td>\n",
       "      <td>0</td>\n",
       "      <td>170495.91</td>\n",
       "      <td>2916.00</td>\n",
       "      <td>173411.91</td>\n",
       "      <td>-170495.91</td>\n",
       "    </tr>\n",
       "    <tr>\n",
       "      <th>5609553</th>\n",
       "      <td>394</td>\n",
       "      <td>3</td>\n",
       "      <td>69372.71</td>\n",
       "      <td>50695.00</td>\n",
       "      <td>0.00</td>\n",
       "      <td>50695.00</td>\n",
       "    </tr>\n",
       "    <tr>\n",
       "      <th>6194970</th>\n",
       "      <td>573</td>\n",
       "      <td>1</td>\n",
       "      <td>229438.77</td>\n",
       "      <td>0.00</td>\n",
       "      <td>0.00</td>\n",
       "      <td>0.00</td>\n",
       "    </tr>\n",
       "    <tr>\n",
       "      <th>956075</th>\n",
       "      <td>44</td>\n",
       "      <td>4</td>\n",
       "      <td>154645.27</td>\n",
       "      <td>23200.56</td>\n",
       "      <td>0.00</td>\n",
       "      <td>23200.56</td>\n",
       "    </tr>\n",
       "    <tr>\n",
       "      <th>3364505</th>\n",
       "      <td>254</td>\n",
       "      <td>3</td>\n",
       "      <td>12637.96</td>\n",
       "      <td>0.00</td>\n",
       "      <td>0.00</td>\n",
       "      <td>0.00</td>\n",
       "    </tr>\n",
       "    <tr>\n",
       "      <th>...</th>\n",
       "      <td>...</td>\n",
       "      <td>...</td>\n",
       "      <td>...</td>\n",
       "      <td>...</td>\n",
       "      <td>...</td>\n",
       "      <td>...</td>\n",
       "    </tr>\n",
       "    <tr>\n",
       "      <th>6362615</th>\n",
       "      <td>743</td>\n",
       "      <td>1</td>\n",
       "      <td>339682.13</td>\n",
       "      <td>339682.13</td>\n",
       "      <td>0.00</td>\n",
       "      <td>339682.13</td>\n",
       "    </tr>\n",
       "    <tr>\n",
       "      <th>6362616</th>\n",
       "      <td>743</td>\n",
       "      <td>4</td>\n",
       "      <td>6311409.28</td>\n",
       "      <td>6311409.28</td>\n",
       "      <td>0.00</td>\n",
       "      <td>6311409.28</td>\n",
       "    </tr>\n",
       "    <tr>\n",
       "      <th>6362617</th>\n",
       "      <td>743</td>\n",
       "      <td>1</td>\n",
       "      <td>6311409.28</td>\n",
       "      <td>6311409.28</td>\n",
       "      <td>0.00</td>\n",
       "      <td>6311409.28</td>\n",
       "    </tr>\n",
       "    <tr>\n",
       "      <th>6362618</th>\n",
       "      <td>743</td>\n",
       "      <td>4</td>\n",
       "      <td>850002.52</td>\n",
       "      <td>850002.52</td>\n",
       "      <td>0.00</td>\n",
       "      <td>850002.52</td>\n",
       "    </tr>\n",
       "    <tr>\n",
       "      <th>6362619</th>\n",
       "      <td>743</td>\n",
       "      <td>1</td>\n",
       "      <td>850002.52</td>\n",
       "      <td>850002.52</td>\n",
       "      <td>0.00</td>\n",
       "      <td>850002.52</td>\n",
       "    </tr>\n",
       "  </tbody>\n",
       "</table>\n",
       "<p>16426 rows × 6 columns</p>\n",
       "</div>"
      ],
      "text/plain": [
       "         step  type      amount  oldbalanceOrg  newbalanceOrig  balance_diff\n",
       "3173502   238     0   170495.91        2916.00       173411.91    -170495.91\n",
       "5609553   394     3    69372.71       50695.00            0.00      50695.00\n",
       "6194970   573     1   229438.77           0.00            0.00          0.00\n",
       "956075     44     4   154645.27       23200.56            0.00      23200.56\n",
       "3364505   254     3    12637.96           0.00            0.00          0.00\n",
       "...       ...   ...         ...            ...             ...           ...\n",
       "6362615   743     1   339682.13      339682.13            0.00     339682.13\n",
       "6362616   743     4  6311409.28     6311409.28            0.00    6311409.28\n",
       "6362617   743     1  6311409.28     6311409.28            0.00    6311409.28\n",
       "6362618   743     4   850002.52      850002.52            0.00     850002.52\n",
       "6362619   743     1   850002.52      850002.52            0.00     850002.52\n",
       "\n",
       "[16426 rows x 6 columns]"
      ]
     },
     "execution_count": 84,
     "metadata": {},
     "output_type": "execute_result"
    }
   ],
   "source": [
    "x"
   ]
  },
  {
   "cell_type": "code",
   "execution_count": 85,
   "id": "8ef498f3",
   "metadata": {},
   "outputs": [
    {
     "data": {
      "text/plain": [
       "3173502    0\n",
       "5609553    0\n",
       "6194970    0\n",
       "956075     0\n",
       "3364505    0\n",
       "          ..\n",
       "6362615    1\n",
       "6362616    1\n",
       "6362617    1\n",
       "6362618    1\n",
       "6362619    1\n",
       "Name: isFraud, Length: 16426, dtype: int64"
      ]
     },
     "execution_count": 85,
     "metadata": {},
     "output_type": "execute_result"
    }
   ],
   "source": [
    "y"
   ]
  },
  {
   "cell_type": "markdown",
   "id": "56181751",
   "metadata": {},
   "source": [
    "## Training the model"
   ]
  },
  {
   "cell_type": "code",
   "execution_count": 86,
   "id": "f814b42a",
   "metadata": {},
   "outputs": [],
   "source": [
    "from sklearn.model_selection import train_test_split\n",
    "x_train,x_test,y_train,y_test=train_test_split(x,y,test_size=0.2,random_state=1)"
   ]
  },
  {
   "cell_type": "code",
   "execution_count": 87,
   "id": "7d5ceb8a",
   "metadata": {},
   "outputs": [],
   "source": [
    "from sklearn.preprocessing import StandardScaler\n",
    "sc=StandardScaler()\n",
    "x_train=sc.fit_transform(x_train)\n",
    "x_test=sc.transform(x_test)"
   ]
  },
  {
   "cell_type": "code",
   "execution_count": 88,
   "id": "6b906c9e",
   "metadata": {},
   "outputs": [
    {
     "name": "stdout",
     "output_type": "stream",
     "text": [
      "Requirement already satisfied: xgboost in c:\\users\\hriti\\anaconda3\\lib\\site-packages (1.7.5)\n",
      "Requirement already satisfied: numpy in c:\\users\\hriti\\anaconda3\\lib\\site-packages (from xgboost) (1.21.5)\n",
      "Requirement already satisfied: scipy in c:\\users\\hriti\\anaconda3\\lib\\site-packages (from xgboost) (1.9.1)\n"
     ]
    }
   ],
   "source": [
    "!pip install xgboost"
   ]
  },
  {
   "cell_type": "markdown",
   "id": "2cf78daf",
   "metadata": {},
   "source": [
    "### Importing all the algorithm necessory to build the model and to check which one give better prediction"
   ]
  },
  {
   "cell_type": "code",
   "execution_count": 89,
   "id": "5ac32bba",
   "metadata": {},
   "outputs": [],
   "source": [
    "from sklearn.linear_model import LogisticRegression\n",
    "from sklearn.neighbors import KNeighborsClassifier\n",
    "from sklearn.svm import SVC\n",
    "from sklearn.naive_bayes import GaussianNB\n",
    "from sklearn.tree import DecisionTreeClassifier\n",
    "from sklearn.ensemble import RandomForestClassifier\n",
    "from xgboost import XGBClassifier\n",
    "from sklearn.metrics import confusion_matrix, accuracy_score, precision_score, recall_score, f1_score,classification_report"
   ]
  },
  {
   "cell_type": "code",
   "execution_count": 90,
   "id": "f48efb01",
   "metadata": {},
   "outputs": [
    {
     "name": "stdout",
     "output_type": "stream",
     "text": [
      "*****************************************************************************************************************\n",
      "\n",
      "Here i have imported all the algorithm that i will be applying on my model that i have created.\n",
      "\n",
      " The algorithm i will be applying on my model are as following :-\n",
      " LogisticRegression()\n",
      " KNeighborsClassifier()\n",
      " DecisionTreeClassifier()\n",
      " RandomForestClassifier()\n",
      " XGBClassifier()\n",
      " Naive Bayes()\n",
      " support vector machine()\n"
     ]
    }
   ],
   "source": [
    "print(\"*****************************************************************************************************************\\n\\nHere i have imported all the algorithm that i will be applying on my model that i have created.\\n\\n The algorithm i will be applying on my model are as following :-\\n LogisticRegression()\\n KNeighborsClassifier()\\n DecisionTreeClassifier()\\n RandomForestClassifier()\\n XGBClassifier()\\n Naive Bayes()\\n support vector machine()\")"
   ]
  },
  {
   "cell_type": "code",
   "execution_count": 91,
   "id": "318f37a1",
   "metadata": {},
   "outputs": [],
   "source": [
    "models = {\n",
    "    \"LR\": LogisticRegression(),\n",
    "    \"KNN\": KNeighborsClassifier(),\n",
    "    \"DT\": DecisionTreeClassifier(),\n",
    "    \"RF\": RandomForestClassifier(),\n",
    "    \"XGB\": XGBClassifier(),\n",
    "    \"Naive Bayes\": GaussianNB(),\n",
    "    \"SVC\": SVC()}"
   ]
  },
  {
   "cell_type": "markdown",
   "id": "1251203b",
   "metadata": {},
   "source": [
    "## Applying all the possible model to check the accuracy prediction"
   ]
  },
  {
   "cell_type": "code",
   "execution_count": 92,
   "id": "62698951",
   "metadata": {},
   "outputs": [
    {
     "name": "stdout",
     "output_type": "stream",
     "text": [
      "Training Model LR \n",
      "-----------------\n",
      "Training Accuracy: 0.9049467275494673\n",
      "Testing Accuracy: 0.8959220937309799\n",
      "Testing Confusion Matrix: \n",
      "[[1580   63]\n",
      " [ 279 1364]]\n",
      "              precision    recall  f1-score   support\n",
      "\n",
      "           0       0.85      0.96      0.90      1643\n",
      "           1       0.96      0.83      0.89      1643\n",
      "\n",
      "    accuracy                           0.90      3286\n",
      "   macro avg       0.90      0.90      0.90      3286\n",
      "weighted avg       0.90      0.90      0.90      3286\n",
      "\n",
      "*******************************************************\n",
      "Training Model KNN \n",
      "-----------------\n",
      "Training Accuracy: 0.9763318112633181\n",
      "Testing Accuracy: 0.9659160073037127\n",
      "Testing Confusion Matrix: \n",
      "[[1563   80]\n",
      " [  32 1611]]\n",
      "              precision    recall  f1-score   support\n",
      "\n",
      "           0       0.98      0.95      0.97      1643\n",
      "           1       0.95      0.98      0.97      1643\n",
      "\n",
      "    accuracy                           0.97      3286\n",
      "   macro avg       0.97      0.97      0.97      3286\n",
      "weighted avg       0.97      0.97      0.97      3286\n",
      "\n",
      "*******************************************************\n",
      "Training Model DT \n",
      "-----------------\n",
      "Training Accuracy: 1.0\n",
      "Testing Accuracy: 0.9884357881923311\n",
      "Testing Confusion Matrix: \n",
      "[[1618   25]\n",
      " [  13 1630]]\n",
      "              precision    recall  f1-score   support\n",
      "\n",
      "           0       0.99      0.98      0.99      1643\n",
      "           1       0.98      0.99      0.99      1643\n",
      "\n",
      "    accuracy                           0.99      3286\n",
      "   macro avg       0.99      0.99      0.99      3286\n",
      "weighted avg       0.99      0.99      0.99      3286\n",
      "\n",
      "*******************************************************\n",
      "Training Model RF \n",
      "-----------------\n",
      "Training Accuracy: 1.0\n",
      "Testing Accuracy: 0.992696287279367\n",
      "Testing Confusion Matrix: \n",
      "[[1625   18]\n",
      " [   6 1637]]\n",
      "              precision    recall  f1-score   support\n",
      "\n",
      "           0       1.00      0.99      0.99      1643\n",
      "           1       0.99      1.00      0.99      1643\n",
      "\n",
      "    accuracy                           0.99      3286\n",
      "   macro avg       0.99      0.99      0.99      3286\n",
      "weighted avg       0.99      0.99      0.99      3286\n",
      "\n",
      "*******************************************************\n",
      "Training Model XGB \n",
      "-----------------\n",
      "Training Accuracy: 0.9991628614916286\n",
      "Testing Accuracy: 0.9936092513694461\n",
      "Testing Confusion Matrix: \n",
      "[[1627   16]\n",
      " [   5 1638]]\n",
      "              precision    recall  f1-score   support\n",
      "\n",
      "           0       1.00      0.99      0.99      1643\n",
      "           1       0.99      1.00      0.99      1643\n",
      "\n",
      "    accuracy                           0.99      3286\n",
      "   macro avg       0.99      0.99      0.99      3286\n",
      "weighted avg       0.99      0.99      0.99      3286\n",
      "\n",
      "*******************************************************\n",
      "Training Model Naive Bayes \n",
      "-----------------\n",
      "Training Accuracy: 0.7995433789954338\n",
      "Testing Accuracy: 0.7918441874619598\n",
      "Testing Confusion Matrix: \n",
      "[[1603   40]\n",
      " [ 644  999]]\n",
      "              precision    recall  f1-score   support\n",
      "\n",
      "           0       0.71      0.98      0.82      1643\n",
      "           1       0.96      0.61      0.74      1643\n",
      "\n",
      "    accuracy                           0.79      3286\n",
      "   macro avg       0.84      0.79      0.78      3286\n",
      "weighted avg       0.84      0.79      0.78      3286\n",
      "\n",
      "*******************************************************\n",
      "Training Model SVC \n",
      "-----------------\n",
      "Training Accuracy: 0.9292237442922374\n",
      "Testing Accuracy: 0.9236153377967133\n",
      "Testing Confusion Matrix: \n",
      "[[1543  100]\n",
      " [ 151 1492]]\n",
      "              precision    recall  f1-score   support\n",
      "\n",
      "           0       0.91      0.94      0.92      1643\n",
      "           1       0.94      0.91      0.92      1643\n",
      "\n",
      "    accuracy                           0.92      3286\n",
      "   macro avg       0.92      0.92      0.92      3286\n",
      "weighted avg       0.92      0.92      0.92      3286\n",
      "\n",
      "*******************************************************\n"
     ]
    }
   ],
   "source": [
    "for name, model in models.items():\n",
    "    print(f'Training Model {name} \\n-----------------')\n",
    "    model.fit(x_train, y_train)\n",
    "    y_pred = model.predict(x_test)\n",
    "    print(f'Training Accuracy: {accuracy_score(y_train, model.predict(x_train))}')\n",
    "    print(f'Testing Accuracy: {accuracy_score(y_test, y_pred)}')\n",
    "    print(f'Testing Confusion Matrix: \\n{confusion_matrix(y_test, y_pred)}')\n",
    "    \n",
    "    print(classification_report(y_test,y_pred))\n",
    "    \n",
    "    print('*******************************************************')"
   ]
  },
  {
   "cell_type": "markdown",
   "id": "a1c4378e",
   "metadata": {},
   "source": [
    "# Model Scoring"
   ]
  },
  {
   "cell_type": "code",
   "execution_count": 103,
   "id": "72461813",
   "metadata": {},
   "outputs": [
    {
     "name": "stdout",
     "output_type": "stream",
     "text": [
      "For Logistic Regression WE got the result :\n",
      "\n",
      " 1. Accuracy :: 0.90%\n",
      "\n",
      "2. Re-call :: 0.96%\n",
      "\n",
      "3. Precision :: 0.85%\n",
      "\n",
      "4. F1-Score :: 0.90%\n"
     ]
    }
   ],
   "source": [
    "print(\"For Logistic Regression WE got the result :\\n\\n 1. Accuracy :: 0.90%\\n\\n2. Re-call :: 0.96%\\n\\n3. Precision :: 0.85%\\n\\n4. F1-Score :: 0.90%\")"
   ]
  },
  {
   "cell_type": "code",
   "execution_count": 104,
   "id": "dbe68c89",
   "metadata": {},
   "outputs": [
    {
     "name": "stdout",
     "output_type": "stream",
     "text": [
      "For KNeighborsClassifier WE got the result :\n",
      "\n",
      " 1. Accuracy :: 0.97%\n",
      "\n",
      "2. Re-call :: 0.95%\n",
      "\n",
      "3. Precision :: 0.98%\n",
      "\n",
      "4. F1-Score :: 0.97%\n"
     ]
    }
   ],
   "source": [
    "print(\"For KNeighborsClassifier WE got the result :\\n\\n 1. Accuracy :: 0.97%\\n\\n2. Re-call :: 0.95%\\n\\n3. Precision :: 0.98%\\n\\n4. F1-Score :: 0.97%\")"
   ]
  },
  {
   "cell_type": "code",
   "execution_count": 105,
   "id": "badedd51",
   "metadata": {},
   "outputs": [
    {
     "name": "stdout",
     "output_type": "stream",
     "text": [
      "For DecisionTreeClassifier WE got the result :\n",
      "\n",
      " 1. Accuracy :: 0.99%\n",
      "\n",
      "2. Re-call :: 0.98%\n",
      "\n",
      "3. Precision :: 0.99%\n",
      "\n",
      "4. F1-Score :: 0.99%\n"
     ]
    }
   ],
   "source": [
    "print(\"For DecisionTreeClassifier WE got the result :\\n\\n 1. Accuracy :: 0.99%\\n\\n2. Re-call :: 0.98%\\n\\n3. Precision :: 0.99%\\n\\n4. F1-Score :: 0.99%\")"
   ]
  },
  {
   "cell_type": "code",
   "execution_count": 106,
   "id": "06014976",
   "metadata": {},
   "outputs": [
    {
     "name": "stdout",
     "output_type": "stream",
     "text": [
      "For RandomForestClassifier WE got the result :\n",
      "\n",
      " 1. Accuracy :: 0.97%\n",
      "\n",
      "2. Re-call :: 0.97%\n",
      "\n",
      "3. Precision :: 96.00%\n",
      "\n",
      "4. F1-Score :: 0.97%\n"
     ]
    }
   ],
   "source": [
    "print(\"For RandomForestClassifier WE got the result :\\n\\n 1. Accuracy :: 0.97%\\n\\n2. Re-call :: 0.97%\\n\\n3. Precision :: 96.00%\\n\\n4. F1-Score :: 0.97%\")"
   ]
  },
  {
   "cell_type": "code",
   "execution_count": 97,
   "id": "e6799296",
   "metadata": {},
   "outputs": [
    {
     "name": "stdout",
     "output_type": "stream",
     "text": [
      "For XGBClassifier WE got the result :\n",
      "\n",
      " 1. Accuracy :: 0.99%\n",
      "\n",
      "2. Re-call :: 0.99%\n",
      "\n",
      "3. Precision :: 1.00%\n",
      "\n",
      "4. F1-Score :: 0.99%\n"
     ]
    }
   ],
   "source": [
    "print(\"For XGBClassifier WE got the result :\\n\\n 1. Accuracy :: 0.99%\\n\\n2. Re-call :: 0.99%\\n\\n3. Precision :: 1.00%\\n\\n4. F1-Score :: 0.99%\")"
   ]
  },
  {
   "cell_type": "code",
   "execution_count": 98,
   "id": "c65cecb2",
   "metadata": {},
   "outputs": [
    {
     "name": "stdout",
     "output_type": "stream",
     "text": [
      "For Naive Bayes WE got the result :\n",
      "\n",
      " 1. Accuracy :: 0.80%\n",
      "\n",
      "2. Re-call :: 0.98%\n",
      "\n",
      "3. Precision :: 0.72%\n",
      "\n",
      "4. F1-Score :: 0.83%\n"
     ]
    }
   ],
   "source": [
    "print(\"For Naive Bayes WE got the result :\\n\\n 1. Accuracy :: 0.80%\\n\\n2. Re-call :: 0.98%\\n\\n3. Precision :: 0.72%\\n\\n4. F1-Score :: 0.83%\")"
   ]
  },
  {
   "cell_type": "code",
   "execution_count": 107,
   "id": "6f846e07",
   "metadata": {},
   "outputs": [
    {
     "name": "stdout",
     "output_type": "stream",
     "text": [
      "For Support vector machine WE got the result :\n",
      "\n",
      " 1. Accuracy :: 92%\n",
      "\n",
      "2. Re-call :: 94%\n",
      "\n",
      "3. Precision :: 91%\n",
      "\n",
      "4. F1-Score :: 92%\n"
     ]
    }
   ],
   "source": [
    "print(\"For Support vector machine WE got the result :\\n\\n 1. Accuracy :: 92%\\n\\n2. Re-call :: 94%\\n\\n3. Precision :: 91%\\n\\n4. F1-Score :: 92%\")"
   ]
  },
  {
   "cell_type": "markdown",
   "id": "c01465f0",
   "metadata": {},
   "source": [
    "## Observation :\n",
    "* DecisionTreeClassifier\n",
    "* RandomForestClassifier\n",
    "* XGBClassifier\n",
    "\n",
    "\n",
    "\n",
    "*These classifiers giving the best accuracy*"
   ]
  },
  {
   "cell_type": "markdown",
   "id": "a593527d",
   "metadata": {},
   "source": [
    "Applying the xgboost algorithm "
   ]
  },
  {
   "cell_type": "code",
   "execution_count": 100,
   "id": "13bade1f",
   "metadata": {},
   "outputs": [
    {
     "name": "stdout",
     "output_type": "stream",
     "text": [
      "XGBClassifier(base_score=None, booster=None, callbacks=None,\n",
      "              colsample_bylevel=None, colsample_bynode=None,\n",
      "              colsample_bytree=None, early_stopping_rounds=None,\n",
      "              enable_categorical=False, eval_metric=None, feature_types=None,\n",
      "              gamma=None, gpu_id=None, grow_policy=None, importance_type=None,\n",
      "              interaction_constraints=None, learning_rate=None, max_bin=None,\n",
      "              max_cat_threshold=None, max_cat_to_onehot=None,\n",
      "              max_delta_step=None, max_depth=None, max_leaves=None,\n",
      "              min_child_weight=None, missing=nan, monotone_constraints=None,\n",
      "              n_estimators=100, n_jobs=None, num_parallel_tree=None,\n",
      "              predictor=None, random_state=None, ...)\n"
     ]
    }
   ],
   "source": [
    "model = XGBClassifier()\n",
    "model.fit(x_train, y_train)\n",
    "print(model)"
   ]
  },
  {
   "cell_type": "markdown",
   "id": "c31e0fb7",
   "metadata": {},
   "source": [
    "## evaluate predictions"
   ]
  },
  {
   "cell_type": "code",
   "execution_count": 101,
   "id": "669ab749",
   "metadata": {
    "scrolled": true
   },
   "outputs": [
    {
     "name": "stdout",
     "output_type": "stream",
     "text": [
      "              precision    recall  f1-score   support\n",
      "\n",
      "           0       1.00      0.99      0.99      1643\n",
      "           1       0.99      1.00      0.99      1643\n",
      "\n",
      "    accuracy                           0.99      3286\n",
      "   macro avg       0.99      0.99      0.99      3286\n",
      "weighted avg       0.99      0.99      0.99      3286\n",
      "\n"
     ]
    }
   ],
   "source": [
    "xgb=XGBClassifier()\n",
    "xgb.fit(x_train,y_train)\n",
    "y_pred=xgb.predict(x_test)\n",
    "print(classification_report(y_test,y_pred))"
   ]
  },
  {
   "cell_type": "code",
   "execution_count": 102,
   "id": "5cb0a298",
   "metadata": {},
   "outputs": [
    {
     "name": "stdout",
     "output_type": "stream",
     "text": [
      "is Fraud\n"
     ]
    }
   ],
   "source": [
    "if  model.predict([[3,339682.13 ,339682.13 ,0.00,339682.13]])[0] == 0:\n",
    "    print('not Fraud')\n",
    "else: print('is Fraud')"
   ]
  },
  {
   "cell_type": "code",
   "execution_count": null,
   "id": "cd2f9a1b",
   "metadata": {},
   "outputs": [],
   "source": []
  },
  {
   "cell_type": "code",
   "execution_count": null,
   "id": "7d3a80e4",
   "metadata": {},
   "outputs": [],
   "source": []
  },
  {
   "cell_type": "code",
   "execution_count": null,
   "id": "2efcdcaa",
   "metadata": {},
   "outputs": [],
   "source": []
  },
  {
   "cell_type": "code",
   "execution_count": null,
   "id": "465ccfbc",
   "metadata": {},
   "outputs": [],
   "source": []
  },
  {
   "cell_type": "code",
   "execution_count": null,
   "id": "8dd38a51",
   "metadata": {},
   "outputs": [],
   "source": []
  },
  {
   "cell_type": "code",
   "execution_count": null,
   "id": "dc73307f",
   "metadata": {},
   "outputs": [],
   "source": []
  }
 ],
 "metadata": {
  "kernelspec": {
   "display_name": "Python 3 (ipykernel)",
   "language": "python",
   "name": "python3"
  },
  "language_info": {
   "codemirror_mode": {
    "name": "ipython",
    "version": 3
   },
   "file_extension": ".py",
   "mimetype": "text/x-python",
   "name": "python",
   "nbconvert_exporter": "python",
   "pygments_lexer": "ipython3",
   "version": "3.9.13"
  }
 },
 "nbformat": 4,
 "nbformat_minor": 5
}
